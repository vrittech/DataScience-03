{
 "cells": [
  {
   "cell_type": "code",
   "execution_count": 1,
   "id": "a56738a8-f03b-4e70-8c90-dcb44089f374",
   "metadata": {},
   "outputs": [],
   "source": [
    "import numpy as np\n",
    "import matplotlib.pyplot as plt\n",
    "import seaborn as sns"
   ]
  },
  {
   "cell_type": "code",
   "execution_count": 2,
   "id": "7ff3c252-a5ae-45a0-a53a-a98acff412a5",
   "metadata": {},
   "outputs": [],
   "source": [
    "from sklearn.metrics import accuracy_score, classification_report"
   ]
  },
  {
   "cell_type": "code",
   "execution_count": 3,
   "id": "673aaef7-237f-41c0-a798-538143e2a252",
   "metadata": {},
   "outputs": [],
   "source": [
    "from keras.models import Sequential\n",
    "from keras.layers import Dense, Flatten, Conv2D, MaxPool2D, Dropout\n",
    "from keras.optimizers import SGD, Adam, RMSprop, Adagrad, Adadelta"
   ]
  },
  {
   "cell_type": "code",
   "execution_count": 4,
   "id": "9c305bc8-1472-47b5-9d11-f7579642fc40",
   "metadata": {},
   "outputs": [],
   "source": [
    "from keras.activations import relu, sigmoid, softmax\n",
    "from keras.losses import categorical_crossentropy"
   ]
  },
  {
   "cell_type": "code",
   "execution_count": 5,
   "id": "d1908038-1dc8-43ff-a422-cd296e9c08a3",
   "metadata": {},
   "outputs": [],
   "source": [
    "from keras.datasets import cifar10"
   ]
  },
  {
   "cell_type": "code",
   "execution_count": 6,
   "id": "8bde673c-3168-48d8-8907-d70933838299",
   "metadata": {},
   "outputs": [],
   "source": [
    "(X_train, y_train), (X_test, y_test) = cifar10.load_data()"
   ]
  },
  {
   "cell_type": "code",
   "execution_count": 7,
   "id": "14afffac-e651-4d70-b023-01d0d96070a9",
   "metadata": {},
   "outputs": [],
   "source": [
    "labels = ['airplane', 'automobile', 'bird', 'cat', 'deer', 'dog', 'frog', 'horse', 'ship', 'truck']"
   ]
  },
  {
   "cell_type": "code",
   "execution_count": 8,
   "id": "02353e61-9181-4630-ab79-aa7ef8c49e18",
   "metadata": {},
   "outputs": [
    {
     "data": {
      "text/plain": [
       "(50000, 32, 32, 3)"
      ]
     },
     "execution_count": 8,
     "metadata": {},
     "output_type": "execute_result"
    }
   ],
   "source": [
    "X_train.shape"
   ]
  },
  {
   "cell_type": "code",
   "execution_count": 9,
   "id": "212a9a44-109d-4980-b795-680730ae9809",
   "metadata": {},
   "outputs": [
    {
     "data": {
      "image/png": "[encoded data removed]",
      "text/plain": [
       "<Figure size 640x480 with 1 Axes>"
      ]
     },
     "metadata": {},
     "output_type": "display_data"
    }
   ],
   "source": [
    "img_index = 12456\n",
    "plt.imshow(X_train[img_index],)\n",
    "object = y_train[img_index][0]\n",
    "object = labels[object]\n",
    "plt.title(object)\n",
    "plt.show()"
   ]
  },
  {
   "cell_type": "code",
   "execution_count": 10,
   "id": "efa5b8da-545c-4af9-b01a-19c15f1ebf05",
   "metadata": {},
   "outputs": [
    {
     "name": "stdout",
     "output_type": "stream",
     "text": [
      "Model: \"sequential\"\n",
      "_________________________________________________________________\n",
      " Layer (type)                Output Shape              Param #   \n",
      "=================================================================\n",
      " conv2d (Conv2D)             (None, 30, 30, 5)         140       \n",
      "                                                                 \n",
      " dropout (Dropout)           (None, 30, 30, 5)         0         \n",
      "                                                                 \n",
      " max_pooling2d (MaxPooling2D  (None, 15, 15, 5)        0         \n",
      " )                                                               \n",
      "                                                                 \n",
      " conv2d_1 (Conv2D)           (None, 13, 13, 10)        460       \n",
      "                                                                 \n",
      " dropout_1 (Dropout)         (None, 13, 13, 10)        0         \n",
      "                                                                 \n",
      " max_pooling2d_1 (MaxPooling  (None, 6, 6, 10)         0         \n",
      " 2D)                                                             \n",
      "                                                                 \n",
      " conv2d_2 (Conv2D)           (None, 4, 4, 20)          1820      \n",
      "                                                                 \n",
      " dropout_2 (Dropout)         (None, 4, 4, 20)          0         \n",
      "                                                                 \n",
      " conv2d_3 (Conv2D)           (None, 2, 2, 40)          7240      \n",
      "                                                                 \n",
      " dropout_3 (Dropout)         (None, 2, 2, 40)          0         \n",
      "                                                                 \n",
      " max_pooling2d_2 (MaxPooling  (None, 1, 1, 40)         0         \n",
      " 2D)                                                             \n",
      "                                                                 \n",
      " flatten (Flatten)           (None, 40)                0         \n",
      "                                                                 \n",
      " dense (Dense)               (None, 64)                2624      \n",
      "                                                                 \n",
      " dense_1 (Dense)             (None, 10)                650       \n",
      "                                                                 \n",
      "=================================================================\n",
      "Total params: 12,934\n",
      "Trainable params: 12,934\n",
      "Non-trainable params: 0\n",
      "_________________________________________________________________\n"
     ]
    }
   ],
   "source": [
    "cnn = Sequential()\n",
    "\n",
    "cnn.add(Conv2D(input_shape=(32, 32, 3), filters=5, kernel_size=(3, 3), activation='relu'))\n",
    "cnn.add(Dropout(0.2))\n",
    "cnn.add(MaxPool2D())\n",
    "\n",
    "cnn.add(Conv2D(filters=10, kernel_size=(3, 3), activation='relu'))\n",
    "cnn.add(Dropout(0.2))\n",
    "cnn.add(MaxPool2D())\n",
    "\n",
    "cnn.add(Conv2D(filters=20, kernel_size=(3, 3), activation='relu'))\n",
    "cnn.add(Dropout(0.2))\n",
    "# cnn.add(MaxPool2D())\n",
    "\n",
    "cnn.add(Conv2D(filters=40, kernel_size=(3, 3), activation='relu'))\n",
    "cnn.add(Dropout(0.2))\n",
    "cnn.add(MaxPool2D())\n",
    "\n",
    "\n",
    "cnn.add(Flatten())\n",
    "\n",
    "cnn.add(Dense(units=64, activation='relu'))\n",
    "cnn.add(Dense(units=10, activation='softmax', ))\n",
    "\n",
    "cnn.compile(loss='categorical_crossentropy', metrics=['acc'], optimizer=Adam(learning_rate=0.001))\n",
    "\n",
    "cnn.summary()"
   ]
  },
  {
   "cell_type": "code",
   "execution_count": 11,
   "id": "2cee2f2a-dbef-4ff2-a766-f23f553b28f0",
   "metadata": {},
   "outputs": [],
   "source": [
    "X_train = X_train / 255\n",
    "X_test = X_test / 255"
   ]
  },
  {
   "cell_type": "code",
   "execution_count": 12,
   "id": "1be6cd3e-d827-4980-9ae0-6ea16b1722b9",
   "metadata": {},
   "outputs": [],
   "source": [
    "from keras.utils import to_categorical"
   ]
  },
  {
   "cell_type": "code",
   "execution_count": 13,
   "id": "4a821be8-6b18-480a-9755-3cba96bfffbc",
   "metadata": {},
   "outputs": [],
   "source": [
    "y_train = to_categorical(y_train)"
   ]
  },
  {
   "cell_type": "code",
   "execution_count": 14,
   "id": "023ad327-4137-4008-ada6-9c7000b83251",
   "metadata": {},
   "outputs": [],
   "source": [
    "from keras.callbacks import EarlyStopping, ModelCheckpoint"
   ]
  },
  {
   "cell_type": "code",
   "execution_count": 15,
   "id": "51007001-81c2-4da4-bbf0-624b5951bbab",
   "metadata": {},
   "outputs": [],
   "source": [
    "es = EarlyStopping(monitor='val_loss', patience=5)\n",
    "\n",
    "checkpoint = ModelCheckpoint(filepath='cnn_checkpoint.h5',\n",
    "                            save_best_only=True,\n",
    "                            save_weights_only=False)"
   ]
  },
  {
   "cell_type": "code",
   "execution_count": 16,
   "id": "e24473aa-ac64-4abe-a1bd-d4204eebdb23",
   "metadata": {},
   "outputs": [
    {
     "name": "stdout",
     "output_type": "stream",
     "text": [
      "Epoch 1/100\n",
      "1329/1329 [==============================] - 18s 13ms/step - loss: 1.8603 - acc: 0.3117 - val_loss: 1.7258 - val_acc: 0.3924\n",
      "Epoch 2/100\n",
      "1329/1329 [==============================] - 17s 13ms/step - loss: 1.5852 - acc: 0.4221 - val_loss: 1.6758 - val_acc: 0.3972\n",
      "Epoch 3/100\n",
      "1329/1329 [==============================] - 16s 12ms/step - loss: 1.5039 - acc: 0.4515 - val_loss: 1.5991 - val_acc: 0.4359\n",
      "Epoch 4/100\n",
      "1329/1329 [==============================] - 16s 12ms/step - loss: 1.4472 - acc: 0.4709 - val_loss: 1.5271 - val_acc: 0.4707\n",
      "Epoch 5/100\n",
      "1329/1329 [==============================] - 15s 11ms/step - loss: 1.4206 - acc: 0.4827 - val_loss: 1.6309 - val_acc: 0.4149\n",
      "Epoch 6/100\n",
      "1329/1329 [==============================] - 16s 12ms/step - loss: 1.3900 - acc: 0.4942 - val_loss: 1.5074 - val_acc: 0.4552\n",
      "Epoch 7/100\n",
      "1329/1329 [==============================] - 16s 12ms/step - loss: 1.3685 - acc: 0.5056 - val_loss: 1.5425 - val_acc: 0.4675\n",
      "Epoch 8/100\n",
      "1329/1329 [==============================] - 17s 13ms/step - loss: 1.3452 - acc: 0.5153 - val_loss: 1.5144 - val_acc: 0.4657\n",
      "Epoch 9/100\n",
      "1329/1329 [==============================] - 16s 12ms/step - loss: 1.3265 - acc: 0.5222 - val_loss: 1.4653 - val_acc: 0.4809\n",
      "Epoch 10/100\n",
      "1329/1329 [==============================] - 16s 12ms/step - loss: 1.3084 - acc: 0.5312 - val_loss: 1.5756 - val_acc: 0.4497\n",
      "Epoch 11/100\n",
      "1329/1329 [==============================] - 17s 12ms/step - loss: 1.2930 - acc: 0.5354 - val_loss: 1.4275 - val_acc: 0.4957\n",
      "Epoch 12/100\n",
      "1329/1329 [==============================] - 16s 12ms/step - loss: 1.2870 - acc: 0.5395 - val_loss: 1.4717 - val_acc: 0.4868\n",
      "Epoch 13/100\n",
      "1329/1329 [==============================] - 17s 12ms/step - loss: 1.2692 - acc: 0.5458 - val_loss: 1.4260 - val_acc: 0.5097\n",
      "Epoch 14/100\n",
      "1329/1329 [==============================] - 17s 13ms/step - loss: 1.2640 - acc: 0.5449 - val_loss: 1.4014 - val_acc: 0.5060\n",
      "Epoch 15/100\n",
      "1329/1329 [==============================] - 16s 12ms/step - loss: 1.2531 - acc: 0.5498 - val_loss: 1.4234 - val_acc: 0.4927\n",
      "Epoch 16/100\n",
      "1329/1329 [==============================] - 17s 13ms/step - loss: 1.2469 - acc: 0.5539 - val_loss: 1.3750 - val_acc: 0.5205\n",
      "Epoch 17/100\n",
      "1329/1329 [==============================] - 17s 13ms/step - loss: 1.2366 - acc: 0.5560 - val_loss: 1.3757 - val_acc: 0.5032\n",
      "Epoch 18/100\n",
      "1329/1329 [==============================] - 17s 13ms/step - loss: 1.2279 - acc: 0.5609 - val_loss: 1.4152 - val_acc: 0.5028\n",
      "Epoch 19/100\n",
      "1329/1329 [==============================] - 18s 13ms/step - loss: 1.2211 - acc: 0.5622 - val_loss: 1.3605 - val_acc: 0.5131\n",
      "Epoch 20/100\n",
      "1329/1329 [==============================] - 17s 13ms/step - loss: 1.2106 - acc: 0.5676 - val_loss: 1.4034 - val_acc: 0.5131\n",
      "Epoch 21/100\n",
      "1329/1329 [==============================] - 17s 13ms/step - loss: 1.2110 - acc: 0.5676 - val_loss: 1.4158 - val_acc: 0.5045\n",
      "Epoch 22/100\n",
      "1329/1329 [==============================] - 17s 12ms/step - loss: 1.1987 - acc: 0.5707 - val_loss: 1.4693 - val_acc: 0.4781\n",
      "Epoch 23/100\n",
      "1329/1329 [==============================] - 16s 12ms/step - loss: 1.1980 - acc: 0.5733 - val_loss: 1.3814 - val_acc: 0.5184\n",
      "Epoch 24/100\n",
      "1329/1329 [==============================] - 17s 12ms/step - loss: 1.1924 - acc: 0.5740 - val_loss: 1.2977 - val_acc: 0.5513\n",
      "Epoch 25/100\n",
      "1329/1329 [==============================] - 17s 13ms/step - loss: 1.1871 - acc: 0.5764 - val_loss: 1.6252 - val_acc: 0.4579\n",
      "Epoch 26/100\n",
      "1329/1329 [==============================] - 17s 13ms/step - loss: 1.1843 - acc: 0.5767 - val_loss: 1.4733 - val_acc: 0.4931\n",
      "Epoch 27/100\n",
      "1329/1329 [==============================] - 17s 13ms/step - loss: 1.1798 - acc: 0.5814 - val_loss: 1.3794 - val_acc: 0.5125\n",
      "Epoch 28/100\n",
      "1329/1329 [==============================] - 18s 14ms/step - loss: 1.1757 - acc: 0.5821 - val_loss: 1.4328 - val_acc: 0.4965\n",
      "Epoch 29/100\n",
      "1329/1329 [==============================] - 19s 14ms/step - loss: 1.1755 - acc: 0.5809 - val_loss: 1.4744 - val_acc: 0.4799\n"
     ]
    },
    {
     "data": {
      "text/plain": [
       "<keras.callbacks.History at 0x12fb1a7b7f0>"
      ]
     },
     "execution_count": 16,
     "metadata": {},
     "output_type": "execute_result"
    }
   ],
   "source": [
    "cnn.fit(X_train, y_train, epochs=100,\n",
    "        callbacks=[es, checkpoint],\n",
    "        validation_split=0.15,\n",
    "        use_multiprocessing=True)"
   ]
  },
  {
   "cell_type": "code",
   "execution_count": 17,
   "id": "8b4f5424-7e53-4379-8591-d155007936bf",
   "metadata": {},
   "outputs": [
    {
     "name": "stdout",
     "output_type": "stream",
     "text": [
      "313/313 [==============================] - 1s 4ms/step\n"
     ]
    }
   ],
   "source": [
    "y_pred = cnn.predict(X_test)"
   ]
  },
  {
   "cell_type": "code",
   "execution_count": 18,
   "id": "05ec41fb-86b3-40f4-8e49-0abb557f343f",
   "metadata": {},
   "outputs": [],
   "source": [
    "y_pred_class = y_pred.argmax(axis=1)"
   ]
  },
  {
   "cell_type": "code",
   "execution_count": 19,
   "id": "64255d4e-b89c-4881-8cb5-7143c0479af4",
   "metadata": {},
   "outputs": [
    {
     "data": {
      "text/plain": [
       "array([6, 8, 8, 8, 4], dtype=int64)"
      ]
     },
     "execution_count": 19,
     "metadata": {},
     "output_type": "execute_result"
    }
   ],
   "source": [
    "y_pred_class[:5]"
   ]
  },
  {
   "cell_type": "code",
   "execution_count": 20,
   "id": "3b25c736-138b-43ea-a74d-157ced532399",
   "metadata": {},
   "outputs": [
    {
     "name": "stdout",
     "output_type": "stream",
     "text": [
      "              precision    recall  f1-score   support\n",
      "\n",
      "           0       0.78      0.29      0.43      1000\n",
      "           1       0.86      0.46      0.60      1000\n",
      "           2       0.40      0.44      0.42      1000\n",
      "           3       0.31      0.37      0.34      1000\n",
      "           4       0.27      0.84      0.41      1000\n",
      "           5       0.58      0.25      0.35      1000\n",
      "           6       0.54      0.58      0.56      1000\n",
      "           7       0.80      0.34      0.48      1000\n",
      "           8       0.56      0.74      0.63      1000\n",
      "           9       0.82      0.37      0.51      1000\n",
      "\n",
      "    accuracy                           0.47     10000\n",
      "   macro avg       0.59      0.47      0.47     10000\n",
      "weighted avg       0.59      0.47      0.47     10000\n",
      "\n"
     ]
    }
   ],
   "source": [
    "print(classification_report(y_test, y_pred_class))"
   ]
  },
  {
   "cell_type": "code",
   "execution_count": 27,
   "id": "0d25db57-00cb-4f74-a191-18fcf736807f",
   "metadata": {},
   "outputs": [
    {
     "data": {
      "image/png": "[encoded data removed]",
      "text/plain": [
       "<Figure size 640x480 with 1 Axes>"
      ]
     },
     "metadata": {},
     "output_type": "display_data"
    }
   ],
   "source": [
    "img_index = 6556\n",
    "\n",
    "object = y_test[img_index][0]\n",
    "object = labels[object]\n",
    "\n",
    "pred_obj = y_pred_class[img_index]\n",
    "pred_obj = labels[pred_obj]\n",
    "\n",
    "pred_proba = y_pred[img_index].max()\n",
    "pred_proba = int(pred_proba * 100)\n",
    "\n",
    "plt.imshow(X_test[img_index],)\n",
    "plt.title(f'Actual: {object}, Pred: {pred_obj} ({pred_proba}%)')\n",
    "plt.show()"
   ]
  },
  {
   "cell_type": "code",
   "execution_count": null,
   "id": "e3669ad1-4108-4dd4-8d63-1cc99d83483a",
   "metadata": {},
   "outputs": [],
   "source": []
  }
 ],
 "metadata": {
  "kernelspec": {
   "display_name": "Python 3 (ipykernel)",
   "language": "python",
   "name": "python3"
  },
  "language_info": {
   "codemirror_mode": {
    "name": "ipython",
    "version": 3
   },
   "file_extension": ".py",
   "mimetype": "text/x-python",
   "name": "python",
   "nbconvert_exporter": "python",
   "pygments_lexer": "ipython3",
   "version": "3.10.11"
  }
 },
 "nbformat": 4,
 "nbformat_minor": 5
}
