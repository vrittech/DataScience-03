{
 "cells": [
  {
   "cell_type": "code",
   "execution_count": 1,
   "id": "a7908a12-e06e-4fb9-b01c-84acaee35a7b",
   "metadata": {},
   "outputs": [],
   "source": [
    "import numpy as np\n",
    "import matplotlib.pyplot as plt"
   ]
  },
  {
   "cell_type": "code",
   "execution_count": 2,
   "id": "6e6214d6-edb1-4385-a643-522c4eae1ee5",
   "metadata": {},
   "outputs": [],
   "source": [
    "from sklearn.metrics import accuracy_score, classification_report"
   ]
  },
  {
   "cell_type": "code",
   "execution_count": 3,
   "id": "47b6c028-16ce-4a81-ac19-fe0a5c606b49",
   "metadata": {},
   "outputs": [],
   "source": [
    "from keras.utils import to_categorical"
   ]
  },
  {
   "cell_type": "code",
   "execution_count": 4,
   "id": "7d424bb9-565f-4996-9272-12b781ff39cd",
   "metadata": {},
   "outputs": [],
   "source": [
    "from keras.datasets import fashion_mnist"
   ]
  },
  {
   "cell_type": "code",
   "execution_count": 5,
   "id": "c5e3f1b9-a02e-4bbc-8178-2bf70fdb6c49",
   "metadata": {},
   "outputs": [],
   "source": [
    "from keras.models import Sequential\n",
    "from keras.layers import Dense, Conv2D, Dropout, Flatten, MaxPooling2D"
   ]
  },
  {
   "cell_type": "code",
   "execution_count": 6,
   "id": "b40a3d97-9159-4592-bc84-6a0406b9761e",
   "metadata": {},
   "outputs": [],
   "source": [
    "(X_train, y_train), (X_test, y_test) = fashion_mnist.load_data()"
   ]
  },
  {
   "cell_type": "code",
   "execution_count": 7,
   "id": "494a696b-52e6-4b60-a7cc-418d580ea04c",
   "metadata": {},
   "outputs": [
    {
     "data": {
      "text/plain": [
       "(60000, 28, 28)"
      ]
     },
     "execution_count": 7,
     "metadata": {},
     "output_type": "execute_result"
    }
   ],
   "source": [
    "X_train.shape"
   ]
  },
  {
   "cell_type": "code",
   "execution_count": 8,
   "id": "272e5e6f-53cb-4027-b181-e19bb2139a0e",
   "metadata": {},
   "outputs": [
    {
     "data": {
      "text/plain": [
       "(10000, 28, 28)"
      ]
     },
     "execution_count": 8,
     "metadata": {},
     "output_type": "execute_result"
    }
   ],
   "source": [
    "X_test.shape"
   ]
  },
  {
   "cell_type": "code",
   "execution_count": 9,
   "id": "2924485c-027f-4afe-908e-db0d08490e8e",
   "metadata": {},
   "outputs": [
    {
     "data": {
      "image/png": "[encoded data removed]",
      "text/plain": [
       "<Figure size 640x480 with 1 Axes>"
      ]
     },
     "metadata": {},
     "output_type": "display_data"
    }
   ],
   "source": [
    "img_index = 666\n",
    "plt.imshow(X_train[img_index], plt.cm.binary)\n",
    "plt.title(y_train[img_index])\n",
    "plt.show()"
   ]
  },
  {
   "cell_type": "code",
   "execution_count": 10,
   "id": "9defee8c-753a-4daa-a656-60f44794573a",
   "metadata": {},
   "outputs": [],
   "source": [
    "X_train = X_train.reshape(60_000, 28, 28, 1)\n",
    "X_test = np.expand_dims(X_test, axis=3)"
   ]
  },
  {
   "cell_type": "code",
   "execution_count": 11,
   "id": "de71c5b5-a8e6-490b-9414-f574bbebcc81",
   "metadata": {},
   "outputs": [],
   "source": [
    "X_train = X_train / 255\n",
    "X_test = X_test / 255"
   ]
  },
  {
   "cell_type": "code",
   "execution_count": 12,
   "id": "a329e6c2-8832-4647-87c7-6e63a165c048",
   "metadata": {},
   "outputs": [
    {
     "data": {
      "text/plain": [
       "(60000, 28, 28, 1)"
      ]
     },
     "execution_count": 12,
     "metadata": {},
     "output_type": "execute_result"
    }
   ],
   "source": [
    "X_train.shape"
   ]
  },
  {
   "cell_type": "code",
   "execution_count": 13,
   "id": "b3bdb0e4-55b2-4c97-af72-a99b01eb3588",
   "metadata": {},
   "outputs": [
    {
     "data": {
      "text/plain": [
       "array([0, 1, 2, 3, 4, 5, 6, 7, 8, 9], dtype=uint8)"
      ]
     },
     "execution_count": 13,
     "metadata": {},
     "output_type": "execute_result"
    }
   ],
   "source": [
    "np.unique(y_test)"
   ]
  },
  {
   "cell_type": "code",
   "execution_count": 14,
   "id": "ead8e26d-75ad-48ea-a43e-0fbf021af3be",
   "metadata": {},
   "outputs": [],
   "source": [
    "cnn = Sequential()\n",
    "\n",
    "cnn.add(Conv2D(filters=3, kernel_size=(3, 3), strides=(1, 1), activation='relu',input_shape=(28, 28, 1) ))\n",
    "cnn.add(Dropout(0.2))\n",
    "cnn.add(MaxPooling2D())\n",
    "\n",
    "cnn.add(Conv2D(filters=6, kernel_size=(3, 3), strides=(1, 1), activation='relu'))\n",
    "cnn.add(Dropout(0.2))\n",
    "cnn.add(MaxPooling2D())\n",
    "\n",
    "\n",
    "cnn.add(Conv2D(filters=12, kernel_size=(3, 3), strides=(1, 1), activation='relu'))\n",
    "cnn.add(Dropout(0.2))\n",
    "\n",
    "cnn.add(Conv2D(filters=24, kernel_size=(3, 3), strides=(1, 1), activation='relu'))\n",
    "cnn.add(Dropout(0.2))\n",
    "\n",
    "cnn.add(Flatten())\n",
    "cnn.add(Dense(units=64, activation='relu'))\n",
    "cnn.add(Dropout(0.2))\n",
    "cnn.add(Dense(units=10, activation='softmax'))\n",
    "\n",
    "cnn.compile(loss='categorical_crossentropy', optimizer='adam', metrics=['accuracy'])"
   ]
  },
  {
   "cell_type": "code",
   "execution_count": 15,
   "id": "1d081248-acfa-499d-bbb8-269b64bf8ee6",
   "metadata": {},
   "outputs": [
    {
     "name": "stdout",
     "output_type": "stream",
     "text": [
      "Model: \"sequential\"\n",
      "_________________________________________________________________\n",
      " Layer (type)                Output Shape              Param #   \n",
      "=================================================================\n",
      " conv2d (Conv2D)             (None, 26, 26, 3)         30        \n",
      "                                                                 \n",
      " dropout (Dropout)           (None, 26, 26, 3)         0         \n",
      "                                                                 \n",
      " max_pooling2d (MaxPooling2D  (None, 13, 13, 3)        0         \n",
      " )                                                               \n",
      "                                                                 \n",
      " conv2d_1 (Conv2D)           (None, 11, 11, 6)         168       \n",
      "                                                                 \n",
      " dropout_1 (Dropout)         (None, 11, 11, 6)         0         \n",
      "                                                                 \n",
      " max_pooling2d_1 (MaxPooling  (None, 5, 5, 6)          0         \n",
      " 2D)                                                             \n",
      "                                                                 \n",
      " conv2d_2 (Conv2D)           (None, 3, 3, 12)          660       \n",
      "                                                                 \n",
      " dropout_2 (Dropout)         (None, 3, 3, 12)          0         \n",
      "                                                                 \n",
      " conv2d_3 (Conv2D)           (None, 1, 1, 24)          2616      \n",
      "                                                                 \n",
      " dropout_3 (Dropout)         (None, 1, 1, 24)          0         \n",
      "                                                                 \n",
      " flatten (Flatten)           (None, 24)                0         \n",
      "                                                                 \n",
      " dense (Dense)               (None, 64)                1600      \n",
      "                                                                 \n",
      " dropout_4 (Dropout)         (None, 64)                0         \n",
      "                                                                 \n",
      " dense_1 (Dense)             (None, 10)                650       \n",
      "                                                                 \n",
      "=================================================================\n",
      "Total params: 5,724\n",
      "Trainable params: 5,724\n",
      "Non-trainable params: 0\n",
      "_________________________________________________________________\n"
     ]
    }
   ],
   "source": [
    "cnn.summary()"
   ]
  },
  {
   "cell_type": "code",
   "execution_count": 16,
   "id": "6de0f1da-c974-4c03-9057-08eee4e15e4f",
   "metadata": {},
   "outputs": [],
   "source": [
    "from keras.callbacks import EarlyStopping, ModelCheckpoint"
   ]
  },
  {
   "cell_type": "code",
   "execution_count": 17,
   "id": "c7a07028-aafb-4475-a7ae-29035a3c8369",
   "metadata": {},
   "outputs": [],
   "source": [
    "es = EarlyStopping(monitor='val_loss', patience=5)\n",
    "\n",
    "checkpoint = ModelCheckpoint(filepath='cnn_checkpoint.h5',\n",
    "                            save_best_only=True,\n",
    "                            save_weights_only=False)"
   ]
  },
  {
   "cell_type": "code",
   "execution_count": 18,
   "id": "9b9397a6-53e6-4ffe-83f4-a476bbc8d53f",
   "metadata": {},
   "outputs": [],
   "source": [
    "y_train = to_categorical(y_train)"
   ]
  },
  {
   "cell_type": "code",
   "execution_count": 19,
   "id": "d03c869f-93a2-42a9-978e-1271ce987327",
   "metadata": {},
   "outputs": [
    {
     "name": "stdout",
     "output_type": "stream",
     "text": [
      "Epoch 1/100\n",
      "1594/1594 [==============================] - 14s 8ms/step - loss: 0.9228 - accuracy: 0.6477 - val_loss: 0.6395 - val_accuracy: 0.7732\n",
      "Epoch 2/100\n",
      "1594/1594 [==============================] - 12s 7ms/step - loss: 0.6734 - accuracy: 0.7427 - val_loss: 0.5805 - val_accuracy: 0.7866\n",
      "Epoch 3/100\n",
      "1594/1594 [==============================] - 12s 8ms/step - loss: 0.6261 - accuracy: 0.7623 - val_loss: 0.5442 - val_accuracy: 0.8078\n",
      "Epoch 4/100\n",
      "1594/1594 [==============================] - 12s 8ms/step - loss: 0.5928 - accuracy: 0.7785 - val_loss: 0.5091 - val_accuracy: 0.8219\n",
      "Epoch 5/100\n",
      "1594/1594 [==============================] - 12s 8ms/step - loss: 0.5727 - accuracy: 0.7851 - val_loss: 0.5030 - val_accuracy: 0.8276\n",
      "Epoch 6/100\n",
      "1594/1594 [==============================] - 12s 8ms/step - loss: 0.5542 - accuracy: 0.7929 - val_loss: 0.5020 - val_accuracy: 0.8206\n",
      "Epoch 7/100\n",
      "1594/1594 [==============================] - 12s 8ms/step - loss: 0.5424 - accuracy: 0.7990 - val_loss: 0.4697 - val_accuracy: 0.8332\n",
      "Epoch 8/100\n",
      "1594/1594 [==============================] - 12s 8ms/step - loss: 0.5291 - accuracy: 0.8043 - val_loss: 0.4635 - val_accuracy: 0.8329\n",
      "Epoch 9/100\n",
      "1594/1594 [==============================] - 12s 8ms/step - loss: 0.5255 - accuracy: 0.8078 - val_loss: 0.4672 - val_accuracy: 0.8364\n",
      "Epoch 10/100\n",
      "1594/1594 [==============================] - 12s 8ms/step - loss: 0.5232 - accuracy: 0.8086 - val_loss: 0.4592 - val_accuracy: 0.8357\n",
      "Epoch 11/100\n",
      "1594/1594 [==============================] - 12s 8ms/step - loss: 0.5157 - accuracy: 0.8100 - val_loss: 0.4590 - val_accuracy: 0.8366\n",
      "Epoch 12/100\n",
      "1594/1594 [==============================] - 12s 8ms/step - loss: 0.5140 - accuracy: 0.8113 - val_loss: 0.4471 - val_accuracy: 0.8376\n",
      "Epoch 13/100\n",
      "1594/1594 [==============================] - 12s 8ms/step - loss: 0.5090 - accuracy: 0.8138 - val_loss: 0.4444 - val_accuracy: 0.8387\n",
      "Epoch 14/100\n",
      "1594/1594 [==============================] - 12s 8ms/step - loss: 0.5049 - accuracy: 0.8140 - val_loss: 0.4668 - val_accuracy: 0.8374\n",
      "Epoch 15/100\n",
      "1594/1594 [==============================] - 12s 7ms/step - loss: 0.5019 - accuracy: 0.8135 - val_loss: 0.4626 - val_accuracy: 0.8308\n",
      "Epoch 16/100\n",
      "1594/1594 [==============================] - 12s 8ms/step - loss: 0.4996 - accuracy: 0.8171 - val_loss: 0.4409 - val_accuracy: 0.8380\n",
      "Epoch 17/100\n",
      "1594/1594 [==============================] - 12s 8ms/step - loss: 0.5001 - accuracy: 0.8185 - val_loss: 0.4525 - val_accuracy: 0.8359\n",
      "Epoch 18/100\n",
      "1594/1594 [==============================] - 12s 8ms/step - loss: 0.4895 - accuracy: 0.8183 - val_loss: 0.4500 - val_accuracy: 0.8377\n",
      "Epoch 19/100\n",
      "1594/1594 [==============================] - 12s 8ms/step - loss: 0.4874 - accuracy: 0.8206 - val_loss: 0.4500 - val_accuracy: 0.8359\n",
      "Epoch 20/100\n",
      "1594/1594 [==============================] - 12s 7ms/step - loss: 0.4938 - accuracy: 0.8190 - val_loss: 0.4393 - val_accuracy: 0.8428\n",
      "Epoch 21/100\n",
      "1594/1594 [==============================] - 12s 8ms/step - loss: 0.4899 - accuracy: 0.8215 - val_loss: 0.4383 - val_accuracy: 0.8388\n",
      "Epoch 22/100\n",
      "1594/1594 [==============================] - 12s 8ms/step - loss: 0.4891 - accuracy: 0.8212 - val_loss: 0.4566 - val_accuracy: 0.8329\n",
      "Epoch 23/100\n",
      "1594/1594 [==============================] - 12s 7ms/step - loss: 0.4881 - accuracy: 0.8210 - val_loss: 0.4583 - val_accuracy: 0.8329\n",
      "Epoch 24/100\n",
      "1594/1594 [==============================] - 12s 7ms/step - loss: 0.4857 - accuracy: 0.8209 - val_loss: 0.4412 - val_accuracy: 0.8400\n",
      "Epoch 25/100\n",
      "1594/1594 [==============================] - 12s 7ms/step - loss: 0.4818 - accuracy: 0.8250 - val_loss: 0.4327 - val_accuracy: 0.8408\n",
      "Epoch 26/100\n",
      "1594/1594 [==============================] - 12s 8ms/step - loss: 0.4839 - accuracy: 0.8240 - val_loss: 0.4502 - val_accuracy: 0.8379\n",
      "Epoch 27/100\n",
      "1594/1594 [==============================] - 12s 8ms/step - loss: 0.4839 - accuracy: 0.8241 - val_loss: 0.4230 - val_accuracy: 0.8483\n",
      "Epoch 28/100\n",
      "1594/1594 [==============================] - 12s 8ms/step - loss: 0.4813 - accuracy: 0.8233 - val_loss: 0.4368 - val_accuracy: 0.8403\n",
      "Epoch 29/100\n",
      "1594/1594 [==============================] - 13s 8ms/step - loss: 0.4771 - accuracy: 0.8224 - val_loss: 0.4401 - val_accuracy: 0.8407\n",
      "Epoch 30/100\n",
      "1594/1594 [==============================] - 12s 8ms/step - loss: 0.4767 - accuracy: 0.8257 - val_loss: 0.4590 - val_accuracy: 0.8309\n",
      "Epoch 31/100\n",
      "1594/1594 [==============================] - 12s 8ms/step - loss: 0.4752 - accuracy: 0.8270 - val_loss: 0.4321 - val_accuracy: 0.8418\n",
      "Epoch 32/100\n",
      "1594/1594 [==============================] - 12s 8ms/step - loss: 0.4779 - accuracy: 0.8253 - val_loss: 0.4416 - val_accuracy: 0.8347\n"
     ]
    },
    {
     "data": {
      "text/plain": [
       "<keras.callbacks.History at 0x20784e513c0>"
      ]
     },
     "execution_count": 19,
     "metadata": {},
     "output_type": "execute_result"
    }
   ],
   "source": [
    "cnn.fit(X_train, y_train, epochs=100,\n",
    "        callbacks=[es, checkpoint],\n",
    "        validation_split=0.15,\n",
    "        use_multiprocessing=True)"
   ]
  },
  {
   "cell_type": "code",
   "execution_count": 20,
   "id": "d4d34c7e-d346-4232-80c6-848ba1d8fa6e",
   "metadata": {},
   "outputs": [
    {
     "name": "stdout",
     "output_type": "stream",
     "text": [
      "313/313 [==============================] - 1s 2ms/step\n"
     ]
    }
   ],
   "source": [
    "y_pred = cnn.predict(X_test)"
   ]
  },
  {
   "cell_type": "code",
   "execution_count": 21,
   "id": "f6ed4ac5-413c-40c9-ae79-b77f3d46e8db",
   "metadata": {},
   "outputs": [
    {
     "data": {
      "text/plain": [
       "array([[6.60241767e-07, 1.43394470e-08, 5.79117143e-10, 1.70325848e-07,\n",
       "        1.21831023e-09, 5.64474706e-03, 2.98078682e-08, 3.73943537e-01,\n",
       "        2.37600470e-05, 6.20387137e-01],\n",
       "       [2.91775283e-03, 1.15635994e-04, 9.14627016e-01, 6.45977154e-04,\n",
       "        2.91337520e-02, 1.02495292e-08, 5.19630350e-02, 3.53065382e-10,\n",
       "        5.96856582e-04, 9.64221503e-09],\n",
       "       [9.80255876e-08, 9.99999404e-01, 6.75308809e-10, 4.77961180e-07,\n",
       "        2.82064470e-08, 1.04098819e-18, 1.59129669e-08, 4.37292888e-22,\n",
       "        1.85195789e-10, 7.99081311e-22],\n",
       "       [1.81815485e-05, 9.99460042e-01, 7.21173762e-07, 5.00437454e-04,\n",
       "        1.21971480e-05, 1.00847694e-12, 8.38093820e-06, 1.53778821e-15,\n",
       "        8.21306045e-08, 1.59126405e-15],\n",
       "       [2.36606091e-01, 2.47863063e-04, 1.53474838e-01, 1.92420818e-02,\n",
       "        1.82823278e-02, 3.87738919e-06, 5.68305433e-01, 3.08417299e-07,\n",
       "        3.81811569e-03, 1.89546172e-05]], dtype=float32)"
      ]
     },
     "execution_count": 21,
     "metadata": {},
     "output_type": "execute_result"
    }
   ],
   "source": [
    "y_pred[:5]"
   ]
  },
  {
   "cell_type": "code",
   "execution_count": 22,
   "id": "b143651e-76b4-45b4-a9c6-cfbed3b018b2",
   "metadata": {},
   "outputs": [
    {
     "data": {
      "text/plain": [
       "array([1.8181549e-05, 9.9946004e-01, 7.2117376e-07, 5.0043745e-04,\n",
       "       1.2197148e-05, 1.0084769e-12, 8.3809382e-06, 1.5377882e-15,\n",
       "       8.2130605e-08, 1.5912640e-15], dtype=float32)"
      ]
     },
     "execution_count": 22,
     "metadata": {},
     "output_type": "execute_result"
    }
   ],
   "source": [
    "y_pred[3]"
   ]
  },
  {
   "cell_type": "code",
   "execution_count": 23,
   "id": "c8539c2d-d383-4a1c-9bd6-b8b82a6553b8",
   "metadata": {},
   "outputs": [
    {
     "data": {
      "text/plain": [
       "1"
      ]
     },
     "execution_count": 23,
     "metadata": {},
     "output_type": "execute_result"
    }
   ],
   "source": [
    "np.argmax(y_pred[3])"
   ]
  },
  {
   "cell_type": "code",
   "execution_count": 24,
   "id": "1feeebec-f30d-446b-9aac-d6f4de31cac8",
   "metadata": {},
   "outputs": [],
   "source": [
    "y_pred_class = np.argmax(y_pred, axis=1)"
   ]
  },
  {
   "cell_type": "code",
   "execution_count": 25,
   "id": "aa275f0c-fd28-4ef2-8c8d-68661a10d8f8",
   "metadata": {},
   "outputs": [
    {
     "data": {
      "text/plain": [
       "array([9, 2, 1, ..., 8, 1, 7], dtype=int64)"
      ]
     },
     "execution_count": 25,
     "metadata": {},
     "output_type": "execute_result"
    }
   ],
   "source": [
    "y_pred_class"
   ]
  },
  {
   "cell_type": "code",
   "execution_count": 26,
   "id": "39727213-08a0-43e5-ac2d-5fea59a5c7c0",
   "metadata": {},
   "outputs": [
    {
     "data": {
      "text/plain": [
       "array([9, 2, 1, 1, 6], dtype=int64)"
      ]
     },
     "execution_count": 26,
     "metadata": {},
     "output_type": "execute_result"
    }
   ],
   "source": [
    "y_pred_class[:5]"
   ]
  },
  {
   "cell_type": "code",
   "execution_count": 27,
   "id": "62a25249-4881-43a8-b9bb-e324531a6c52",
   "metadata": {},
   "outputs": [
    {
     "data": {
      "text/plain": [
       "array([9, 2, 1, 1, 6], dtype=uint8)"
      ]
     },
     "execution_count": 27,
     "metadata": {},
     "output_type": "execute_result"
    }
   ],
   "source": [
    "y_test[:5]"
   ]
  },
  {
   "cell_type": "code",
   "execution_count": 28,
   "id": "c860bc64-107e-45d2-89b0-ef177122bfc0",
   "metadata": {},
   "outputs": [],
   "source": [
    "from sklearn.metrics import confusion_matrix, classification_report"
   ]
  },
  {
   "cell_type": "code",
   "execution_count": 29,
   "id": "242d7b37-619b-429a-92fe-0c3f231c5b52",
   "metadata": {},
   "outputs": [
    {
     "name": "stdout",
     "output_type": "stream",
     "text": [
      "              precision    recall  f1-score   support\n",
      "\n",
      "           0       0.81      0.80      0.80      1000\n",
      "           1       0.99      0.96      0.98      1000\n",
      "           2       0.74      0.82      0.77      1000\n",
      "           3       0.82      0.90      0.86      1000\n",
      "           4       0.83      0.45      0.58      1000\n",
      "           5       0.98      0.92      0.95      1000\n",
      "           6       0.48      0.64      0.55      1000\n",
      "           7       0.86      0.98      0.91      1000\n",
      "           8       0.97      0.95      0.96      1000\n",
      "           9       0.96      0.90      0.93      1000\n",
      "\n",
      "    accuracy                           0.83     10000\n",
      "   macro avg       0.84      0.83      0.83     10000\n",
      "weighted avg       0.84      0.83      0.83     10000\n",
      "\n"
     ]
    }
   ],
   "source": [
    "print(classification_report(y_test, y_pred_class))"
   ]
  },
  {
   "cell_type": "code",
   "execution_count": 30,
   "id": "f0a8974e-64e6-411f-9614-12ffda5a31b5",
   "metadata": {},
   "outputs": [],
   "source": [
    "import seaborn as sns"
   ]
  },
  {
   "cell_type": "code",
   "execution_count": 31,
   "id": "c6b99a08-f2d1-45fc-a880-5782feb13deb",
   "metadata": {},
   "outputs": [
    {
     "data": {
      "image/png": "[encoded data removed]",
      "text/plain": [
       "<Figure size 640x480 with 2 Axes>"
      ]
     },
     "metadata": {},
     "output_type": "display_data"
    }
   ],
   "source": [
    "sns.heatmap(confusion_matrix(y_test, y_pred_class), annot=True, fmt='.3g')\n",
    "plt.xlabel('Actual')\n",
    "plt.ylabel('Predicted')\n",
    "plt.show()"
   ]
  },
  {
   "cell_type": "code",
   "execution_count": 32,
   "id": "d53de4a6-c3ce-4826-a037-3739cd4b7c17",
   "metadata": {},
   "outputs": [
    {
     "data": {
      "image/png": "[encoded data removed]",
      "text/plain": [
       "<Figure size 640x480 with 1 Axes>"
      ]
     },
     "metadata": {},
     "output_type": "display_data"
    }
   ],
   "source": [
    "img_index = 8956\n",
    "plt.imshow(X_test[img_index], plt.cm.binary)\n",
    "\n",
    "predicted = y_pred_class[img_index]\n",
    "predicted_proba = np.max(y_pred[img_index]) * 100\n",
    "plt.title(f'Actual: {y_test[img_index]}, Predicted: {predicted} ({int(predicted_proba)})%')\n",
    "\n",
    "plt.show()"
   ]
  },
  {
   "cell_type": "code",
   "execution_count": null,
   "id": "58963776-4352-4605-88bd-7b007afe8aaf",
   "metadata": {},
   "outputs": [],
   "source": []
  }
 ],
 "metadata": {
  "kernelspec": {
   "display_name": "Python 3 (ipykernel)",
   "language": "python",
   "name": "python3"
  },
  "language_info": {
   "codemirror_mode": {
    "name": "ipython",
    "version": 3
   },
   "file_extension": ".py",
   "mimetype": "text/x-python",
   "name": "python",
   "nbconvert_exporter": "python",
   "pygments_lexer": "ipython3",
   "version": "3.10.11"
  }
 },
 "nbformat": 4,
 "nbformat_minor": 5
}
