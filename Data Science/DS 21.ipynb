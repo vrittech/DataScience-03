{
 "cells": [
  {
   "cell_type": "code",
   "execution_count": 1,
   "id": "3ad6a165-ab0d-47c5-bfd8-e4160b02fdf9",
   "metadata": {},
   "outputs": [],
   "source": [
    "import numpy as np\n",
    "import matplotlib.pyplot as plt"
   ]
  },
  {
   "cell_type": "code",
   "execution_count": 2,
   "id": "a5879b21-22ce-45f7-9f24-8f18811b923d",
   "metadata": {},
   "outputs": [],
   "source": [
    "from tqdm import tqdm"
   ]
  },
  {
   "cell_type": "code",
   "execution_count": 3,
   "id": "9ceea088-6c2f-4c20-a41d-4eab4cccb283",
   "metadata": {},
   "outputs": [],
   "source": [
    "from keras.models import Sequential, Model\n",
    "from keras.layers import Dense, Input, BatchNormalization"
   ]
  },
  {
   "cell_type": "code",
   "execution_count": 4,
   "id": "ca3f7605-fca0-4182-8d91-80084b459891",
   "metadata": {},
   "outputs": [],
   "source": [
    "from keras.datasets import mnist"
   ]
  },
  {
   "cell_type": "code",
   "execution_count": 5,
   "id": "6d818199-9e98-47eb-8a53-87c86556e36a",
   "metadata": {},
   "outputs": [],
   "source": [
    "(X, _), (_, _) = mnist.load_data()"
   ]
  },
  {
   "cell_type": "code",
   "execution_count": 6,
   "id": "6559a1b2-37ba-440b-b0fb-64d568657759",
   "metadata": {},
   "outputs": [
    {
     "data": {
      "text/plain": [
       "(60000, 28, 28)"
      ]
     },
     "execution_count": 6,
     "metadata": {},
     "output_type": "execute_result"
    }
   ],
   "source": [
    "X.shape"
   ]
  },
  {
   "cell_type": "code",
   "execution_count": 7,
   "id": "7f1833dd-d954-4ae8-a975-805efe9d330e",
   "metadata": {},
   "outputs": [
    {
     "data": {
      "text/plain": [
       "784"
      ]
     },
     "execution_count": 7,
     "metadata": {},
     "output_type": "execute_result"
    }
   ],
   "source": [
    "28 * 28"
   ]
  },
  {
   "cell_type": "code",
   "execution_count": 8,
   "id": "3fe1c17b-5bfa-4aaa-991e-be2aa7f3fcc8",
   "metadata": {},
   "outputs": [],
   "source": [
    "X = X.reshape(60_000, 784)"
   ]
  },
  {
   "cell_type": "code",
   "execution_count": 9,
   "id": "8bccd00b-80ec-499c-9bd3-2357c270db71",
   "metadata": {},
   "outputs": [
    {
     "name": "stdout",
     "output_type": "stream",
     "text": [
      "Model: \"sequential\"\n",
      "_________________________________________________________________\n",
      " Layer (type)                Output Shape              Param #   \n",
      "=================================================================\n",
      " dense (Dense)               (None, 256)               200960    \n",
      "                                                                 \n",
      " dense_1 (Dense)             (None, 64)                16448     \n",
      "                                                                 \n",
      " dense_2 (Dense)             (None, 24)                1560      \n",
      "                                                                 \n",
      " dense_3 (Dense)             (None, 64)                1600      \n",
      "                                                                 \n",
      " dense_4 (Dense)             (None, 1)                 65        \n",
      "                                                                 \n",
      "=================================================================\n",
      "Total params: 220,633\n",
      "Trainable params: 220,633\n",
      "Non-trainable params: 0\n",
      "_________________________________________________________________\n"
     ]
    }
   ],
   "source": [
    "discriminator = Sequential()\n",
    "\n",
    "discriminator.add(Dense(input_dim=784, units=256, activation='relu'))\n",
    "\n",
    "discriminator.add(Dense(units=64, activation='relu'))\n",
    "discriminator.add(Dense(units=24, activation='relu'))\n",
    "discriminator.add(Dense(units=64, activation='relu'))\n",
    "discriminator.add(Dense(units=1, activation='sigmoid'))\n",
    "\n",
    "discriminator.compile(loss='binary_crossentropy', optimizer='adam')\n",
    "\n",
    "discriminator.summary()"
   ]
  },
  {
   "cell_type": "code",
   "execution_count": 10,
   "id": "68248d33-a4e3-428c-a056-60e5e05634c6",
   "metadata": {},
   "outputs": [],
   "source": [
    "noise_dim = 100"
   ]
  },
  {
   "cell_type": "code",
   "execution_count": 11,
   "id": "2f9a34a6-abba-4e92-be2b-9a333e522924",
   "metadata": {},
   "outputs": [
    {
     "name": "stdout",
     "output_type": "stream",
     "text": [
      "Model: \"sequential_1\"\n",
      "_________________________________________________________________\n",
      " Layer (type)                Output Shape              Param #   \n",
      "=================================================================\n",
      " dense_5 (Dense)             (None, 128)               12928     \n",
      "                                                                 \n",
      " batch_normalization (BatchN  (None, 128)              512       \n",
      " ormalization)                                                   \n",
      "                                                                 \n",
      " dense_6 (Dense)             (None, 256)               33024     \n",
      "                                                                 \n",
      " batch_normalization_1 (Batc  (None, 256)              1024      \n",
      " hNormalization)                                                 \n",
      "                                                                 \n",
      " dense_7 (Dense)             (None, 512)               131584    \n",
      "                                                                 \n",
      " batch_normalization_2 (Batc  (None, 512)              2048      \n",
      " hNormalization)                                                 \n",
      "                                                                 \n",
      " dense_8 (Dense)             (None, 784)               402192    \n",
      "                                                                 \n",
      "=================================================================\n",
      "Total params: 583,312\n",
      "Trainable params: 581,520\n",
      "Non-trainable params: 1,792\n",
      "_________________________________________________________________\n"
     ]
    }
   ],
   "source": [
    "generator = Sequential()\n",
    "\n",
    "generator.add(Dense(units=128, activation='relu', input_dim=noise_dim))\n",
    "generator.add(BatchNormalization())\n",
    "\n",
    "generator.add(Dense(units=256, activation='relu',))\n",
    "generator.add(BatchNormalization())\n",
    "\n",
    "generator.add(Dense(units=512, activation='relu',))\n",
    "generator.add(BatchNormalization())\n",
    "\n",
    "generator.add(Dense(units=784, activation='relu',))\n",
    "\n",
    "generator.compile(loss='mae', optimizer='adam')\n",
    "\n",
    "generator.summary()"
   ]
  },
  {
   "cell_type": "code",
   "execution_count": 12,
   "id": "00c45f33-f2ab-4484-8dc6-2545668c8dbe",
   "metadata": {},
   "outputs": [
    {
     "name": "stdout",
     "output_type": "stream",
     "text": [
      "Model: \"model\"\n",
      "_________________________________________________________________\n",
      " Layer (type)                Output Shape              Param #   \n",
      "=================================================================\n",
      " dense_5_input (InputLayer)  [(None, 100)]             0         \n",
      "                                                                 \n",
      " sequential_1 (Sequential)   (None, 784)               583312    \n",
      "                                                                 \n",
      " sequential (Sequential)     (None, 1)                 220633    \n",
      "                                                                 \n",
      "=================================================================\n",
      "Total params: 803,945\n",
      "Trainable params: 581,520\n",
      "Non-trainable params: 222,425\n",
      "_________________________________________________________________\n"
     ]
    }
   ],
   "source": [
    "discriminator.trainable = False\n",
    "\n",
    "gan_input = generator.input\n",
    "\n",
    "gen_output = generator(gan_input)\n",
    "dis_output = discriminator(gen_output)\n",
    "\n",
    "gan = Model(inputs=gan_input, outputs=dis_output)\n",
    "\n",
    "gan.compile(loss='binary_crossentropy', optimizer='adam')\n",
    "\n",
    "gan.summary()"
   ]
  },
  {
   "cell_type": "code",
   "execution_count": 13,
   "id": "a539491b-1e26-4e21-8e55-469f4b91c734",
   "metadata": {},
   "outputs": [],
   "source": [
    "losses = {\n",
    "    'D': [],\n",
    "    'G': []\n",
    "}"
   ]
  },
  {
   "cell_type": "code",
   "execution_count": 14,
   "id": "97eca061-2803-43e7-b054-274fd135b9f8",
   "metadata": {},
   "outputs": [],
   "source": [
    "def plot_loss(losses):\n",
    "    d_loss = losses['D']\n",
    "    g_loss = losses['G']\n",
    "\n",
    "    plt.figure(figsize=(10, 8))\n",
    "    plt.plot(d_loss, label='Discriminator Loss', c='g')\n",
    "    plt.plot(g_loss, label='Generator Loss', g='b')\n",
    "    plt.xlabel('Epochs')\n",
    "    plt.ylabel('Loss')\n",
    "    plt.legend()\n",
    "    plt.show()\n",
    "\n",
    "def plot_generated(n_ex=10, dim=(1, 10), figsize=(12, 2)):\n",
    "    noise = np.random.normal(0, 1, size=(n_ex, noise_dim))\n",
    "    generated_images = generator.predict(noise)\n",
    "    generated_images = generated_images.reshape(n_ex, 28, 28)\n",
    "\n",
    "    plt.figure(figsize=figsize)\n",
    "    for i in range(generated_images.shape[0]):\n",
    "        plt.subplot(dim[0], dim[1], i+1)\n",
    "        plt.imshow(generated_images[i], cmap='gray_r')\n",
    "        plt.axis('off')\n",
    "    plt.tight_layout()\n",
    "    plt.show()"
   ]
  },
  {
   "cell_type": "code",
   "execution_count": 15,
   "id": "b4428a93-ed95-4a88-93d2-1d1f286ecaa7",
   "metadata": {},
   "outputs": [
    {
     "name": "stdout",
     "output_type": "stream",
     "text": [
      "1/1 [==============================] - 0s 140ms/step\n"
     ]
    },
    {
     "data": {
      "image/png": "[encoded data removed]",
      "text/plain": [
       "<Figure size 1200x200 with 10 Axes>"
      ]
     },
     "metadata": {},
     "output_type": "display_data"
    }
   ],
   "source": [
    "plot_generated()"
   ]
  },
  {
   "cell_type": "code",
   "execution_count": 16,
   "id": "24cb3a56-cd0d-4e5d-a493-1539101c543d",
   "metadata": {},
   "outputs": [
    {
     "data": {
      "text/plain": [
       "60000"
      ]
     },
     "execution_count": 16,
     "metadata": {},
     "output_type": "execute_result"
    }
   ],
   "source": [
    "X.shape[0]"
   ]
  },
  {
   "cell_type": "code",
   "execution_count": 17,
   "id": "9bce7322-0d02-43de-8cd4-300042f888aa",
   "metadata": {},
   "outputs": [
    {
     "data": {
      "text/plain": [
       "58"
      ]
     },
     "execution_count": 17,
     "metadata": {},
     "output_type": "execute_result"
    }
   ],
   "source": [
    "X.shape[0] // 1024"
   ]
  },
  {
   "cell_type": "code",
   "execution_count": 18,
   "id": "54082cb7-ec82-474d-8edb-8c62ba3e43bc",
   "metadata": {},
   "outputs": [],
   "source": [
    "def fit(epochs=20, plot_interval=5, batch_size=1024):\n",
    "    no_of_batches = X.shape[0] // 1024\n",
    "    for i in tqdm(range(1, epochs+1), desc='Training Progress'):\n",
    "        print(f'------------- Epoch {i} -------------')\n",
    "        for j in range(no_of_batches):\n",
    "            # Taking Real Images \n",
    "            batch_images = X[np.random.randint(0, 60_000, size=batch_size)]\n",
    "            \n",
    "            # Taking Fake Images (images from geneator)\n",
    "            random_noise = np.random.normal(0, 1, size=(batch_size, noise_dim))\n",
    "            generated_image = generator.predict(random_noise, verbose=0)\n",
    "            \n",
    "            # preparing datset with half fake and half real images\n",
    "            X_train = np.concatenate((batch_images, generated_image))\n",
    "            y_train = np.concatenate((np.ones(batch_size), np.zeros(batch_size)))\n",
    "            \n",
    "            # Training Discriminator only\n",
    "            discriminator.trainable = True\n",
    "            dis_loss = discriminator.train_on_batch(X_train, y_train)\n",
    "            \n",
    "            # Training Generator only (GAN)\n",
    "            discriminator.trainable = False\n",
    "            X_gan = np.random.normal(0, 1, size=(batch_size*2, noise_dim))\n",
    "            y_gan = np.ones(batch_size*2)\n",
    "            gan_loss = gan.train_on_batch(X_gan, y_gan)\n",
    "        losses['D'].append(dis_loss)\n",
    "        losses['G'].append(gan_loss)\n",
    "        if i == 1 or i%5 == 0:\n",
    "            plot_generated()"
   ]
  },
  {
   "cell_type": "code",
   "execution_count": null,
   "id": "9c6b1f5f-407a-46d5-818f-81bc05a52c4b",
   "metadata": {},
   "outputs": [
    {
     "name": "stderr",
     "output_type": "stream",
     "text": [
      "Training Progress:   0%|                                                                        | 0/20 [00:00<?, ?it/s]"
     ]
    },
    {
     "name": "stdout",
     "output_type": "stream",
     "text": [
      "------------- Epoch 1 -------------\n"
     ]
    }
   ],
   "source": [
    "fit()"
   ]
  },
  {
   "cell_type": "code",
   "execution_count": null,
   "id": "50be82c0-d932-4858-b3af-2704ed74069b",
   "metadata": {},
   "outputs": [],
   "source": []
  }
 ],
 "metadata": {
  "kernelspec": {
   "display_name": "Python 3 (ipykernel)",
   "language": "python",
   "name": "python3"
  },
  "language_info": {
   "codemirror_mode": {
    "name": "ipython",
    "version": 3
   },
   "file_extension": ".py",
   "mimetype": "text/x-python",
   "name": "python",
   "nbconvert_exporter": "python",
   "pygments_lexer": "ipython3",
   "version": "3.10.11"
  }
 },
 "nbformat": 4,
 "nbformat_minor": 5
}
