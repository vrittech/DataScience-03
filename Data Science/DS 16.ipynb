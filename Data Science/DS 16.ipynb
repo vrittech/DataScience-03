{
 "cells": [
  {
   "cell_type": "code",
   "execution_count": 1,
   "id": "6e1f528a-b030-45a0-8408-2e6f8bff9801",
   "metadata": {},
   "outputs": [],
   "source": [
    "import tensorflow as tf\n",
    "\n",
    "from keras.models import Sequential\n",
    "from keras.layers import Dense, ReLU, LeakyReLU\n",
    "from keras.callbacks import EarlyStopping"
   ]
  },
  {
   "cell_type": "code",
   "execution_count": 2,
   "id": "d637ef19-2260-4bae-a325-d8de9f80e7ca",
   "metadata": {},
   "outputs": [],
   "source": [
    "import numpy as np\n",
    "import pandas as pd\n",
    "import matplotlib.pyplot as plt"
   ]
  },
  {
   "cell_type": "code",
   "execution_count": 3,
   "id": "53c36b6e-7803-4b1a-b245-88fe2fd82836",
   "metadata": {},
   "outputs": [],
   "source": [
    "from sklearn.preprocessing import StandardScaler\n",
    "from sklearn.model_selection import train_test_split\n",
    "from sklearn.metrics import r2_score, mean_absolute_error"
   ]
  },
  {
   "cell_type": "code",
   "execution_count": 4,
   "id": "74745c13-5455-47f0-ae69-57e460f2df78",
   "metadata": {},
   "outputs": [],
   "source": [
    "from sklearn.datasets import fetch_california_housing"
   ]
  },
  {
   "cell_type": "code",
   "execution_count": 5,
   "id": "2bbeeff0-002c-4b79-9218-bcdcdc24b9b9",
   "metadata": {},
   "outputs": [],
   "source": [
    "house_data = fetch_california_housing()"
   ]
  },
  {
   "cell_type": "code",
   "execution_count": 6,
   "id": "3be39296-cbe5-419f-863f-2a581f9a69d1",
   "metadata": {},
   "outputs": [],
   "source": [
    "# print(house_data.DESCR)"
   ]
  },
  {
   "cell_type": "code",
   "execution_count": 7,
   "id": "213f0ec4-e98c-4810-b2f4-42e018c4103a",
   "metadata": {},
   "outputs": [],
   "source": [
    "X = house_data.data\n",
    "y = house_data.target"
   ]
  },
  {
   "cell_type": "code",
   "execution_count": 8,
   "id": "4b840fc6-7996-424c-a119-0fc51c7b7a6a",
   "metadata": {},
   "outputs": [
    {
     "data": {
      "text/html": [
       "<div>\n",
       "<style scoped>\n",
       "    .dataframe tbody tr th:only-of-type {\n",
       "        vertical-align: middle;\n",
       "    }\n",
       "\n",
       "    .dataframe tbody tr th {\n",
       "        vertical-align: top;\n",
       "    }\n",
       "\n",
       "    .dataframe thead th {\n",
       "        text-align: right;\n",
       "    }\n",
       "</style>\n",
       "<table border=\"1\" class=\"dataframe\">\n",
       "  <thead>\n",
       "    <tr style=\"text-align: right;\">\n",
       "      <th></th>\n",
       "      <th>MedInc</th>\n",
       "      <th>HouseAge</th>\n",
       "      <th>AveRooms</th>\n",
       "      <th>AveBedrms</th>\n",
       "      <th>Population</th>\n",
       "      <th>AveOccup</th>\n",
       "      <th>Latitude</th>\n",
       "      <th>Longitude</th>\n",
       "    </tr>\n",
       "  </thead>\n",
       "  <tbody>\n",
       "    <tr>\n",
       "      <th>0</th>\n",
       "      <td>8.3252</td>\n",
       "      <td>41.0</td>\n",
       "      <td>6.984127</td>\n",
       "      <td>1.023810</td>\n",
       "      <td>322.0</td>\n",
       "      <td>2.555556</td>\n",
       "      <td>37.88</td>\n",
       "      <td>-122.23</td>\n",
       "    </tr>\n",
       "    <tr>\n",
       "      <th>1</th>\n",
       "      <td>8.3014</td>\n",
       "      <td>21.0</td>\n",
       "      <td>6.238137</td>\n",
       "      <td>0.971880</td>\n",
       "      <td>2401.0</td>\n",
       "      <td>2.109842</td>\n",
       "      <td>37.86</td>\n",
       "      <td>-122.22</td>\n",
       "    </tr>\n",
       "    <tr>\n",
       "      <th>2</th>\n",
       "      <td>7.2574</td>\n",
       "      <td>52.0</td>\n",
       "      <td>8.288136</td>\n",
       "      <td>1.073446</td>\n",
       "      <td>496.0</td>\n",
       "      <td>2.802260</td>\n",
       "      <td>37.85</td>\n",
       "      <td>-122.24</td>\n",
       "    </tr>\n",
       "    <tr>\n",
       "      <th>3</th>\n",
       "      <td>5.6431</td>\n",
       "      <td>52.0</td>\n",
       "      <td>5.817352</td>\n",
       "      <td>1.073059</td>\n",
       "      <td>558.0</td>\n",
       "      <td>2.547945</td>\n",
       "      <td>37.85</td>\n",
       "      <td>-122.25</td>\n",
       "    </tr>\n",
       "    <tr>\n",
       "      <th>4</th>\n",
       "      <td>3.8462</td>\n",
       "      <td>52.0</td>\n",
       "      <td>6.281853</td>\n",
       "      <td>1.081081</td>\n",
       "      <td>565.0</td>\n",
       "      <td>2.181467</td>\n",
       "      <td>37.85</td>\n",
       "      <td>-122.25</td>\n",
       "    </tr>\n",
       "  </tbody>\n",
       "</table>\n",
       "</div>"
      ],
      "text/plain": [
       "   MedInc  HouseAge  AveRooms  AveBedrms  Population  AveOccup  Latitude  \\\n",
       "0  8.3252      41.0  6.984127   1.023810       322.0  2.555556     37.88   \n",
       "1  8.3014      21.0  6.238137   0.971880      2401.0  2.109842     37.86   \n",
       "2  7.2574      52.0  8.288136   1.073446       496.0  2.802260     37.85   \n",
       "3  5.6431      52.0  5.817352   1.073059       558.0  2.547945     37.85   \n",
       "4  3.8462      52.0  6.281853   1.081081       565.0  2.181467     37.85   \n",
       "\n",
       "   Longitude  \n",
       "0    -122.23  \n",
       "1    -122.22  \n",
       "2    -122.24  \n",
       "3    -122.25  \n",
       "4    -122.25  "
      ]
     },
     "execution_count": 8,
     "metadata": {},
     "output_type": "execute_result"
    }
   ],
   "source": [
    "X = pd.DataFrame(data=X, columns=house_data.feature_names)\n",
    "X.head()"
   ]
  },
  {
   "cell_type": "code",
   "execution_count": 9,
   "id": "8c1795c9-bdd1-4514-9524-bec40eea3951",
   "metadata": {},
   "outputs": [],
   "source": [
    "data = X.copy()"
   ]
  },
  {
   "cell_type": "code",
   "execution_count": 10,
   "id": "ece17de1-bb72-4322-833a-8d9711f5d60c",
   "metadata": {},
   "outputs": [],
   "source": [
    "data['Price'] = y"
   ]
  },
  {
   "cell_type": "code",
   "execution_count": 11,
   "id": "1672edb5-1edf-44b3-8639-0be96086c2f4",
   "metadata": {},
   "outputs": [
    {
     "data": {
      "text/html": [
       "<div>\n",
       "<style scoped>\n",
       "    .dataframe tbody tr th:only-of-type {\n",
       "        vertical-align: middle;\n",
       "    }\n",
       "\n",
       "    .dataframe tbody tr th {\n",
       "        vertical-align: top;\n",
       "    }\n",
       "\n",
       "    .dataframe thead th {\n",
       "        text-align: right;\n",
       "    }\n",
       "</style>\n",
       "<table border=\"1\" class=\"dataframe\">\n",
       "  <thead>\n",
       "    <tr style=\"text-align: right;\">\n",
       "      <th></th>\n",
       "      <th>MedInc</th>\n",
       "      <th>HouseAge</th>\n",
       "      <th>AveRooms</th>\n",
       "      <th>AveBedrms</th>\n",
       "      <th>Population</th>\n",
       "      <th>AveOccup</th>\n",
       "      <th>Latitude</th>\n",
       "      <th>Longitude</th>\n",
       "      <th>Price</th>\n",
       "    </tr>\n",
       "  </thead>\n",
       "  <tbody>\n",
       "    <tr>\n",
       "      <th>0</th>\n",
       "      <td>8.3252</td>\n",
       "      <td>41.0</td>\n",
       "      <td>6.984127</td>\n",
       "      <td>1.023810</td>\n",
       "      <td>322.0</td>\n",
       "      <td>2.555556</td>\n",
       "      <td>37.88</td>\n",
       "      <td>-122.23</td>\n",
       "      <td>4.526</td>\n",
       "    </tr>\n",
       "    <tr>\n",
       "      <th>1</th>\n",
       "      <td>8.3014</td>\n",
       "      <td>21.0</td>\n",
       "      <td>6.238137</td>\n",
       "      <td>0.971880</td>\n",
       "      <td>2401.0</td>\n",
       "      <td>2.109842</td>\n",
       "      <td>37.86</td>\n",
       "      <td>-122.22</td>\n",
       "      <td>3.585</td>\n",
       "    </tr>\n",
       "    <tr>\n",
       "      <th>2</th>\n",
       "      <td>7.2574</td>\n",
       "      <td>52.0</td>\n",
       "      <td>8.288136</td>\n",
       "      <td>1.073446</td>\n",
       "      <td>496.0</td>\n",
       "      <td>2.802260</td>\n",
       "      <td>37.85</td>\n",
       "      <td>-122.24</td>\n",
       "      <td>3.521</td>\n",
       "    </tr>\n",
       "    <tr>\n",
       "      <th>3</th>\n",
       "      <td>5.6431</td>\n",
       "      <td>52.0</td>\n",
       "      <td>5.817352</td>\n",
       "      <td>1.073059</td>\n",
       "      <td>558.0</td>\n",
       "      <td>2.547945</td>\n",
       "      <td>37.85</td>\n",
       "      <td>-122.25</td>\n",
       "      <td>3.413</td>\n",
       "    </tr>\n",
       "    <tr>\n",
       "      <th>4</th>\n",
       "      <td>3.8462</td>\n",
       "      <td>52.0</td>\n",
       "      <td>6.281853</td>\n",
       "      <td>1.081081</td>\n",
       "      <td>565.0</td>\n",
       "      <td>2.181467</td>\n",
       "      <td>37.85</td>\n",
       "      <td>-122.25</td>\n",
       "      <td>3.422</td>\n",
       "    </tr>\n",
       "  </tbody>\n",
       "</table>\n",
       "</div>"
      ],
      "text/plain": [
       "   MedInc  HouseAge  AveRooms  AveBedrms  Population  AveOccup  Latitude  \\\n",
       "0  8.3252      41.0  6.984127   1.023810       322.0  2.555556     37.88   \n",
       "1  8.3014      21.0  6.238137   0.971880      2401.0  2.109842     37.86   \n",
       "2  7.2574      52.0  8.288136   1.073446       496.0  2.802260     37.85   \n",
       "3  5.6431      52.0  5.817352   1.073059       558.0  2.547945     37.85   \n",
       "4  3.8462      52.0  6.281853   1.081081       565.0  2.181467     37.85   \n",
       "\n",
       "   Longitude  Price  \n",
       "0    -122.23  4.526  \n",
       "1    -122.22  3.585  \n",
       "2    -122.24  3.521  \n",
       "3    -122.25  3.413  \n",
       "4    -122.25  3.422  "
      ]
     },
     "execution_count": 11,
     "metadata": {},
     "output_type": "execute_result"
    }
   ],
   "source": [
    "data.head()"
   ]
  },
  {
   "cell_type": "code",
   "execution_count": 12,
   "id": "c78833f3-9118-4ba1-87cb-36de2698509c",
   "metadata": {},
   "outputs": [],
   "source": [
    "import sweetviz"
   ]
  },
  {
   "cell_type": "code",
   "execution_count": 13,
   "id": "b6010cb7-42d7-42f3-98d4-e77f5d7ca153",
   "metadata": {},
   "outputs": [
    {
     "data": {
      "application/vnd.jupyter.widget-view+json": {
       "model_id": "befa1e32ebeb477a9d39c3453bf2c682",
       "version_major": 2,
       "version_minor": 0
      },
      "text/plain": [
       "                                             |                                             | [  0%]   00:00 ->…"
      ]
     },
     "metadata": {},
     "output_type": "display_data"
    }
   ],
   "source": [
    "report = sweetviz.analyze(data, target_feat='Price')"
   ]
  },
  {
   "cell_type": "code",
   "execution_count": 14,
   "id": "594b8229-c51a-4292-8f3c-de510da98df3",
   "metadata": {},
   "outputs": [
    {
     "name": "stdout",
     "output_type": "stream",
     "text": [
      "Report California_housing.html was generated! NOTEBOOK/COLAB USERS: the web browser MAY not pop up, regardless, the report IS saved in your notebook/colab files.\n"
     ]
    }
   ],
   "source": [
    "# report.show_notebook()\n",
    "report.show_html('California_housing.html')"
   ]
  },
  {
   "cell_type": "code",
   "execution_count": 15,
   "id": "cb3619fa-6e12-42fe-8da3-2d839abf7c33",
   "metadata": {},
   "outputs": [],
   "source": [
    "X_train, X_test, y_train, y_test = train_test_split(X, y, test_size=0.2, random_state=666)"
   ]
  },
  {
   "cell_type": "code",
   "execution_count": 16,
   "id": "fa33ec0b-342d-447a-a6f3-6a67072b652e",
   "metadata": {},
   "outputs": [],
   "source": [
    "scaler = StandardScaler()\n",
    "\n",
    "X_train = scaler.fit_transform(X_train)\n",
    "X_test = scaler.transform(X_test)"
   ]
  },
  {
   "cell_type": "code",
   "execution_count": 17,
   "id": "b40358e6-7a52-40a6-bb76-62d13d121a19",
   "metadata": {},
   "outputs": [
    {
     "data": {
      "text/plain": [
       "(16512, 8)"
      ]
     },
     "execution_count": 17,
     "metadata": {},
     "output_type": "execute_result"
    }
   ],
   "source": [
    "X_train.shape"
   ]
  },
  {
   "cell_type": "code",
   "execution_count": 19,
   "id": "c6f89740-276b-4c8e-884b-635c115c2a94",
   "metadata": {},
   "outputs": [],
   "source": [
    "model = Sequential()\n",
    "\n",
    "# Input Layer\n",
    "model.add(Dense(input_dim=8, units=16, activation=ReLU()))\n",
    "\n",
    "# Hidden Layer\n",
    "model.add(Dense(units=8, activation=LeakyReLU(0.1)))\n",
    "model.add(Dense(units=4, activation='relu'))\n",
    "\n",
    "# Output Layer\n",
    "model.add(Dense(units=1, activation='relu'))\n",
    "\n",
    "model.compile(loss='mse', optimizer='sgd', metrics=['mae', 'mse'])"
   ]
  },
  {
   "cell_type": "code",
   "execution_count": 20,
   "id": "ceed8bc2-c03a-454c-b4eb-4775712b28b5",
   "metadata": {},
   "outputs": [
    {
     "name": "stdout",
     "output_type": "stream",
     "text": [
      "Model: \"sequential_1\"\n",
      "_________________________________________________________________\n",
      " Layer (type)                Output Shape              Param #   \n",
      "=================================================================\n",
      " dense (Dense)               (None, 16)                144       \n",
      "                                                                 \n",
      " dense_1 (Dense)             (None, 8)                 136       \n",
      "                                                                 \n",
      " dense_2 (Dense)             (None, 4)                 36        \n",
      "                                                                 \n",
      " dense_3 (Dense)             (None, 1)                 5         \n",
      "                                                                 \n",
      "=================================================================\n",
      "Total params: 321\n",
      "Trainable params: 321\n",
      "Non-trainable params: 0\n",
      "_________________________________________________________________\n"
     ]
    }
   ],
   "source": [
    "model.summary()"
   ]
  },
  {
   "cell_type": "code",
   "execution_count": 21,
   "id": "9ac570d3-b4c8-4f14-90d9-24825c486ace",
   "metadata": {},
   "outputs": [],
   "source": [
    "es = EarlyStopping(monitor='val_mae', patience=5)"
   ]
  },
  {
   "cell_type": "code",
   "execution_count": 22,
   "id": "ab4265d4-6f4e-4bdd-9ddb-0860a53844ee",
   "metadata": {},
   "outputs": [
    {
     "name": "stdout",
     "output_type": "stream",
     "text": [
      "Epoch 1/1000\n",
      "439/439 [==============================] - 1s 2ms/step - loss: 0.8381 - mae: 0.6521 - mse: 0.8381 - val_loss: 0.5564 - val_mae: 0.5217 - val_mse: 0.5564\n",
      "Epoch 2/1000\n",
      "439/439 [==============================] - 1s 2ms/step - loss: 0.4683 - mae: 0.4943 - mse: 0.4683 - val_loss: 0.5159 - val_mae: 0.5109 - val_mse: 0.5159\n",
      "Epoch 3/1000\n",
      "439/439 [==============================] - 1s 1ms/step - loss: 0.4447 - mae: 0.4800 - mse: 0.4447 - val_loss: 0.5004 - val_mae: 0.4982 - val_mse: 0.5004\n",
      "Epoch 4/1000\n",
      "439/439 [==============================] - 1s 1ms/step - loss: 0.4255 - mae: 0.4688 - mse: 0.4255 - val_loss: 0.4796 - val_mae: 0.4838 - val_mse: 0.4796\n",
      "Epoch 5/1000\n",
      "439/439 [==============================] - 1s 1ms/step - loss: 0.4093 - mae: 0.4579 - mse: 0.4093 - val_loss: 0.4692 - val_mae: 0.4972 - val_mse: 0.4692\n",
      "Epoch 6/1000\n",
      "439/439 [==============================] - 1s 1ms/step - loss: 0.3977 - mae: 0.4511 - mse: 0.3977 - val_loss: 0.4520 - val_mae: 0.4835 - val_mse: 0.4520\n",
      "Epoch 7/1000\n",
      "439/439 [==============================] - 1s 1ms/step - loss: 0.3876 - mae: 0.4449 - mse: 0.3876 - val_loss: 0.4365 - val_mae: 0.4701 - val_mse: 0.4365\n",
      "Epoch 8/1000\n",
      "439/439 [==============================] - 1s 1ms/step - loss: 0.3799 - mae: 0.4400 - mse: 0.3799 - val_loss: 0.4287 - val_mae: 0.4539 - val_mse: 0.4287\n",
      "Epoch 9/1000\n",
      "439/439 [==============================] - 0s 1ms/step - loss: 0.3736 - mae: 0.4348 - mse: 0.3736 - val_loss: 0.4191 - val_mae: 0.4534 - val_mse: 0.4191\n",
      "Epoch 10/1000\n",
      "439/439 [==============================] - 1s 1ms/step - loss: 0.3673 - mae: 0.4310 - mse: 0.3673 - val_loss: 0.4244 - val_mae: 0.4438 - val_mse: 0.4244\n",
      "Epoch 11/1000\n",
      "439/439 [==============================] - 1s 1ms/step - loss: 0.3623 - mae: 0.4274 - mse: 0.3623 - val_loss: 0.4122 - val_mae: 0.4416 - val_mse: 0.4122\n",
      "Epoch 12/1000\n",
      "439/439 [==============================] - 1s 1ms/step - loss: 0.3560 - mae: 0.4235 - mse: 0.3560 - val_loss: 0.4183 - val_mae: 0.4629 - val_mse: 0.4183\n",
      "Epoch 13/1000\n",
      "439/439 [==============================] - 1s 1ms/step - loss: 0.3527 - mae: 0.4221 - mse: 0.3527 - val_loss: 0.4199 - val_mae: 0.4682 - val_mse: 0.4199\n",
      "Epoch 14/1000\n",
      "439/439 [==============================] - 1s 1ms/step - loss: 0.3507 - mae: 0.4193 - mse: 0.3507 - val_loss: 0.3886 - val_mae: 0.4384 - val_mse: 0.3886\n",
      "Epoch 15/1000\n",
      "439/439 [==============================] - 1s 1ms/step - loss: 0.3475 - mae: 0.4185 - mse: 0.3475 - val_loss: 0.3927 - val_mae: 0.4417 - val_mse: 0.3927\n",
      "Epoch 16/1000\n",
      "439/439 [==============================] - 1s 1ms/step - loss: 0.3439 - mae: 0.4164 - mse: 0.3439 - val_loss: 0.3939 - val_mae: 0.4375 - val_mse: 0.3939\n",
      "Epoch 17/1000\n",
      "439/439 [==============================] - 1s 1ms/step - loss: 0.3417 - mae: 0.4153 - mse: 0.3417 - val_loss: 0.4031 - val_mae: 0.4302 - val_mse: 0.4031\n",
      "Epoch 18/1000\n",
      "439/439 [==============================] - 1s 1ms/step - loss: 0.3395 - mae: 0.4125 - mse: 0.3395 - val_loss: 0.3832 - val_mae: 0.4375 - val_mse: 0.3832\n",
      "Epoch 19/1000\n",
      "439/439 [==============================] - 1s 1ms/step - loss: 0.3381 - mae: 0.4124 - mse: 0.3381 - val_loss: 0.3829 - val_mae: 0.4304 - val_mse: 0.3829\n",
      "Epoch 20/1000\n",
      "439/439 [==============================] - 1s 1ms/step - loss: 0.3414 - mae: 0.4139 - mse: 0.3414 - val_loss: 0.3915 - val_mae: 0.4506 - val_mse: 0.3915\n",
      "Epoch 21/1000\n",
      "439/439 [==============================] - 1s 1ms/step - loss: 0.3388 - mae: 0.4116 - mse: 0.3388 - val_loss: 0.4149 - val_mae: 0.4745 - val_mse: 0.4149\n",
      "Epoch 22/1000\n",
      "439/439 [==============================] - 1s 1ms/step - loss: 0.3361 - mae: 0.4099 - mse: 0.3361 - val_loss: 0.3748 - val_mae: 0.4271 - val_mse: 0.3748\n",
      "Epoch 23/1000\n",
      "439/439 [==============================] - 1s 1ms/step - loss: 0.3317 - mae: 0.4078 - mse: 0.3317 - val_loss: 0.3709 - val_mae: 0.4226 - val_mse: 0.3709\n",
      "Epoch 24/1000\n",
      "439/439 [==============================] - 0s 1ms/step - loss: 0.3313 - mae: 0.4066 - mse: 0.3313 - val_loss: 0.3770 - val_mae: 0.4282 - val_mse: 0.3770\n",
      "Epoch 25/1000\n",
      "439/439 [==============================] - 1s 1ms/step - loss: 0.3302 - mae: 0.4070 - mse: 0.3302 - val_loss: 0.3686 - val_mae: 0.4186 - val_mse: 0.3686\n",
      "Epoch 26/1000\n",
      "439/439 [==============================] - 1s 1ms/step - loss: 0.3251 - mae: 0.4032 - mse: 0.3251 - val_loss: 0.3906 - val_mae: 0.4221 - val_mse: 0.3906\n",
      "Epoch 27/1000\n",
      "439/439 [==============================] - 0s 1ms/step - loss: 0.3255 - mae: 0.4031 - mse: 0.3255 - val_loss: 0.3773 - val_mae: 0.4263 - val_mse: 0.3773\n",
      "Epoch 28/1000\n",
      "439/439 [==============================] - 0s 1ms/step - loss: 0.3242 - mae: 0.4015 - mse: 0.3242 - val_loss: 0.3831 - val_mae: 0.4162 - val_mse: 0.3831\n",
      "Epoch 29/1000\n",
      "439/439 [==============================] - 1s 1ms/step - loss: 0.3224 - mae: 0.3997 - mse: 0.3224 - val_loss: 0.3626 - val_mae: 0.4140 - val_mse: 0.3626\n",
      "Epoch 30/1000\n",
      "439/439 [==============================] - 1s 1ms/step - loss: 0.3214 - mae: 0.3985 - mse: 0.3214 - val_loss: 0.3645 - val_mae: 0.4102 - val_mse: 0.3645\n",
      "Epoch 31/1000\n",
      "439/439 [==============================] - 1s 1ms/step - loss: 0.3186 - mae: 0.3962 - mse: 0.3186 - val_loss: 0.3697 - val_mae: 0.4234 - val_mse: 0.3697\n",
      "Epoch 32/1000\n",
      "439/439 [==============================] - 0s 1ms/step - loss: 0.3169 - mae: 0.3944 - mse: 0.3169 - val_loss: 0.3664 - val_mae: 0.4105 - val_mse: 0.3664\n",
      "Epoch 33/1000\n",
      "439/439 [==============================] - 0s 1ms/step - loss: 0.3139 - mae: 0.3934 - mse: 0.3139 - val_loss: 0.3502 - val_mae: 0.4101 - val_mse: 0.3502\n",
      "Epoch 34/1000\n",
      "439/439 [==============================] - 0s 1ms/step - loss: 0.3147 - mae: 0.3925 - mse: 0.3147 - val_loss: 0.3458 - val_mae: 0.4028 - val_mse: 0.3458\n",
      "Epoch 35/1000\n",
      "439/439 [==============================] - 1s 1ms/step - loss: 0.3127 - mae: 0.3912 - mse: 0.3127 - val_loss: 0.3578 - val_mae: 0.4193 - val_mse: 0.3578\n",
      "Epoch 36/1000\n",
      "439/439 [==============================] - 1s 1ms/step - loss: 0.3083 - mae: 0.3885 - mse: 0.3083 - val_loss: 0.3550 - val_mae: 0.4011 - val_mse: 0.3550\n",
      "Epoch 37/1000\n",
      "439/439 [==============================] - 1s 1ms/step - loss: 0.3094 - mae: 0.3885 - mse: 0.3094 - val_loss: 0.3528 - val_mae: 0.4103 - val_mse: 0.3528\n",
      "Epoch 38/1000\n",
      "439/439 [==============================] - 1s 1ms/step - loss: 0.3086 - mae: 0.3881 - mse: 0.3086 - val_loss: 0.3483 - val_mae: 0.4031 - val_mse: 0.3483\n",
      "Epoch 39/1000\n",
      "439/439 [==============================] - 1s 1ms/step - loss: 0.3035 - mae: 0.3863 - mse: 0.3035 - val_loss: 0.3472 - val_mae: 0.4134 - val_mse: 0.3472\n",
      "Epoch 40/1000\n",
      "439/439 [==============================] - 1s 1ms/step - loss: 0.3053 - mae: 0.3863 - mse: 0.3053 - val_loss: 0.3399 - val_mae: 0.3977 - val_mse: 0.3399\n",
      "Epoch 41/1000\n",
      "439/439 [==============================] - 1s 1ms/step - loss: 0.3011 - mae: 0.3838 - mse: 0.3011 - val_loss: 0.3463 - val_mae: 0.4111 - val_mse: 0.3463\n",
      "Epoch 42/1000\n",
      "439/439 [==============================] - 1s 1ms/step - loss: 0.3016 - mae: 0.3846 - mse: 0.3016 - val_loss: 0.3362 - val_mae: 0.4053 - val_mse: 0.3362\n",
      "Epoch 43/1000\n",
      "439/439 [==============================] - 1s 1ms/step - loss: 0.3003 - mae: 0.3831 - mse: 0.3003 - val_loss: 0.3630 - val_mae: 0.4165 - val_mse: 0.3630\n",
      "Epoch 44/1000\n",
      "439/439 [==============================] - 1s 1ms/step - loss: 0.2974 - mae: 0.3816 - mse: 0.2974 - val_loss: 0.3429 - val_mae: 0.4092 - val_mse: 0.3429\n",
      "Epoch 45/1000\n",
      "439/439 [==============================] - 1s 1ms/step - loss: 0.2983 - mae: 0.3812 - mse: 0.2983 - val_loss: 0.3337 - val_mae: 0.3967 - val_mse: 0.3337\n",
      "Epoch 46/1000\n",
      "439/439 [==============================] - 1s 1ms/step - loss: 0.3002 - mae: 0.3822 - mse: 0.3002 - val_loss: 0.3524 - val_mae: 0.4169 - val_mse: 0.3524\n",
      "Epoch 47/1000\n",
      "439/439 [==============================] - 1s 2ms/step - loss: 0.2980 - mae: 0.3813 - mse: 0.2980 - val_loss: 0.3474 - val_mae: 0.3961 - val_mse: 0.3474\n",
      "Epoch 48/1000\n",
      "439/439 [==============================] - 1s 1ms/step - loss: 0.2985 - mae: 0.3810 - mse: 0.2985 - val_loss: 0.3464 - val_mae: 0.4000 - val_mse: 0.3464\n",
      "Epoch 49/1000\n",
      "439/439 [==============================] - 1s 1ms/step - loss: 0.2961 - mae: 0.3799 - mse: 0.2961 - val_loss: 0.3351 - val_mae: 0.4005 - val_mse: 0.3351\n",
      "Epoch 50/1000\n",
      "439/439 [==============================] - 1s 1ms/step - loss: 0.2942 - mae: 0.3783 - mse: 0.2942 - val_loss: 0.3375 - val_mae: 0.3953 - val_mse: 0.3375\n",
      "Epoch 51/1000\n",
      "439/439 [==============================] - 1s 1ms/step - loss: 0.2958 - mae: 0.3795 - mse: 0.2958 - val_loss: 0.3513 - val_mae: 0.3993 - val_mse: 0.3513\n",
      "Epoch 52/1000\n",
      "439/439 [==============================] - 1s 1ms/step - loss: 0.2948 - mae: 0.3785 - mse: 0.2948 - val_loss: 0.3391 - val_mae: 0.3934 - val_mse: 0.3391\n",
      "Epoch 53/1000\n",
      "439/439 [==============================] - 1s 1ms/step - loss: 0.2950 - mae: 0.3787 - mse: 0.2950 - val_loss: 0.3369 - val_mae: 0.3981 - val_mse: 0.3369\n",
      "Epoch 54/1000\n",
      "439/439 [==============================] - 1s 1ms/step - loss: 0.2942 - mae: 0.3779 - mse: 0.2942 - val_loss: 0.3465 - val_mae: 0.3908 - val_mse: 0.3465\n",
      "Epoch 55/1000\n",
      "439/439 [==============================] - 1s 1ms/step - loss: 0.2933 - mae: 0.3788 - mse: 0.2933 - val_loss: 0.3454 - val_mae: 0.4127 - val_mse: 0.3454\n",
      "Epoch 56/1000\n",
      "439/439 [==============================] - 1s 1ms/step - loss: 0.2946 - mae: 0.3777 - mse: 0.2946 - val_loss: 0.3348 - val_mae: 0.3967 - val_mse: 0.3348\n",
      "Epoch 57/1000\n",
      "439/439 [==============================] - 1s 1ms/step - loss: 0.2930 - mae: 0.3772 - mse: 0.2930 - val_loss: 0.3285 - val_mae: 0.3988 - val_mse: 0.3285\n",
      "Epoch 58/1000\n",
      "439/439 [==============================] - 1s 1ms/step - loss: 0.2919 - mae: 0.3770 - mse: 0.2919 - val_loss: 0.3267 - val_mae: 0.4000 - val_mse: 0.3267\n",
      "Epoch 59/1000\n",
      "439/439 [==============================] - 1s 1ms/step - loss: 0.2927 - mae: 0.3765 - mse: 0.2927 - val_loss: 0.3620 - val_mae: 0.4048 - val_mse: 0.3620\n"
     ]
    }
   ],
   "source": [
    "history = model.fit(X_train, y_train, epochs=1000, callbacks=[es], validation_split=0.15)"
   ]
  },
  {
   "cell_type": "code",
   "execution_count": 23,
   "id": "7628d6b8-6e9a-44b6-8fa2-879ef8d93d1f",
   "metadata": {},
   "outputs": [
    {
     "data": {
      "text/plain": [
       "dict_keys(['loss', 'mae', 'mse', 'val_loss', 'val_mae', 'val_mse'])"
      ]
     },
     "execution_count": 23,
     "metadata": {},
     "output_type": "execute_result"
    }
   ],
   "source": [
    "history.history.keys()"
   ]
  },
  {
   "cell_type": "code",
   "execution_count": 24,
   "id": "082fcfd3-4c16-4064-ad04-4523a6138a26",
   "metadata": {},
   "outputs": [
    {
     "data": {
      "image/png": "[encoded data removed]",
      "text/plain": [
       "<Figure size 640x480 with 1 Axes>"
      ]
     },
     "metadata": {},
     "output_type": "display_data"
    }
   ],
   "source": [
    "plt.xlabel('Epochs')\n",
    "plt.ylabel('Loss')\n",
    "\n",
    "plt.plot(history.history['loss'], c='b')\n",
    "plt.plot(history.history['val_loss'], c='r')\n",
    "plt.show()"
   ]
  },
  {
   "cell_type": "code",
   "execution_count": 25,
   "id": "3de00d1c-543b-4a87-8549-19f0c627d2c9",
   "metadata": {},
   "outputs": [
    {
     "data": {
      "image/png": "[encoded data removed]",
      "text/plain": [
       "<Figure size 640x480 with 1 Axes>"
      ]
     },
     "metadata": {},
     "output_type": "display_data"
    }
   ],
   "source": [
    "plt.xlabel('Epochs')\n",
    "plt.ylabel('MAE')\n",
    "\n",
    "plt.plot(history.history['mae'], c='b')\n",
    "plt.plot(history.history['val_mae'], c='r')\n",
    "plt.show()"
   ]
  },
  {
   "cell_type": "code",
   "execution_count": null,
   "id": "41f3d78a-7afe-48c5-a9f2-05feae172b6a",
   "metadata": {},
   "outputs": [],
   "source": []
  }
 ],
 "metadata": {
  "kernelspec": {
   "display_name": "Python 3 (ipykernel)",
   "language": "python",
   "name": "python3"
  },
  "language_info": {
   "codemirror_mode": {
    "name": "ipython",
    "version": 3
   },
   "file_extension": ".py",
   "mimetype": "text/x-python",
   "name": "python",
   "nbconvert_exporter": "python",
   "pygments_lexer": "ipython3",
   "version": "3.10.11"
  }
 },
 "nbformat": 4,
 "nbformat_minor": 5
}
