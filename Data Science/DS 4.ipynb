{
 "cells": [
  {
   "cell_type": "markdown",
   "id": "b9321eff-0d6a-41eb-887b-dbf0088a54da",
   "metadata": {},
   "source": [
    "# Data Scaling"
   ]
  },
  {
   "cell_type": "code",
   "execution_count": 1,
   "id": "065c8e31-04e0-4dd9-b0b5-ce439f3aebd9",
   "metadata": {},
   "outputs": [],
   "source": [
    "import numpy as np\n",
    "import matplotlib.pyplot as plt"
   ]
  },
  {
   "cell_type": "code",
   "execution_count": 2,
   "id": "df6fc6f7-3bd8-40f4-84f8-dab8b665e324",
   "metadata": {},
   "outputs": [],
   "source": [
    "np.random.seed(666)"
   ]
  },
  {
   "cell_type": "code",
   "execution_count": 3,
   "id": "4c447072-9306-4fd6-94d5-b5d6a6d26092",
   "metadata": {},
   "outputs": [],
   "source": [
    "data = np.random.randint(low=20, high=100, size=15)"
   ]
  },
  {
   "cell_type": "code",
   "execution_count": 4,
   "id": "405bfcd1-d8ce-4474-8f89-a9abaa960a7e",
   "metadata": {},
   "outputs": [
    {
     "data": {
      "text/plain": [
       "array([22, 65, 50, 82, 90, 93, 50, 56, 81, 71, 80, 48, 34, 83, 36])"
      ]
     },
     "execution_count": 4,
     "metadata": {},
     "output_type": "execute_result"
    }
   ],
   "source": [
    "data"
   ]
  },
  {
   "cell_type": "code",
   "execution_count": 5,
   "id": "f74bb31b-217f-4473-895f-df6e65f83595",
   "metadata": {},
   "outputs": [
    {
     "data": {
      "text/plain": [
       "62.733333333333334"
      ]
     },
     "execution_count": 5,
     "metadata": {},
     "output_type": "execute_result"
    }
   ],
   "source": [
    "data.mean()"
   ]
  },
  {
   "cell_type": "code",
   "execution_count": 6,
   "id": "89461280-dcdd-42ba-a1d6-95bf2c561470",
   "metadata": {},
   "outputs": [
    {
     "data": {
      "text/plain": [
       "21.49873381284478"
      ]
     },
     "execution_count": 6,
     "metadata": {},
     "output_type": "execute_result"
    }
   ],
   "source": [
    "data.std()"
   ]
  },
  {
   "cell_type": "code",
   "execution_count": 7,
   "id": "ad85dbc8-a13a-4cbd-934f-3a99ed9040e0",
   "metadata": {},
   "outputs": [
    {
     "data": {
      "text/plain": [
       "22"
      ]
     },
     "execution_count": 7,
     "metadata": {},
     "output_type": "execute_result"
    }
   ],
   "source": [
    "data.min()"
   ]
  },
  {
   "cell_type": "code",
   "execution_count": 8,
   "id": "030e4515-1b1c-44fd-9b5d-2355d4106e10",
   "metadata": {},
   "outputs": [
    {
     "data": {
      "text/plain": [
       "93"
      ]
     },
     "execution_count": 8,
     "metadata": {},
     "output_type": "execute_result"
    }
   ],
   "source": [
    "data.max()"
   ]
  },
  {
   "cell_type": "code",
   "execution_count": 9,
   "id": "a91985eb-2a58-4fcd-9139-4771b7203784",
   "metadata": {},
   "outputs": [],
   "source": [
    "from sklearn.preprocessing import StandardScaler, MinMaxScaler, MaxAbsScaler, RobustScaler"
   ]
  },
  {
   "cell_type": "code",
   "execution_count": 10,
   "id": "99b53a78-f53a-44d5-9d37-775d248628ee",
   "metadata": {},
   "outputs": [],
   "source": [
    "scalers = {\n",
    "    'MinMaxScaler': MinMaxScaler(),\n",
    "    'MaxAbsScaler': MaxAbsScaler(),\n",
    "    'StandardScaler': StandardScaler(),\n",
    "    'RobustScaler': RobustScaler()\n",
    "}"
   ]
  },
  {
   "cell_type": "code",
   "execution_count": 11,
   "id": "6cf5990d-7115-47ce-a473-3a9f2773b456",
   "metadata": {},
   "outputs": [
    {
     "data": {
      "text/plain": [
       "array([118151, 104101, 149810, 125740, 125349])"
      ]
     },
     "execution_count": 11,
     "metadata": {},
     "output_type": "execute_result"
    }
   ],
   "source": [
    "incomes = np.random.randint(low=60_000, high=2_00_000, size=10_000)\n",
    "incomes[:5]"
   ]
  },
  {
   "cell_type": "code",
   "execution_count": 12,
   "id": "dfe4340d-ef5e-4ba8-8062-a0c68d8100c6",
   "metadata": {},
   "outputs": [
    {
     "data": {
      "text/plain": [
       "129712.0927"
      ]
     },
     "execution_count": 12,
     "metadata": {},
     "output_type": "execute_result"
    }
   ],
   "source": [
    "incomes.mean()"
   ]
  },
  {
   "cell_type": "code",
   "execution_count": 13,
   "id": "ec34b31b-3818-48b1-8b88-10801cd7a8f8",
   "metadata": {},
   "outputs": [
    {
     "data": {
      "text/plain": [
       "40809.24843779541"
      ]
     },
     "execution_count": 13,
     "metadata": {},
     "output_type": "execute_result"
    }
   ],
   "source": [
    "incomes.std()"
   ]
  },
  {
   "cell_type": "code",
   "execution_count": 14,
   "id": "f2e9f1fc-b7b8-4d8b-a693-34386100a1af",
   "metadata": {},
   "outputs": [],
   "source": [
    "incomes = np.append(incomes, 10)"
   ]
  },
  {
   "cell_type": "code",
   "execution_count": 15,
   "id": "900f076f-7584-4f5e-b1e2-b9d80e70289f",
   "metadata": {},
   "outputs": [],
   "source": [
    "incomes = np.append(incomes, 2_00_000*3)"
   ]
  },
  {
   "cell_type": "code",
   "execution_count": 16,
   "id": "78e0c992-eae8-4772-a02e-7cd6a78ee42f",
   "metadata": {},
   "outputs": [
    {
     "data": {
      "text/plain": [
       "array([118151, 104101, 149810, 125740, 125349])"
      ]
     },
     "execution_count": 16,
     "metadata": {},
     "output_type": "execute_result"
    }
   ],
   "source": [
    "incomes[:5]"
   ]
  },
  {
   "cell_type": "code",
   "execution_count": 17,
   "id": "7d6cfab1-9422-4869-ab12-bb62b55a5cfd",
   "metadata": {},
   "outputs": [
    {
     "data": {
      "text/plain": [
       "array([ 77278,  74435,  90725,     10, 600000])"
      ]
     },
     "execution_count": 17,
     "metadata": {},
     "output_type": "execute_result"
    }
   ],
   "source": [
    "incomes[-5:]"
   ]
  },
  {
   "cell_type": "code",
   "execution_count": 18,
   "id": "c437bb24-fc08-495c-9131-3d351d2b1f98",
   "metadata": {},
   "outputs": [
    {
     "data": {
      "text/plain": [
       "129746.14447110578"
      ]
     },
     "execution_count": 18,
     "metadata": {},
     "output_type": "execute_result"
    }
   ],
   "source": [
    "incomes.mean()"
   ]
  },
  {
   "cell_type": "code",
   "execution_count": 19,
   "id": "a9d394a1-e0cc-4dee-8252-46e873354428",
   "metadata": {},
   "outputs": [
    {
     "data": {
      "text/plain": [
       "41095.683010878376"
      ]
     },
     "execution_count": 19,
     "metadata": {},
     "output_type": "execute_result"
    }
   ],
   "source": [
    "incomes.std()"
   ]
  },
  {
   "cell_type": "code",
   "execution_count": 20,
   "id": "120430a3-288c-4796-89cc-e01b7e8fd0f9",
   "metadata": {},
   "outputs": [
    {
     "name": "stdout",
     "output_type": "stream",
     "text": [
      "Using MinMaxScaler scalers:\n",
      "[[0.        ]\n",
      " [0.6056338 ]\n",
      " [0.3943662 ]\n",
      " [0.84507042]\n",
      " [0.95774648]\n",
      " [1.        ]\n",
      " [0.3943662 ]\n",
      " [0.47887324]\n",
      " [0.83098592]\n",
      " [0.69014085]\n",
      " [0.81690141]\n",
      " [0.36619718]\n",
      " [0.16901408]\n",
      " [0.85915493]\n",
      " [0.1971831 ]]\n",
      "----------------------------\n",
      "Using MaxAbsScaler scalers:\n",
      "[[0.23655914]\n",
      " [0.69892473]\n",
      " [0.53763441]\n",
      " [0.88172043]\n",
      " [0.96774194]\n",
      " [1.        ]\n",
      " [0.53763441]\n",
      " [0.60215054]\n",
      " [0.87096774]\n",
      " [0.76344086]\n",
      " [0.86021505]\n",
      " [0.51612903]\n",
      " [0.3655914 ]\n",
      " [0.89247312]\n",
      " [0.38709677]]\n",
      "----------------------------\n",
      "Using StandardScaler scalers:\n",
      "[[-1.89468523]\n",
      " [ 0.10543257]\n",
      " [-0.59228294]\n",
      " [ 0.89617681]\n",
      " [ 1.26829175]\n",
      " [ 1.40783485]\n",
      " [-0.59228294]\n",
      " [-0.31319674]\n",
      " [ 0.84966244]\n",
      " [ 0.38451877]\n",
      " [ 0.80314807]\n",
      " [-0.68531168]\n",
      " [-1.33651282]\n",
      " [ 0.94269118]\n",
      " [-1.24348408]]\n",
      "----------------------------\n",
      "Using RobustScaler scalers:\n",
      "[[-1.32307692]\n",
      " [ 0.        ]\n",
      " [-0.46153846]\n",
      " [ 0.52307692]\n",
      " [ 0.76923077]\n",
      " [ 0.86153846]\n",
      " [-0.46153846]\n",
      " [-0.27692308]\n",
      " [ 0.49230769]\n",
      " [ 0.18461538]\n",
      " [ 0.46153846]\n",
      " [-0.52307692]\n",
      " [-0.95384615]\n",
      " [ 0.55384615]\n",
      " [-0.89230769]]\n",
      "----------------------------\n"
     ]
    }
   ],
   "source": [
    "for sca in scalers:\n",
    "    print(f'Using {sca} scalers:')\n",
    "    scaled_data = scalers[sca].fit_transform(data.reshape(-1, 1))\n",
    "    print(scaled_data)\n",
    "    print('-'*28)"
   ]
  },
  {
   "cell_type": "code",
   "execution_count": 21,
   "id": "85d9cf3c-9aed-4944-abc3-4d5f39ebca2c",
   "metadata": {},
   "outputs": [],
   "source": [
    "from sklearn.preprocessing import KBinsDiscretizer"
   ]
  },
  {
   "cell_type": "code",
   "execution_count": 29,
   "id": "73df0f64-60c5-47f5-a111-0e3ace74d23e",
   "metadata": {},
   "outputs": [],
   "source": [
    "discritizer = KBinsDiscretizer(n_bins=4, encode='onehot-dense')"
   ]
  },
  {
   "cell_type": "code",
   "execution_count": 30,
   "id": "0fd7f70f-feb9-44f3-8ebd-f69adb390ddc",
   "metadata": {},
   "outputs": [
    {
     "data": {
      "text/plain": [
       "array([[1., 0., 0., 0.],\n",
       "       [0., 0., 1., 0.],\n",
       "       [0., 1., 0., 0.],\n",
       "       [0., 0., 0., 1.],\n",
       "       [0., 0., 0., 1.],\n",
       "       [0., 0., 0., 1.],\n",
       "       [0., 1., 0., 0.],\n",
       "       [0., 1., 0., 0.],\n",
       "       [0., 0., 1., 0.],\n",
       "       [0., 0., 1., 0.],\n",
       "       [0., 0., 1., 0.],\n",
       "       [1., 0., 0., 0.],\n",
       "       [1., 0., 0., 0.],\n",
       "       [0., 0., 0., 1.],\n",
       "       [1., 0., 0., 0.]])"
      ]
     },
     "execution_count": 30,
     "metadata": {},
     "output_type": "execute_result"
    }
   ],
   "source": [
    "discritizer.fit_transform(data.reshape(-1, 1))"
   ]
  },
  {
   "cell_type": "code",
   "execution_count": 31,
   "id": "893f7210-d20a-49b6-b2e3-5a6a0af288fa",
   "metadata": {},
   "outputs": [
    {
     "data": {
      "text/plain": [
       "array([22, 65, 50, 82, 90, 93, 50, 56, 81, 71, 80, 48, 34, 83, 36])"
      ]
     },
     "execution_count": 31,
     "metadata": {},
     "output_type": "execute_result"
    }
   ],
   "source": [
    "data"
   ]
  },
  {
   "cell_type": "code",
   "execution_count": 32,
   "id": "2893a0b8-b440-45dd-9fd2-7423bcdb0746",
   "metadata": {},
   "outputs": [
    {
     "data": {
      "text/plain": [
       "array([array([22. , 49. , 65. , 81.5, 93. ])], dtype=object)"
      ]
     },
     "execution_count": 32,
     "metadata": {},
     "output_type": "execute_result"
    }
   ],
   "source": [
    "discritizer.bin_edges_"
   ]
  },
  {
   "cell_type": "code",
   "execution_count": 33,
   "id": "4bf33eb5-c7a2-4bed-9b52-d22600a8de11",
   "metadata": {},
   "outputs": [
    {
     "data": {
      "text/plain": [
       "array([[0.2937824 ],\n",
       "       [1.92538391],\n",
       "       [0.30356966],\n",
       "       [0.18572877],\n",
       "       [1.39870679]])"
      ]
     },
     "execution_count": 33,
     "metadata": {},
     "output_type": "execute_result"
    }
   ],
   "source": [
    "not_normal = np.random.lognormal(0, 1, 10_000).reshape(-1, 1)\n",
    "not_normal[:5]"
   ]
  },
  {
   "cell_type": "code",
   "execution_count": 34,
   "id": "276adcad-8db5-46f4-893c-6a934f0227d3",
   "metadata": {},
   "outputs": [
    {
     "data": {
      "image/png": "[encoded data removed]",
      "text/plain": [
       "<Figure size 640x480 with 1 Axes>"
      ]
     },
     "metadata": {},
     "output_type": "display_data"
    }
   ],
   "source": [
    "plt.hist(not_normal)\n",
    "plt.show()"
   ]
  },
  {
   "cell_type": "code",
   "execution_count": 35,
   "id": "8c723016-ff06-4913-99db-d4e1a56af012",
   "metadata": {},
   "outputs": [],
   "source": [
    "from sklearn.preprocessing import PowerTransformer"
   ]
  },
  {
   "cell_type": "code",
   "execution_count": 40,
   "id": "be23fc40-43c7-43e3-b3fd-7d8ec4633486",
   "metadata": {},
   "outputs": [],
   "source": [
    "transformer = PowerTransformer(method='box-cox')\n",
    "# method = ['yeo-johnson', 'box-cox']"
   ]
  },
  {
   "cell_type": "code",
   "execution_count": 41,
   "id": "2694a538-a137-441c-a30a-3e04a1f52e5d",
   "metadata": {},
   "outputs": [],
   "source": [
    "normal = transformer.fit_transform(not_normal)"
   ]
  },
  {
   "cell_type": "code",
   "execution_count": 42,
   "id": "1d337192-45cb-4c0e-a8ca-980a09897ca4",
   "metadata": {},
   "outputs": [
    {
     "data": {
      "image/png": "[encoded data removed]",
      "text/plain": [
       "<Figure size 640x480 with 1 Axes>"
      ]
     },
     "metadata": {},
     "output_type": "display_data"
    }
   ],
   "source": [
    "plt.hist(normal)\n",
    "plt.show()"
   ]
  },
  {
   "cell_type": "code",
   "execution_count": null,
   "id": "b03b3d21-5e32-456f-97b7-3a8592ef9906",
   "metadata": {},
   "outputs": [],
   "source": []
  }
 ],
 "metadata": {
  "kernelspec": {
   "display_name": "Python 3 (ipykernel)",
   "language": "python",
   "name": "python3"
  },
  "language_info": {
   "codemirror_mode": {
    "name": "ipython",
    "version": 3
   },
   "file_extension": ".py",
   "mimetype": "text/x-python",
   "name": "python",
   "nbconvert_exporter": "python",
   "pygments_lexer": "ipython3",
   "version": "3.10.11"
  }
 },
 "nbformat": 4,
 "nbformat_minor": 5
}
