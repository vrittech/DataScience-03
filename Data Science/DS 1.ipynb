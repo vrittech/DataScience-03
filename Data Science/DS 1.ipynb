{
 "cells": [
  {
   "cell_type": "markdown",
   "id": "beb66be7-0772-410f-bbfd-0b45afac2dd2",
   "metadata": {},
   "source": [
    "# Numpy Basics"
   ]
  },
  {
   "cell_type": "code",
   "execution_count": 1,
   "id": "bfc71a1f-cfee-41f0-9aa8-2c7b512c7ee4",
   "metadata": {},
   "outputs": [],
   "source": [
    "import numpy as np"
   ]
  },
  {
   "cell_type": "code",
   "execution_count": 2,
   "id": "82c338bf-b70b-40f3-b71c-00a1a1d37c38",
   "metadata": {},
   "outputs": [
    {
     "data": {
      "text/plain": [
       "'1.23.5'"
      ]
     },
     "execution_count": 2,
     "metadata": {},
     "output_type": "execute_result"
    }
   ],
   "source": [
    "np.__version__"
   ]
  },
  {
   "cell_type": "code",
   "execution_count": 3,
   "id": "f2f640dd-50e2-4a3d-8b31-4bd8124ac94e",
   "metadata": {},
   "outputs": [
    {
     "data": {
      "text/plain": [
       "[1, 2, 3, 4, 5, 6, 7, 8, 9, 10]"
      ]
     },
     "execution_count": 3,
     "metadata": {},
     "output_type": "execute_result"
    }
   ],
   "source": [
    "a_list = [1, 2, 3, 4, 5, 6, 7, 8, 9, 10]\n",
    "a_list"
   ]
  },
  {
   "cell_type": "code",
   "execution_count": 4,
   "id": "fe8320e3-0cf1-4f19-b893-5a8218f52548",
   "metadata": {},
   "outputs": [
    {
     "data": {
      "text/plain": [
       "list"
      ]
     },
     "execution_count": 4,
     "metadata": {},
     "output_type": "execute_result"
    }
   ],
   "source": [
    "type(a_list)"
   ]
  },
  {
   "cell_type": "code",
   "execution_count": 5,
   "id": "ceafe394-0c59-43ea-9f6c-2113a5ca3d03",
   "metadata": {},
   "outputs": [
    {
     "data": {
      "text/plain": [
       "array([ 1,  2,  3,  4,  5,  6,  7,  8,  9, 10])"
      ]
     },
     "execution_count": 5,
     "metadata": {},
     "output_type": "execute_result"
    }
   ],
   "source": [
    "a_arr = np.array(a_list)\n",
    "a_arr"
   ]
  },
  {
   "cell_type": "code",
   "execution_count": 6,
   "id": "c70e62e0-50c4-4f00-b39b-d7030ded358a",
   "metadata": {},
   "outputs": [
    {
     "data": {
      "text/plain": [
       "numpy.ndarray"
      ]
     },
     "execution_count": 6,
     "metadata": {},
     "output_type": "execute_result"
    }
   ],
   "source": [
    "type(a_arr)"
   ]
  },
  {
   "cell_type": "code",
   "execution_count": 7,
   "id": "fd47939d-f1db-40f5-a7b7-45051c9d2169",
   "metadata": {},
   "outputs": [
    {
     "data": {
      "text/plain": [
       "10"
      ]
     },
     "execution_count": 7,
     "metadata": {},
     "output_type": "execute_result"
    }
   ],
   "source": [
    "len(a_list)"
   ]
  },
  {
   "cell_type": "code",
   "execution_count": 8,
   "id": "5d9696aa-eb35-4b12-a267-72ec57e4b531",
   "metadata": {},
   "outputs": [
    {
     "data": {
      "text/plain": [
       "(10,)"
      ]
     },
     "execution_count": 8,
     "metadata": {},
     "output_type": "execute_result"
    }
   ],
   "source": [
    "a_arr.shape"
   ]
  },
  {
   "cell_type": "code",
   "execution_count": 9,
   "id": "2852b32a-402b-4208-80fd-7ffffdf5f573",
   "metadata": {},
   "outputs": [
    {
     "data": {
      "text/plain": [
       "4"
      ]
     },
     "execution_count": 9,
     "metadata": {},
     "output_type": "execute_result"
    }
   ],
   "source": [
    "a_arr[3]"
   ]
  },
  {
   "cell_type": "code",
   "execution_count": 10,
   "id": "9a833374-cecf-49af-ba77-48fa4ca01591",
   "metadata": {},
   "outputs": [
    {
     "data": {
      "text/plain": [
       "array([3, 4, 5, 6, 7, 8])"
      ]
     },
     "execution_count": 10,
     "metadata": {},
     "output_type": "execute_result"
    }
   ],
   "source": [
    "a_arr[2:8]"
   ]
  },
  {
   "cell_type": "code",
   "execution_count": 11,
   "id": "94f2feaa-d010-4a13-a711-5f3f18251775",
   "metadata": {},
   "outputs": [
    {
     "data": {
      "text/plain": [
       "array([3, 5, 7])"
      ]
     },
     "execution_count": 11,
     "metadata": {},
     "output_type": "execute_result"
    }
   ],
   "source": [
    "a_arr[2:8:2]"
   ]
  },
  {
   "cell_type": "code",
   "execution_count": 12,
   "id": "4eeffa6c-9f9a-4fb4-b521-f0731790e975",
   "metadata": {},
   "outputs": [
    {
     "data": {
      "text/plain": [
       "array([ 1,  2,  3,  4,  5,  6,  7,  8,  9, 10])"
      ]
     },
     "execution_count": 12,
     "metadata": {},
     "output_type": "execute_result"
    }
   ],
   "source": [
    "a_arr"
   ]
  },
  {
   "cell_type": "code",
   "execution_count": 13,
   "id": "0288a362-cfbb-491d-b29f-e93c45fe1c89",
   "metadata": {},
   "outputs": [
    {
     "data": {
      "text/plain": [
       "array([[ 1,  2,  3,  4,  5],\n",
       "       [ 6,  7,  8,  9, 10]])"
      ]
     },
     "execution_count": 13,
     "metadata": {},
     "output_type": "execute_result"
    }
   ],
   "source": [
    "a_arr.reshape(2, 5)"
   ]
  },
  {
   "cell_type": "code",
   "execution_count": 14,
   "id": "45400e2d-f3d7-40f6-a98a-3976a20fffc5",
   "metadata": {},
   "outputs": [
    {
     "data": {
      "text/plain": [
       "array([[ 1,  2],\n",
       "       [ 3,  4],\n",
       "       [ 5,  6],\n",
       "       [ 7,  8],\n",
       "       [ 9, 10]])"
      ]
     },
     "execution_count": 14,
     "metadata": {},
     "output_type": "execute_result"
    }
   ],
   "source": [
    "a_arr.reshape(5, 2)"
   ]
  },
  {
   "cell_type": "code",
   "execution_count": 15,
   "id": "5613fd68-86aa-4201-bc37-0dcc68a92356",
   "metadata": {},
   "outputs": [
    {
     "data": {
      "text/plain": [
       "array([ 1,  2,  3,  4,  5,  6,  7,  8,  9, 10])"
      ]
     },
     "execution_count": 15,
     "metadata": {},
     "output_type": "execute_result"
    }
   ],
   "source": [
    "a_arr"
   ]
  },
  {
   "cell_type": "code",
   "execution_count": 16,
   "id": "1b846cc3-88b2-43a3-be22-53aa889b8ae2",
   "metadata": {},
   "outputs": [
    {
     "data": {
      "text/plain": [
       "array([[ 1,  2],\n",
       "       [ 3,  4],\n",
       "       [ 5,  6],\n",
       "       [ 7,  8],\n",
       "       [ 9, 10]])"
      ]
     },
     "execution_count": 16,
     "metadata": {},
     "output_type": "execute_result"
    }
   ],
   "source": [
    "a_arr = a_arr.reshape(5, 2)\n",
    "a_arr"
   ]
  },
  {
   "cell_type": "code",
   "execution_count": 17,
   "id": "bfb0e200-1eda-4486-9e72-faa4e2bfd773",
   "metadata": {},
   "outputs": [
    {
     "data": {
      "text/plain": [
       "array([[ 1,  3,  5,  7,  9],\n",
       "       [ 2,  4,  6,  8, 10]])"
      ]
     },
     "execution_count": 17,
     "metadata": {},
     "output_type": "execute_result"
    }
   ],
   "source": [
    "a_arr.T # Transposing the matrix"
   ]
  },
  {
   "cell_type": "code",
   "execution_count": 18,
   "id": "93e12d50-6487-42aa-955f-c7391b12d9db",
   "metadata": {},
   "outputs": [
    {
     "data": {
      "text/plain": [
       "array([[ 1,  2],\n",
       "       [ 3,  4],\n",
       "       [ 5,  6],\n",
       "       [ 7,  8],\n",
       "       [ 9, 10]])"
      ]
     },
     "execution_count": 18,
     "metadata": {},
     "output_type": "execute_result"
    }
   ],
   "source": [
    "a_arr.T.T"
   ]
  },
  {
   "cell_type": "code",
   "execution_count": 19,
   "id": "4f6b54a6-d452-4401-b50b-7ab10a4352a4",
   "metadata": {},
   "outputs": [
    {
     "data": {
      "text/plain": [
       "[0, 5, 10, 15, 20, 25, 30, 35, 40, 45, 50, 55, 60, 65, 70, 75, 80, 85, 90, 95]"
      ]
     },
     "execution_count": 19,
     "metadata": {},
     "output_type": "execute_result"
    }
   ],
   "source": [
    "list(range(0, 100, 5))"
   ]
  },
  {
   "cell_type": "code",
   "execution_count": 20,
   "id": "6fb25115-3de0-4098-904b-e66862ad936f",
   "metadata": {},
   "outputs": [
    {
     "data": {
      "text/plain": [
       "array([ 0,  5, 10, 15, 20, 25, 30, 35, 40, 45, 50, 55, 60, 65, 70, 75, 80,\n",
       "       85, 90, 95])"
      ]
     },
     "execution_count": 20,
     "metadata": {},
     "output_type": "execute_result"
    }
   ],
   "source": [
    "# Numpy way of generating serial numbers, similar to range in python\n",
    "np.arange(0, 100, 5) # Start, Stop, Step"
   ]
  },
  {
   "cell_type": "code",
   "execution_count": 21,
   "id": "37e8c1e4-0d0a-4e9c-a11f-6febfcc47672",
   "metadata": {},
   "outputs": [
    {
     "data": {
      "text/plain": [
       "array([ 0. ,  2.2,  4.4,  6.6,  8.8, 11. , 13.2, 15.4])"
      ]
     },
     "execution_count": 21,
     "metadata": {},
     "output_type": "execute_result"
    }
   ],
   "source": [
    "np.arange(0, 15.553, 2.2)"
   ]
  },
  {
   "cell_type": "code",
   "execution_count": 22,
   "id": "9a75c18f-0cbd-42be-b1ad-bcc5ebf79b3a",
   "metadata": {},
   "outputs": [
    {
     "data": {
      "text/plain": [
       "[1, 2, 3, 4, 5, 6, 7, 8, 9, 10]"
      ]
     },
     "execution_count": 22,
     "metadata": {},
     "output_type": "execute_result"
    }
   ],
   "source": [
    "a_list"
   ]
  },
  {
   "cell_type": "code",
   "execution_count": 23,
   "id": "875c453c-c205-4b6d-a3f5-bea53b739776",
   "metadata": {},
   "outputs": [
    {
     "data": {
      "text/plain": [
       "[6, 7, 8, 9, 10, 11, 12, 13, 14, 15]"
      ]
     },
     "execution_count": 23,
     "metadata": {},
     "output_type": "execute_result"
    }
   ],
   "source": [
    "# Python way for element wise addition\n",
    "[x+5 for x in a_list] "
   ]
  },
  {
   "cell_type": "code",
   "execution_count": 24,
   "id": "808a76d0-dc4d-443e-aa8c-9f7e222d5753",
   "metadata": {},
   "outputs": [
    {
     "data": {
      "text/plain": [
       "[5, 10, 15, 20, 25, 30, 35, 40, 45, 50]"
      ]
     },
     "execution_count": 24,
     "metadata": {},
     "output_type": "execute_result"
    }
   ],
   "source": [
    "[x*5 for x in a_list] "
   ]
  },
  {
   "cell_type": "code",
   "execution_count": 25,
   "id": "b1011ab5-2a0b-4d8a-a043-046d30d5bf75",
   "metadata": {},
   "outputs": [
    {
     "data": {
      "text/plain": [
       "array([ 1,  2,  3,  4,  5,  6,  7,  8,  9, 10])"
      ]
     },
     "execution_count": 25,
     "metadata": {},
     "output_type": "execute_result"
    }
   ],
   "source": [
    "a_arr = np.arange(1, 11)\n",
    "a_arr"
   ]
  },
  {
   "cell_type": "code",
   "execution_count": 26,
   "id": "42b3b549-77b6-4f1d-9e06-76d3fffd6af1",
   "metadata": {},
   "outputs": [
    {
     "data": {
      "text/plain": [
       "array([ 6,  7,  8,  9, 10, 11, 12, 13, 14, 15])"
      ]
     },
     "execution_count": 26,
     "metadata": {},
     "output_type": "execute_result"
    }
   ],
   "source": [
    "# Numpy way for element wise addision\n",
    "a_arr + 5 "
   ]
  },
  {
   "cell_type": "code",
   "execution_count": 27,
   "id": "7232d0c5-09ad-4627-a1c3-ee49d4bc0138",
   "metadata": {},
   "outputs": [
    {
     "data": {
      "text/plain": [
       "array([ 5, 10, 15, 20, 25, 30, 35, 40, 45, 50])"
      ]
     },
     "execution_count": 27,
     "metadata": {},
     "output_type": "execute_result"
    }
   ],
   "source": [
    "a_arr * 5"
   ]
  },
  {
   "cell_type": "code",
   "execution_count": 28,
   "id": "cd48c63a-09be-4b58-9738-8066625d10b9",
   "metadata": {},
   "outputs": [
    {
     "data": {
      "text/plain": [
       "array([0.00215054, 0.00430108, 0.00645161, 0.00860215, 0.01075269,\n",
       "       0.01290323, 0.01505376, 0.0172043 , 0.01935484, 0.02150538])"
      ]
     },
     "execution_count": 28,
     "metadata": {},
     "output_type": "execute_result"
    }
   ],
   "source": [
    "a_arr / 465"
   ]
  },
  {
   "cell_type": "code",
   "execution_count": 29,
   "id": "141421e0-46de-4438-8374-a95bcffe522d",
   "metadata": {},
   "outputs": [
    {
     "data": {
      "text/plain": [
       "array([100, 102, 104, 106, 108, 110, 112, 114, 116, 118, 120, 122, 124,\n",
       "       126, 128, 130, 132, 134, 136, 138, 140, 142, 144, 146, 148, 150,\n",
       "       152, 154, 156, 158, 160, 162, 164, 166, 168, 170, 172, 174, 176,\n",
       "       178, 180, 182, 184, 186, 188, 190, 192, 194, 196, 198, 200, 202,\n",
       "       204, 206, 208, 210, 212, 214, 216, 218, 220, 222, 224, 226, 228,\n",
       "       230, 232, 234, 236, 238, 240, 242, 244, 246, 248, 250, 252, 254,\n",
       "       256, 258, 260, 262, 264, 266, 268, 270, 272, 274, 276, 278, 280,\n",
       "       282, 284, 286, 288, 290, 292, 294, 296, 298])"
      ]
     },
     "execution_count": 29,
     "metadata": {},
     "output_type": "execute_result"
    }
   ],
   "source": [
    "a = np.arange(100, 300, 2) # Start, Stop, Step\n",
    "a"
   ]
  },
  {
   "cell_type": "code",
   "execution_count": 30,
   "id": "fda9e701-ffe1-41e4-bc64-42c076c8a1bd",
   "metadata": {},
   "outputs": [
    {
     "data": {
      "text/plain": [
       "(100,)"
      ]
     },
     "execution_count": 30,
     "metadata": {},
     "output_type": "execute_result"
    }
   ],
   "source": [
    "a.shape"
   ]
  },
  {
   "cell_type": "code",
   "execution_count": 31,
   "id": "03e07d96-7bb4-4173-87ae-c3321caa54b5",
   "metadata": {},
   "outputs": [
    {
     "data": {
      "text/plain": [
       "array([[100, 102, 104, 106, 108, 110, 112, 114, 116, 118],\n",
       "       [120, 122, 124, 126, 128, 130, 132, 134, 136, 138],\n",
       "       [140, 142, 144, 146, 148, 150, 152, 154, 156, 158],\n",
       "       [160, 162, 164, 166, 168, 170, 172, 174, 176, 178],\n",
       "       [180, 182, 184, 186, 188, 190, 192, 194, 196, 198],\n",
       "       [200, 202, 204, 206, 208, 210, 212, 214, 216, 218],\n",
       "       [220, 222, 224, 226, 228, 230, 232, 234, 236, 238],\n",
       "       [240, 242, 244, 246, 248, 250, 252, 254, 256, 258],\n",
       "       [260, 262, 264, 266, 268, 270, 272, 274, 276, 278],\n",
       "       [280, 282, 284, 286, 288, 290, 292, 294, 296, 298]])"
      ]
     },
     "execution_count": 31,
     "metadata": {},
     "output_type": "execute_result"
    }
   ],
   "source": [
    "a = a.reshape(10, 10)\n",
    "a"
   ]
  },
  {
   "cell_type": "code",
   "execution_count": 32,
   "id": "426b7d70-46bb-4a8d-ae8d-d2ff9d2c5dc8",
   "metadata": {},
   "outputs": [
    {
     "data": {
      "text/plain": [
       "199.0"
      ]
     },
     "execution_count": 32,
     "metadata": {},
     "output_type": "execute_result"
    }
   ],
   "source": [
    "a.mean()"
   ]
  },
  {
   "cell_type": "code",
   "execution_count": 33,
   "id": "b56c426e-2516-47a7-b058-98651dac5d9c",
   "metadata": {},
   "outputs": [
    {
     "data": {
      "text/plain": [
       "100"
      ]
     },
     "execution_count": 33,
     "metadata": {},
     "output_type": "execute_result"
    }
   ],
   "source": [
    "a.min()"
   ]
  },
  {
   "cell_type": "code",
   "execution_count": 34,
   "id": "cce328cd-c62a-4c67-97a7-8f4334fac523",
   "metadata": {},
   "outputs": [
    {
     "data": {
      "text/plain": [
       "298"
      ]
     },
     "execution_count": 34,
     "metadata": {},
     "output_type": "execute_result"
    }
   ],
   "source": [
    "a.max()"
   ]
  },
  {
   "cell_type": "code",
   "execution_count": 35,
   "id": "b106ddac-bd07-4d47-b437-2e93025f9dba",
   "metadata": {},
   "outputs": [
    {
     "data": {
      "text/plain": [
       "57.73214009544424"
      ]
     },
     "execution_count": 35,
     "metadata": {},
     "output_type": "execute_result"
    }
   ],
   "source": [
    "a.std()"
   ]
  },
  {
   "cell_type": "code",
   "execution_count": 36,
   "id": "bfa30b22-755d-4702-9645-fb66005a27fb",
   "metadata": {},
   "outputs": [
    {
     "data": {
      "text/plain": [
       "array([109., 129., 149., 169., 189., 209., 229., 249., 269., 289.])"
      ]
     },
     "execution_count": 36,
     "metadata": {},
     "output_type": "execute_result"
    }
   ],
   "source": [
    "# Row wise mean\n",
    "a.mean(axis=1)"
   ]
  },
  {
   "cell_type": "code",
   "execution_count": 37,
   "id": "57f0d699-206d-43c8-b31c-980ef2ec314a",
   "metadata": {},
   "outputs": [
    {
     "data": {
      "text/plain": [
       "array([190., 192., 194., 196., 198., 200., 202., 204., 206., 208.])"
      ]
     },
     "execution_count": 37,
     "metadata": {},
     "output_type": "execute_result"
    }
   ],
   "source": [
    "# Column Wise mean\n",
    "a.mean(axis=0)"
   ]
  },
  {
   "cell_type": "code",
   "execution_count": 38,
   "id": "a41a75b2-180a-4fb9-aacd-ab432a37955f",
   "metadata": {},
   "outputs": [
    {
     "data": {
      "text/plain": [
       "array([5.74456265, 5.74456265, 5.74456265, 5.74456265, 5.74456265,\n",
       "       5.74456265, 5.74456265, 5.74456265, 5.74456265, 5.74456265])"
      ]
     },
     "execution_count": 38,
     "metadata": {},
     "output_type": "execute_result"
    }
   ],
   "source": [
    "a.std(axis=1)"
   ]
  },
  {
   "cell_type": "code",
   "execution_count": 39,
   "id": "5090cff1-c23a-4961-bf58-e9fa9749a873",
   "metadata": {},
   "outputs": [
    {
     "data": {
      "text/plain": [
       "array([57.44562647, 57.44562647, 57.44562647, 57.44562647, 57.44562647,\n",
       "       57.44562647, 57.44562647, 57.44562647, 57.44562647, 57.44562647])"
      ]
     },
     "execution_count": 39,
     "metadata": {},
     "output_type": "execute_result"
    }
   ],
   "source": [
    "a.std(axis=0)\n"
   ]
  },
  {
   "cell_type": "code",
   "execution_count": 40,
   "id": "01116804-38f7-4c3b-a403-6c62561513d7",
   "metadata": {},
   "outputs": [
    {
     "data": {
      "text/plain": [
       "array([ 1.        ,  1.64285714,  2.28571429,  2.92857143,  3.57142857,\n",
       "        4.21428571,  4.85714286,  5.5       ,  6.14285714,  6.78571429,\n",
       "        7.42857143,  8.07142857,  8.71428571,  9.35714286, 10.        ])"
      ]
     },
     "execution_count": 40,
     "metadata": {},
     "output_type": "execute_result"
    }
   ],
   "source": [
    "np.linspace(1, 10, 15) # start, stop, size"
   ]
  },
  {
   "cell_type": "code",
   "execution_count": 41,
   "id": "fdeba9c4-8682-4c87-9a0f-9116b54ebb6a",
   "metadata": {},
   "outputs": [
    {
     "data": {
      "text/plain": [
       "array([1.        , 1.64285714, 2.28571428, 2.92857142, 3.57142856,\n",
       "       4.2142857 , 4.85714284, 5.49999998, 6.14285712, 6.78571426,\n",
       "       7.4285714 , 8.07142854, 8.71428568, 9.35714282, 9.99999996])"
      ]
     },
     "execution_count": 41,
     "metadata": {},
     "output_type": "execute_result"
    }
   ],
   "source": [
    "np.arange(1, 10, 0.64285714)"
   ]
  },
  {
   "cell_type": "code",
   "execution_count": 42,
   "id": "d224b76d-e501-451d-a390-b27deb45f32a",
   "metadata": {},
   "outputs": [
    {
     "data": {
      "text/plain": [
       "array([[1., 1., 1., 1., 1., 1., 1., 1., 1., 1.],\n",
       "       [1., 1., 1., 1., 1., 1., 1., 1., 1., 1.],\n",
       "       [1., 1., 1., 1., 1., 1., 1., 1., 1., 1.],\n",
       "       [1., 1., 1., 1., 1., 1., 1., 1., 1., 1.],\n",
       "       [1., 1., 1., 1., 1., 1., 1., 1., 1., 1.],\n",
       "       [1., 1., 1., 1., 1., 1., 1., 1., 1., 1.],\n",
       "       [1., 1., 1., 1., 1., 1., 1., 1., 1., 1.],\n",
       "       [1., 1., 1., 1., 1., 1., 1., 1., 1., 1.],\n",
       "       [1., 1., 1., 1., 1., 1., 1., 1., 1., 1.],\n",
       "       [1., 1., 1., 1., 1., 1., 1., 1., 1., 1.]])"
      ]
     },
     "execution_count": 42,
     "metadata": {},
     "output_type": "execute_result"
    }
   ],
   "source": [
    "one = np.ones(100)\n",
    "one.reshape(10, 10)"
   ]
  },
  {
   "cell_type": "code",
   "execution_count": 43,
   "id": "de8830fd-3671-4515-a8a9-4aa5a12d596d",
   "metadata": {},
   "outputs": [
    {
     "data": {
      "text/plain": [
       "array([[0., 0., 0., 0., 0., 0., 0., 0., 0., 0.],\n",
       "       [0., 0., 0., 0., 0., 0., 0., 0., 0., 0.],\n",
       "       [0., 0., 0., 0., 0., 0., 0., 0., 0., 0.],\n",
       "       [0., 0., 0., 0., 0., 0., 0., 0., 0., 0.],\n",
       "       [0., 0., 0., 0., 0., 0., 0., 0., 0., 0.],\n",
       "       [0., 0., 0., 0., 0., 0., 0., 0., 0., 0.],\n",
       "       [0., 0., 0., 0., 0., 0., 0., 0., 0., 0.],\n",
       "       [0., 0., 0., 0., 0., 0., 0., 0., 0., 0.],\n",
       "       [0., 0., 0., 0., 0., 0., 0., 0., 0., 0.],\n",
       "       [0., 0., 0., 0., 0., 0., 0., 0., 0., 0.]])"
      ]
     },
     "execution_count": 43,
     "metadata": {},
     "output_type": "execute_result"
    }
   ],
   "source": [
    "zero = np.zeros(100)\n",
    "zero.reshape(10, 10)"
   ]
  },
  {
   "cell_type": "code",
   "execution_count": 44,
   "id": "f54a9ce5-1a32-40e1-b14a-b69547a887e7",
   "metadata": {},
   "outputs": [
    {
     "data": {
      "text/plain": [
       "[[55, 55, 55, 55, 55, 55, 55, 55, 55, 55],\n",
       " [55, 55, 55, 55, 55, 55, 55, 55, 55, 55],\n",
       " [55, 55, 55, 55, 55, 55, 55, 55, 55, 55],\n",
       " [55, 55, 55, 55, 55, 55, 55, 55, 55, 55],\n",
       " [55, 55, 55, 55, 55, 55, 55, 55, 55, 55],\n",
       " [55, 55, 55, 55, 55, 55, 55, 55, 55, 55],\n",
       " [55, 55, 55, 55, 55, 55, 55, 55, 55, 55],\n",
       " [55, 55, 55, 55, 55, 55, 55, 55, 55, 55],\n",
       " [55, 55, 55, 55, 55, 55, 55, 55, 55, 55],\n",
       " [55, 55, 55, 55, 55, 55, 55, 55, 55, 55]]"
      ]
     },
     "execution_count": 44,
     "metadata": {},
     "output_type": "execute_result"
    }
   ],
   "source": [
    "[[55] * 10] * 10"
   ]
  },
  {
   "cell_type": "code",
   "execution_count": 45,
   "id": "b157fc38-270c-4494-ab1d-5517e621d8d8",
   "metadata": {},
   "outputs": [
    {
     "data": {
      "text/plain": [
       "array([[-55., -55., -55., -55., -55., -55., -55., -55., -55., -55.],\n",
       "       [-55., -55., -55., -55., -55., -55., -55., -55., -55., -55.],\n",
       "       [-55., -55., -55., -55., -55., -55., -55., -55., -55., -55.],\n",
       "       [-55., -55., -55., -55., -55., -55., -55., -55., -55., -55.],\n",
       "       [-55., -55., -55., -55., -55., -55., -55., -55., -55., -55.],\n",
       "       [-55., -55., -55., -55., -55., -55., -55., -55., -55., -55.],\n",
       "       [-55., -55., -55., -55., -55., -55., -55., -55., -55., -55.],\n",
       "       [-55., -55., -55., -55., -55., -55., -55., -55., -55., -55.],\n",
       "       [-55., -55., -55., -55., -55., -55., -55., -55., -55., -55.],\n",
       "       [-55., -55., -55., -55., -55., -55., -55., -55., -55., -55.]])"
      ]
     },
     "execution_count": 45,
     "metadata": {},
     "output_type": "execute_result"
    }
   ],
   "source": [
    "one.reshape(10, 10) * -55"
   ]
  },
  {
   "cell_type": "code",
   "execution_count": 46,
   "id": "a8814563-c779-4fa7-84b8-79326904abbe",
   "metadata": {},
   "outputs": [
    {
     "data": {
      "text/plain": [
       "array([[-55., -55., -55., -55., -55., -55., -55., -55., -55., -55.],\n",
       "       [-55., -55., -55., -55., -55., -55., -55., -55., -55., -55.],\n",
       "       [-55., -55., -55., -55., -55., -55., -55., -55., -55., -55.],\n",
       "       [-55., -55., -55., -55., -55., -55., -55., -55., -55., -55.],\n",
       "       [-55., -55., -55., -55., -55., -55., -55., -55., -55., -55.],\n",
       "       [-55., -55., -55., -55., -55., -55., -55., -55., -55., -55.],\n",
       "       [-55., -55., -55., -55., -55., -55., -55., -55., -55., -55.],\n",
       "       [-55., -55., -55., -55., -55., -55., -55., -55., -55., -55.],\n",
       "       [-55., -55., -55., -55., -55., -55., -55., -55., -55., -55.],\n",
       "       [-55., -55., -55., -55., -55., -55., -55., -55., -55., -55.]])"
      ]
     },
     "execution_count": 46,
     "metadata": {},
     "output_type": "execute_result"
    }
   ],
   "source": [
    "zero.reshape(10, 10) + -55\n"
   ]
  },
  {
   "cell_type": "code",
   "execution_count": 47,
   "id": "c153dd29-8ae7-4633-8e56-2af5bdbd8a11",
   "metadata": {},
   "outputs": [
    {
     "data": {
      "text/plain": [
       "array([[55, 55, 55, 55, 55, 55, 55, 55, 55, 55],\n",
       "       [55, 55, 55, 55, 55, 55, 55, 55, 55, 55],\n",
       "       [55, 55, 55, 55, 55, 55, 55, 55, 55, 55],\n",
       "       [55, 55, 55, 55, 55, 55, 55, 55, 55, 55],\n",
       "       [55, 55, 55, 55, 55, 55, 55, 55, 55, 55],\n",
       "       [55, 55, 55, 55, 55, 55, 55, 55, 55, 55],\n",
       "       [55, 55, 55, 55, 55, 55, 55, 55, 55, 55],\n",
       "       [55, 55, 55, 55, 55, 55, 55, 55, 55, 55],\n",
       "       [55, 55, 55, 55, 55, 55, 55, 55, 55, 55],\n",
       "       [55, 55, 55, 55, 55, 55, 55, 55, 55, 55]])"
      ]
     },
     "execution_count": 47,
     "metadata": {},
     "output_type": "execute_result"
    }
   ],
   "source": [
    "np.full((10, 10), 55,)"
   ]
  },
  {
   "cell_type": "code",
   "execution_count": 48,
   "id": "e0df0be8-f7ea-4d9c-8a5f-5aef2fba13da",
   "metadata": {},
   "outputs": [
    {
     "data": {
      "text/plain": [
       "array([[1., 0., 0., 0., 0.],\n",
       "       [0., 1., 0., 0., 0.],\n",
       "       [0., 0., 1., 0., 0.],\n",
       "       [0., 0., 0., 1., 0.],\n",
       "       [0., 0., 0., 0., 1.]])"
      ]
     },
     "execution_count": 48,
     "metadata": {},
     "output_type": "execute_result"
    }
   ],
   "source": [
    "np.identity(5)"
   ]
  },
  {
   "cell_type": "code",
   "execution_count": 49,
   "id": "e465fad4-450b-48d8-b712-87544d0661ac",
   "metadata": {},
   "outputs": [
    {
     "data": {
      "text/plain": [
       "array([[1., 0., 0., 0., 0.],\n",
       "       [0., 1., 0., 0., 0.],\n",
       "       [0., 0., 1., 0., 0.],\n",
       "       [0., 0., 0., 1., 0.],\n",
       "       [0., 0., 0., 0., 1.]])"
      ]
     },
     "execution_count": 49,
     "metadata": {},
     "output_type": "execute_result"
    }
   ],
   "source": [
    "np.eye(5, 5)"
   ]
  },
  {
   "cell_type": "code",
   "execution_count": 50,
   "id": "b331a915-d239-474b-8d63-c381e163e704",
   "metadata": {},
   "outputs": [
    {
     "data": {
      "text/plain": [
       "array([[1., 0., 0., 0.],\n",
       "       [0., 1., 0., 0.]])"
      ]
     },
     "execution_count": 50,
     "metadata": {},
     "output_type": "execute_result"
    }
   ],
   "source": [
    "np.eye(2, 4)"
   ]
  },
  {
   "cell_type": "code",
   "execution_count": 51,
   "id": "066a7257-c000-4cb6-98cd-35528523cee9",
   "metadata": {},
   "outputs": [
    {
     "data": {
      "text/plain": [
       "array([[18,  0,  0,  0,  0],\n",
       "       [ 0, 18,  0,  0,  0],\n",
       "       [ 0,  0, 18,  0,  0],\n",
       "       [ 0,  0,  0, 18,  0],\n",
       "       [ 0,  0,  0,  0, 18]])"
      ]
     },
     "execution_count": 51,
     "metadata": {},
     "output_type": "execute_result"
    }
   ],
   "source": [
    "np.identity(5, dtype=int) * 18"
   ]
  },
  {
   "cell_type": "code",
   "execution_count": 52,
   "id": "e4178d74-1b1b-4d0c-8e8e-2dc453a5b06d",
   "metadata": {},
   "outputs": [
    {
     "data": {
      "text/plain": [
       "array([[ 1,  2,  3,  4],\n",
       "       [ 5,  6,  7,  8],\n",
       "       [ 9, 10, 11, 12]])"
      ]
     },
     "execution_count": 52,
     "metadata": {},
     "output_type": "execute_result"
    }
   ],
   "source": [
    "arr = np.arange(1, 13).reshape(3, 4)\n",
    "arr"
   ]
  },
  {
   "cell_type": "code",
   "execution_count": 53,
   "id": "9c7d9148-f65a-414b-9cef-72b3966d2943",
   "metadata": {},
   "outputs": [
    {
     "data": {
      "text/plain": [
       "array([[11, 12, 13, 14],\n",
       "       [15, 16, 17, 18],\n",
       "       [19, 20, 21, 22]])"
      ]
     },
     "execution_count": 53,
     "metadata": {},
     "output_type": "execute_result"
    }
   ],
   "source": [
    "arr2 = np.arange(11, 23).reshape(3, 4)\n",
    "arr2"
   ]
  },
  {
   "cell_type": "code",
   "execution_count": 54,
   "id": "6f59b2a9-e03c-4a70-961e-dbfc2d215a66",
   "metadata": {},
   "outputs": [
    {
     "data": {
      "text/plain": [
       "array([[12, 14, 16, 18],\n",
       "       [20, 22, 24, 26],\n",
       "       [28, 30, 32, 34]])"
      ]
     },
     "execution_count": 54,
     "metadata": {},
     "output_type": "execute_result"
    }
   ],
   "source": [
    "arr + arr2"
   ]
  },
  {
   "cell_type": "code",
   "execution_count": 55,
   "id": "c0f17ce9-7d10-4d35-a7f9-a2fe5c12e85d",
   "metadata": {},
   "outputs": [
    {
     "data": {
      "text/plain": [
       "array([[ 11,  24,  39,  56],\n",
       "       [ 75,  96, 119, 144],\n",
       "       [171, 200, 231, 264]])"
      ]
     },
     "execution_count": 55,
     "metadata": {},
     "output_type": "execute_result"
    }
   ],
   "source": [
    "arr * arr2 # Element wise multiplication"
   ]
  },
  {
   "cell_type": "code",
   "execution_count": 56,
   "id": "0aa6c146-9228-45ab-a713-fc4c74cc00ab",
   "metadata": {},
   "outputs": [
    {
     "data": {
      "text/plain": [
       "array([[130, 170, 210],\n",
       "       [330, 434, 538],\n",
       "       [530, 698, 866]])"
      ]
     },
     "execution_count": 56,
     "metadata": {},
     "output_type": "execute_result"
    }
   ],
   "source": [
    "np.dot(arr, arr2.T) # Matrix Multiplication"
   ]
  },
  {
   "cell_type": "code",
   "execution_count": 57,
   "id": "6cca91b8-ac0b-4707-9482-af1cddbb8e5a",
   "metadata": {},
   "outputs": [
    {
     "data": {
      "text/plain": [
       "array([[257, 272, 287, 302],\n",
       "       [302, 320, 338, 356],\n",
       "       [347, 368, 389, 410],\n",
       "       [392, 416, 440, 464]])"
      ]
     },
     "execution_count": 57,
     "metadata": {},
     "output_type": "execute_result"
    }
   ],
   "source": [
    "np.dot(arr.T, arr2) # Matrix Multiplication\n"
   ]
  },
  {
   "cell_type": "code",
   "execution_count": 58,
   "id": "9cd368ee-d081-4f42-82a3-052b6171331e",
   "metadata": {},
   "outputs": [
    {
     "data": {
      "text/plain": [
       "array([[130, 170, 210],\n",
       "       [330, 434, 538],\n",
       "       [530, 698, 866]])"
      ]
     },
     "execution_count": 58,
     "metadata": {},
     "output_type": "execute_result"
    }
   ],
   "source": [
    "arr.dot(arr2.T)"
   ]
  },
  {
   "cell_type": "code",
   "execution_count": 59,
   "id": "e2e33d9f-5342-483a-a4a6-ea1e46195420",
   "metadata": {},
   "outputs": [
    {
     "data": {
      "text/plain": [
       "array([[130, 330, 530],\n",
       "       [170, 434, 698],\n",
       "       [210, 538, 866]])"
      ]
     },
     "execution_count": 59,
     "metadata": {},
     "output_type": "execute_result"
    }
   ],
   "source": [
    "arr2.dot(arr.T)"
   ]
  },
  {
   "cell_type": "code",
   "execution_count": 60,
   "id": "a7821d04-625c-4763-8729-3cc39bb35a78",
   "metadata": {},
   "outputs": [
    {
     "data": {
      "text/plain": [
       "array([[257, 272, 287, 302],\n",
       "       [302, 320, 338, 356],\n",
       "       [347, 368, 389, 410],\n",
       "       [392, 416, 440, 464]])"
      ]
     },
     "execution_count": 60,
     "metadata": {},
     "output_type": "execute_result"
    }
   ],
   "source": [
    "mat = np.dot(arr.T, arr2)\n",
    "mat"
   ]
  },
  {
   "cell_type": "code",
   "execution_count": 61,
   "id": "d2af9c7a-42cb-4f44-bdab-6f375a348a86",
   "metadata": {},
   "outputs": [
    {
     "data": {
      "text/plain": [
       "array([[ 1.75921860e+13, -1.75921860e+13, -1.75921860e+13,\n",
       "         1.75921860e+13],\n",
       "       [-2.34562481e+13,  1.75921860e+13,  3.51843721e+13,\n",
       "        -2.93203101e+13],\n",
       "       [-5.86406201e+12,  1.75921860e+13, -1.75921860e+13,\n",
       "         5.86406201e+12],\n",
       "       [ 1.17281240e+13, -1.75921860e+13, -0.00000000e+00,\n",
       "         5.86406201e+12]])"
      ]
     },
     "execution_count": 61,
     "metadata": {},
     "output_type": "execute_result"
    }
   ],
   "source": [
    "np.linalg.inv(mat) # Inverse of a matrix"
   ]
  },
  {
   "cell_type": "code",
   "execution_count": 62,
   "id": "7b53b8c9-761d-4298-bf1f-ba869c79f2de",
   "metadata": {},
   "outputs": [
    {
     "data": {
      "text/plain": [
       "array([[257, 272, 287, 302],\n",
       "       [302, 320, 338, 356],\n",
       "       [347, 368, 389, 410],\n",
       "       [392, 416, 440, 464]])"
      ]
     },
     "execution_count": 62,
     "metadata": {},
     "output_type": "execute_result"
    }
   ],
   "source": [
    "mat"
   ]
  },
  {
   "cell_type": "code",
   "execution_count": 63,
   "id": "83d3d95a-cc28-4df0-942c-508935df9999",
   "metadata": {},
   "outputs": [
    {
     "data": {
      "text/plain": [
       "array([257, 272, 287, 302, 302, 320, 338, 356, 347, 368, 389, 410, 392,\n",
       "       416, 440, 464])"
      ]
     },
     "execution_count": 63,
     "metadata": {},
     "output_type": "execute_result"
    }
   ],
   "source": [
    "mat.flatten()"
   ]
  },
  {
   "cell_type": "code",
   "execution_count": 64,
   "id": "6d885938-e1c3-4c22-a5f5-e9ae8245c164",
   "metadata": {},
   "outputs": [
    {
     "data": {
      "text/plain": [
       "array([257, 272, 287, 302, 302, 320, 338, 356, 347, 368, 389, 410, 392,\n",
       "       416, 440, 464])"
      ]
     },
     "execution_count": 64,
     "metadata": {},
     "output_type": "execute_result"
    }
   ],
   "source": [
    "mat.ravel()"
   ]
  },
  {
   "cell_type": "code",
   "execution_count": 65,
   "id": "59ef55d0-9b41-4124-a0c4-38b2d9a693fe",
   "metadata": {},
   "outputs": [],
   "source": [
    "import time"
   ]
  },
  {
   "cell_type": "code",
   "execution_count": 66,
   "id": "078241c1-4a2d-4e38-ae8e-df0c60b2571b",
   "metadata": {},
   "outputs": [
    {
     "name": "stdout",
     "output_type": "stream",
     "text": [
      "Time Taken: 1.203125\n"
     ]
    }
   ],
   "source": [
    "now = time.process_time()\n",
    "list(range(10_00_00_000))\n",
    "print(f'Time Taken: {time.process_time() - now}')"
   ]
  },
  {
   "cell_type": "code",
   "execution_count": 67,
   "id": "c1f3257d-cb3d-46f0-8607-2acae6a53ef2",
   "metadata": {},
   "outputs": [
    {
     "name": "stdout",
     "output_type": "stream",
     "text": [
      "Time Taken: 0.078125\n"
     ]
    }
   ],
   "source": [
    "now = time.process_time()\n",
    "np.arange(10_00_00_000)\n",
    "print(f'Time Taken: {time.process_time() - now}')"
   ]
  },
  {
   "cell_type": "code",
   "execution_count": 69,
   "id": "56f8d354-9470-45be-81ff-ef6933004812",
   "metadata": {},
   "outputs": [
    {
     "data": {
      "text/plain": [
       "15.4"
      ]
     },
     "execution_count": 69,
     "metadata": {},
     "output_type": "execute_result"
    }
   ],
   "source": [
    "1.203125 / 0.078125"
   ]
  },
  {
   "cell_type": "code",
   "execution_count": null,
   "id": "7d2f719e-1bf2-4794-bcaf-3da406737187",
   "metadata": {},
   "outputs": [],
   "source": []
  }
 ],
 "metadata": {
  "kernelspec": {
   "display_name": "Python 3 (ipykernel)",
   "language": "python",
   "name": "python3"
  },
  "language_info": {
   "codemirror_mode": {
    "name": "ipython",
    "version": 3
   },
   "file_extension": ".py",
   "mimetype": "text/x-python",
   "name": "python",
   "nbconvert_exporter": "python",
   "pygments_lexer": "ipython3",
   "version": "3.10.11"
  }
 },
 "nbformat": 4,
 "nbformat_minor": 5
}
