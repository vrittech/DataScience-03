{
 "cells": [
  {
   "cell_type": "markdown",
   "id": "eb3e54b5-9c9c-4482-b48c-6e7251a55dff",
   "metadata": {},
   "source": [
    "# Functions Contd."
   ]
  },
  {
   "cell_type": "markdown",
   "id": "544c206c-ff9a-4dde-a7ed-8ca29545bd06",
   "metadata": {},
   "source": [
    "## Recursion\n",
    "* A function calling itself."
   ]
  },
  {
   "cell_type": "markdown",
   "id": "9e63eda3-5d58-48ee-b7c7-34ac514c43bc",
   "metadata": {},
   "source": [
    "```python\n",
    "def some_function():\n",
    "    some_function()\n",
    "```"
   ]
  },
  {
   "cell_type": "code",
   "execution_count": 1,
   "id": "1d0280b6-018d-4d5d-8607-b832193268fa",
   "metadata": {},
   "outputs": [],
   "source": [
    "def fact(n):\n",
    "    fac = 1\n",
    "    if n == 0:\n",
    "        return fac\n",
    "    for i in range(1, n+1):\n",
    "        fac *= i\n",
    "    return fac"
   ]
  },
  {
   "cell_type": "code",
   "execution_count": 2,
   "id": "8a81d0ad-f382-47ff-8f13-5af7efcf560b",
   "metadata": {},
   "outputs": [
    {
     "data": {
      "text/plain": [
       "120"
      ]
     },
     "execution_count": 2,
     "metadata": {},
     "output_type": "execute_result"
    }
   ],
   "source": [
    "fact(5)"
   ]
  },
  {
   "cell_type": "code",
   "execution_count": 5,
   "id": "7a2ccfbf-3442-4c80-9b86-a54bc4290b9d",
   "metadata": {},
   "outputs": [],
   "source": [
    "# factorial using recursion\n",
    "def fact_recursion(n):\n",
    "    if n <= 1:\n",
    "        return 1\n",
    "    return n * fact_recursion(n - 1)"
   ]
  },
  {
   "cell_type": "code",
   "execution_count": 6,
   "id": "ef8fd866-fe80-4dcd-9006-bb944169af9e",
   "metadata": {},
   "outputs": [
    {
     "data": {
      "text/plain": [
       "120"
      ]
     },
     "execution_count": 6,
     "metadata": {},
     "output_type": "execute_result"
    }
   ],
   "source": [
    "fact_recursion(5)"
   ]
  },
  {
   "cell_type": "code",
   "execution_count": 7,
   "id": "d09a0c6c-10af-479b-a6d1-17b6f4355d51",
   "metadata": {},
   "outputs": [],
   "source": [
    "# [0, 1, 1, 2, 3, 5, 8, 13, 21, 34, 55]\n",
    "\n",
    "def fibo(n):\n",
    "    sequence = [0, 1]\n",
    "    if n <= 1:\n",
    "        return sequence\n",
    "\n",
    "    count = 1\n",
    "    while count < n:\n",
    "        new_value = sequence[count] + sequence[count - 1]\n",
    "        sequence.append(new_value)\n",
    "        count += 1\n",
    "    return sequence"
   ]
  },
  {
   "cell_type": "code",
   "execution_count": 10,
   "id": "857fc382-34e4-4e56-a8d6-f598eeba2105",
   "metadata": {},
   "outputs": [
    {
     "data": {
      "text/plain": [
       "[0, 1, 1, 2, 3, 5, 8, 13, 21, 34, 55, 89, 144, 233, 377, 610]"
      ]
     },
     "execution_count": 10,
     "metadata": {},
     "output_type": "execute_result"
    }
   ],
   "source": [
    "fibo(15)"
   ]
  },
  {
   "cell_type": "markdown",
   "id": "ff29a132-70ed-415b-a347-4056180a73b2",
   "metadata": {},
   "source": [
    "*fib(n) = fib(n-1) + fib(n-2)*"
   ]
  },
  {
   "cell_type": "code",
   "execution_count": 11,
   "id": "e12c6ba3-39f3-4b4f-b830-5900eadecae7",
   "metadata": {},
   "outputs": [],
   "source": [
    "def fibo_recursive(n):\n",
    "    if n <= 1:\n",
    "        return 1\n",
    "    return fibo_recursive(n-1) + fibo_recursive(n-2)"
   ]
  },
  {
   "cell_type": "code",
   "execution_count": 12,
   "id": "4be5dcc0-ebdd-4650-bd43-e73eef591db8",
   "metadata": {},
   "outputs": [
    {
     "data": {
      "text/plain": [
       "89"
      ]
     },
     "execution_count": 12,
     "metadata": {},
     "output_type": "execute_result"
    }
   ],
   "source": [
    "fibo_recursive(10)"
   ]
  },
  {
   "cell_type": "code",
   "execution_count": 14,
   "id": "2253711a-33d3-46d7-94cd-01c8bb6197c6",
   "metadata": {},
   "outputs": [
    {
     "data": {
      "text/plain": [
       "[1, 1, 2, 3, 5, 8, 13, 21, 34, 55]"
      ]
     },
     "execution_count": 14,
     "metadata": {},
     "output_type": "execute_result"
    }
   ],
   "source": [
    "[fibo_recursive(x) for x in range(10)]"
   ]
  },
  {
   "cell_type": "markdown",
   "id": "393448d5-8289-45a4-b721-c79f461da041",
   "metadata": {},
   "source": [
    "# Standard Deviation\n",
    "\n",
    "**Standard Deviation**\n",
    "\n",
    "$\\sqrt{\\frac{\\sum_i^N(x_i - mean)^2}{N}}$"
   ]
  },
  {
   "cell_type": "code",
   "execution_count": 15,
   "id": "02ac9899-4bce-42d6-82e5-d3df3739caec",
   "metadata": {},
   "outputs": [
    {
     "data": {
      "text/plain": [
       "126"
      ]
     },
     "execution_count": 15,
     "metadata": {},
     "output_type": "execute_result"
    }
   ],
   "source": [
    "sum([10, 18, 15, 12, 11, 17, 13, 16, 14])"
   ]
  },
  {
   "cell_type": "code",
   "execution_count": 17,
   "id": "ee6f5b59-7da0-4865-a36d-08287c492663",
   "metadata": {},
   "outputs": [
    {
     "data": {
      "text/plain": [
       "2.581988897471611"
      ]
     },
     "execution_count": 17,
     "metadata": {},
     "output_type": "execute_result"
    }
   ],
   "source": [
    "def std(values):\n",
    "    n = len(values)\n",
    "    sum_val = sum(values)\n",
    "    mean = sum_val / n\n",
    "    summation = 0\n",
    "    for x in values:\n",
    "        summation += (x - mean) ** 2\n",
    "    standard_deviation = (summation / n) ** 0.5\n",
    "    return standard_deviation\n",
    "    \n",
    "l = [10, 18, 15, 12, 11, 17, 13, 16, 14]\n",
    "std(l)"
   ]
  },
  {
   "cell_type": "markdown",
   "id": "8fc0c605-b8db-478b-ae04-ca4270c85848",
   "metadata": {},
   "source": [
    "# Class and Objects\n",
    "\n",
    "\n",
    "```python\n",
    "class class_name:\n",
    "    def class_functions():\n",
    "        pass\n",
    "```"
   ]
  },
  {
   "cell_type": "code",
   "execution_count": 18,
   "id": "3c9dd0b5-cee4-47d1-86ec-c8eefbbd7ffa",
   "metadata": {},
   "outputs": [],
   "source": [
    "class Vehicle:\n",
    "    def __init__(self, wheels, brand, vehicle_type, seats, engine, fuel, colour):\n",
    "        self.wheels = wheels\n",
    "        self.brand = brand\n",
    "        self.vehicle_type = vehicle_type\n",
    "        self.seats = seats\n",
    "        self.engine = engine\n",
    "        self.indhan = fuel\n",
    "        colour = colour"
   ]
  },
  {
   "cell_type": "code",
   "execution_count": 19,
   "id": "6a6de6ab-177a-43ae-ace8-69c79f021e4c",
   "metadata": {},
   "outputs": [],
   "source": [
    "veh1 = Vehicle(4, 'Aston Martin', 'Coupe', 2, 'V8', 'Petrol', 'Red')"
   ]
  },
  {
   "cell_type": "code",
   "execution_count": 20,
   "id": "ad8fd791-0502-4559-8ff8-705212816e7d",
   "metadata": {},
   "outputs": [
    {
     "data": {
      "text/plain": [
       "__main__.Vehicle"
      ]
     },
     "execution_count": 20,
     "metadata": {},
     "output_type": "execute_result"
    }
   ],
   "source": [
    "type(veh1)"
   ]
  },
  {
   "cell_type": "code",
   "execution_count": 21,
   "id": "10c88a4e-ce3d-4d00-81a1-5f7375de49c5",
   "metadata": {},
   "outputs": [
    {
     "data": {
      "text/plain": [
       "'Aston Martin'"
      ]
     },
     "execution_count": 21,
     "metadata": {},
     "output_type": "execute_result"
    }
   ],
   "source": [
    "veh1.brand"
   ]
  },
  {
   "cell_type": "code",
   "execution_count": 22,
   "id": "46d90a63-8978-4025-bef3-f36d62fee57b",
   "metadata": {},
   "outputs": [
    {
     "data": {
      "text/plain": [
       "'Petrol'"
      ]
     },
     "execution_count": 22,
     "metadata": {},
     "output_type": "execute_result"
    }
   ],
   "source": [
    "veh1.indhan"
   ]
  },
  {
   "cell_type": "code",
   "execution_count": 23,
   "id": "db2f6574-81b4-486d-b5b1-c372b40f8b59",
   "metadata": {},
   "outputs": [
    {
     "ename": "AttributeError",
     "evalue": "'Vehicle' object has no attribute 'colour'",
     "output_type": "error",
     "traceback": [
      "\u001b[1;31m---------------------------------------------------------------------------\u001b[0m",
      "\u001b[1;31mAttributeError\u001b[0m                            Traceback (most recent call last)",
      "Cell \u001b[1;32mIn[23], line 1\u001b[0m\n\u001b[1;32m----> 1\u001b[0m \u001b[43mveh1\u001b[49m\u001b[38;5;241;43m.\u001b[39;49m\u001b[43mcolour\u001b[49m\n",
      "\u001b[1;31mAttributeError\u001b[0m: 'Vehicle' object has no attribute 'colour'"
     ]
    }
   ],
   "source": [
    "veh1.colour"
   ]
  },
  {
   "cell_type": "code",
   "execution_count": 24,
   "id": "b98998cd-86e4-44c9-a873-0ad4c3ac377f",
   "metadata": {},
   "outputs": [],
   "source": [
    "class Vehicle:\n",
    "    def __init__(self, wheels, brand, vehicle_type, seats, engine, fuel, colour):\n",
    "        self.wheels = wheels\n",
    "        self.brand = brand\n",
    "        self.vehicle_type = vehicle_type\n",
    "        self.seats = seats\n",
    "        self.engine = engine\n",
    "        self.indhan = fuel\n",
    "        self.colour = colour\n",
    "    def display_info(self,):\n",
    "        message = f'''\n",
    "        This is a {self.vehicle_type} from {self.brand}.\n",
    "        This has {self.wheels} wheels and {self.seats} seats.\n",
    "        This has {self.engine} engine, it takes {self.indhan}.\n",
    "        It is {self.colour} in colour.\n",
    "        '''\n",
    "        print(message)\n",
    "    "
   ]
  },
  {
   "cell_type": "code",
   "execution_count": 25,
   "id": "1ea819ca-9484-4159-be5b-40721d124893",
   "metadata": {},
   "outputs": [],
   "source": [
    "veh2 = Vehicle(4, 'Aston Martin', 'Sports Car', 2, 'V8', 'Petrol', 'Blue')"
   ]
  },
  {
   "cell_type": "code",
   "execution_count": 26,
   "id": "ccd4c87d-0fe8-48f6-9d5e-c1d6d84de44b",
   "metadata": {},
   "outputs": [
    {
     "name": "stdout",
     "output_type": "stream",
     "text": [
      "\n",
      "        This is a Sports Car from Aston Martin.\n",
      "        This has 4 wheels and 2 seats.\n",
      "        This has V8 engine, it takes Petrol.\n",
      "        It is Blue in colour.\n",
      "        \n"
     ]
    }
   ],
   "source": [
    "veh2.display_info()"
   ]
  },
  {
   "cell_type": "code",
   "execution_count": 27,
   "id": "eb72e7f1-a14f-47cd-82b3-9ca4217b55d4",
   "metadata": {},
   "outputs": [
    {
     "data": {
      "text/plain": [
       "'V8'"
      ]
     },
     "execution_count": 27,
     "metadata": {},
     "output_type": "execute_result"
    }
   ],
   "source": [
    "veh2.engine"
   ]
  },
  {
   "cell_type": "code",
   "execution_count": 28,
   "id": "93d2eb11-6d5e-4eb3-b93d-65fe1c49af51",
   "metadata": {},
   "outputs": [],
   "source": [
    "veh2.engine = 'big'"
   ]
  },
  {
   "cell_type": "code",
   "execution_count": 29,
   "id": "05983fb4-8923-44f8-9e1e-37077d1a545b",
   "metadata": {},
   "outputs": [
    {
     "name": "stdout",
     "output_type": "stream",
     "text": [
      "\n",
      "        This is a Sports Car from Aston Martin.\n",
      "        This has 4 wheels and 2 seats.\n",
      "        This has big engine, it takes Petrol.\n",
      "        It is Blue in colour.\n",
      "        \n"
     ]
    }
   ],
   "source": [
    "veh2.display_info()"
   ]
  },
  {
   "cell_type": "code",
   "execution_count": 30,
   "id": "f4c79eaf-ca5c-4264-9986-9d4b9a632e9a",
   "metadata": {},
   "outputs": [],
   "source": [
    "class Person:\n",
    "    def __init__(self, name, age, sex, houses, atm_pin):\n",
    "        self.name = name # Public Variable\n",
    "        self.age = age # Public Variable\n",
    "        self.gender = sex # Public Variable\n",
    "        self._houses = houses # Emulating Protected Variable\n",
    "        self.__atm_pin = atm_pin # Emulating Private Variable\n",
    "    def display_info(self, ):\n",
    "        message = f\"\"\"\n",
    "        Hello, My name is {self.name}, I am {self.age} years. I am a {self.gender},\n",
    "        I have {self._houses} and my ATM pin is {self.__atm_pin}\n",
    "        \"\"\"\n",
    "        print(message)\n",
    "        "
   ]
  },
  {
   "cell_type": "code",
   "execution_count": 31,
   "id": "347c6ac8-b5b5-4667-b93b-a8b2f8ec5730",
   "metadata": {},
   "outputs": [
    {
     "name": "stdout",
     "output_type": "stream",
     "text": [
      "\n",
      "        Hello, My name is Ghana Shyam, I am 50 years. I am a Male,\n",
      "        I have 2 and my ATM pin is 1234\n",
      "        \n"
     ]
    }
   ],
   "source": [
    "p1 = Person('Ghana Shyam', 50, 'Male', 2, 1234)\n",
    "p1.display_info()"
   ]
  },
  {
   "cell_type": "code",
   "execution_count": 32,
   "id": "648af7e1-6887-419a-ad23-76892b320404",
   "metadata": {},
   "outputs": [
    {
     "data": {
      "text/plain": [
       "'Ghana Shyam'"
      ]
     },
     "execution_count": 32,
     "metadata": {},
     "output_type": "execute_result"
    }
   ],
   "source": [
    "p1.name"
   ]
  },
  {
   "cell_type": "code",
   "execution_count": 33,
   "id": "e1b70525-c396-44f5-8ab4-c5422c3bfdf4",
   "metadata": {},
   "outputs": [
    {
     "data": {
      "text/plain": [
       "'Male'"
      ]
     },
     "execution_count": 33,
     "metadata": {},
     "output_type": "execute_result"
    }
   ],
   "source": [
    "p1.gender"
   ]
  },
  {
   "cell_type": "code",
   "execution_count": 35,
   "id": "1627fb04-e71f-4ef2-a912-a9c960d01c4c",
   "metadata": {},
   "outputs": [
    {
     "data": {
      "text/plain": [
       "2"
      ]
     },
     "execution_count": 35,
     "metadata": {},
     "output_type": "execute_result"
    }
   ],
   "source": [
    "p1._houses"
   ]
  },
  {
   "cell_type": "code",
   "execution_count": 37,
   "id": "1e9489e6-c3a5-4d64-8594-ac07c4dbf47c",
   "metadata": {},
   "outputs": [
    {
     "data": {
      "text/plain": [
       "1234"
      ]
     },
     "execution_count": 37,
     "metadata": {},
     "output_type": "execute_result"
    }
   ],
   "source": [
    "# p1.__atm_pin\n",
    "p1._Person__atm_pin"
   ]
  },
  {
   "cell_type": "code",
   "execution_count": 39,
   "id": "9eafbcec-2766-44de-a324-602db9c0fe1d",
   "metadata": {},
   "outputs": [],
   "source": [
    "p2 = Person('Radha Piyari', 45, 'Female', 1, 4622)"
   ]
  },
  {
   "cell_type": "code",
   "execution_count": 40,
   "id": "b874d42a-c689-48fa-9f58-ed4ac3930824",
   "metadata": {},
   "outputs": [
    {
     "name": "stdout",
     "output_type": "stream",
     "text": [
      "\n",
      "        Hello, My name is Radha Piyari, I am 45 years. I am a Female,\n",
      "        I have 1 and my ATM pin is 4622\n",
      "        \n"
     ]
    }
   ],
   "source": [
    "p2.display_info()"
   ]
  },
  {
   "cell_type": "code",
   "execution_count": null,
   "id": "e3c1cf72-5611-4cbe-8483-e35afffbb75f",
   "metadata": {},
   "outputs": [],
   "source": []
  }
 ],
 "metadata": {
  "kernelspec": {
   "display_name": "Python 3 (ipykernel)",
   "language": "python",
   "name": "python3"
  },
  "language_info": {
   "codemirror_mode": {
    "name": "ipython",
    "version": 3
   },
   "file_extension": ".py",
   "mimetype": "text/x-python",
   "name": "python",
   "nbconvert_exporter": "python",
   "pygments_lexer": "ipython3",
   "version": "3.10.11"
  }
 },
 "nbformat": 4,
 "nbformat_minor": 5
}
