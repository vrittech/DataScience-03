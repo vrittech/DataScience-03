{
 "cells": [
  {
   "cell_type": "markdown",
   "id": "609f0a20-c815-46f4-8d7b-ff65a51d8b1c",
   "metadata": {},
   "source": [
    "# Python Data Structures"
   ]
  },
  {
   "cell_type": "markdown",
   "id": "e41e2660-7136-48ce-b198-a91ce0943635",
   "metadata": {},
   "source": [
    "## Lists"
   ]
  },
  {
   "cell_type": "code",
   "execution_count": 1,
   "id": "68b54637-68f0-43af-90c1-335a59d9ff08",
   "metadata": {},
   "outputs": [],
   "source": [
    "x = 5"
   ]
  },
  {
   "cell_type": "code",
   "execution_count": 2,
   "id": "29561e2d-65f3-40d0-99cf-fa9c1c48ee1a",
   "metadata": {},
   "outputs": [],
   "source": [
    "l = ['a', 'e', 'i', 'o', 'u']"
   ]
  },
  {
   "cell_type": "code",
   "execution_count": 3,
   "id": "63fdb49a-5a61-41a5-8367-0fa744f32292",
   "metadata": {},
   "outputs": [
    {
     "data": {
      "text/plain": [
       "list"
      ]
     },
     "execution_count": 3,
     "metadata": {},
     "output_type": "execute_result"
    }
   ],
   "source": [
    "type(l)"
   ]
  },
  {
   "cell_type": "code",
   "execution_count": 4,
   "id": "5fcb2cfb-4812-4670-bd68-b7982b5199de",
   "metadata": {},
   "outputs": [
    {
     "data": {
      "text/plain": [
       "'a'"
      ]
     },
     "execution_count": 4,
     "metadata": {},
     "output_type": "execute_result"
    }
   ],
   "source": [
    "l[0]"
   ]
  },
  {
   "cell_type": "code",
   "execution_count": 5,
   "id": "95168fb1-fc6c-419c-84b5-2afb2d3f6775",
   "metadata": {},
   "outputs": [
    {
     "data": {
      "text/plain": [
       "'o'"
      ]
     },
     "execution_count": 5,
     "metadata": {},
     "output_type": "execute_result"
    }
   ],
   "source": [
    "l[3]"
   ]
  },
  {
   "cell_type": "code",
   "execution_count": 6,
   "id": "5af9cef3-1979-4375-adcd-8cbb3dffaa34",
   "metadata": {},
   "outputs": [
    {
     "data": {
      "text/plain": [
       "'u'"
      ]
     },
     "execution_count": 6,
     "metadata": {},
     "output_type": "execute_result"
    }
   ],
   "source": [
    "l[-1]"
   ]
  },
  {
   "cell_type": "code",
   "execution_count": 7,
   "id": "a7d7f6a7-9f2d-4977-841e-eb004648ac47",
   "metadata": {},
   "outputs": [
    {
     "data": {
      "text/plain": [
       "'i'"
      ]
     },
     "execution_count": 7,
     "metadata": {},
     "output_type": "execute_result"
    }
   ],
   "source": [
    "l[-3]"
   ]
  },
  {
   "cell_type": "code",
   "execution_count": 8,
   "id": "4c41c05e-c323-4161-9bc3-60aab4d28a2b",
   "metadata": {},
   "outputs": [
    {
     "data": {
      "text/plain": [
       "['a', 'e', 'i', 'o', 'u']"
      ]
     },
     "execution_count": 8,
     "metadata": {},
     "output_type": "execute_result"
    }
   ],
   "source": [
    "l"
   ]
  },
  {
   "cell_type": "code",
   "execution_count": 9,
   "id": "3ecd17cd-800e-4b28-adb5-40c36128fba1",
   "metadata": {},
   "outputs": [
    {
     "data": {
      "text/plain": [
       "['e', 'i', 'o']"
      ]
     },
     "execution_count": 9,
     "metadata": {},
     "output_type": "execute_result"
    }
   ],
   "source": [
    "# Slicing\n",
    "l[1: 4: 1]\n",
    "# list[start, stop, step]"
   ]
  },
  {
   "cell_type": "code",
   "execution_count": 10,
   "id": "c302f8fa-e774-4e0f-b90a-821863825c01",
   "metadata": {},
   "outputs": [
    {
     "data": {
      "text/plain": [
       "['a', 'i']"
      ]
     },
     "execution_count": 10,
     "metadata": {},
     "output_type": "execute_result"
    }
   ],
   "source": [
    "l[:4:2]"
   ]
  },
  {
   "cell_type": "code",
   "execution_count": 11,
   "id": "4385556d-8c31-4b75-bd16-cc14b3eb1dec",
   "metadata": {},
   "outputs": [
    {
     "data": {
      "text/plain": [
       "['e', 'u']"
      ]
     },
     "execution_count": 11,
     "metadata": {},
     "output_type": "execute_result"
    }
   ],
   "source": [
    "l[1: :3]"
   ]
  },
  {
   "cell_type": "code",
   "execution_count": 12,
   "id": "38b89000-dcfa-4fc4-b85c-32d01f7e8f34",
   "metadata": {},
   "outputs": [
    {
     "data": {
      "text/plain": [
       "['e', 'i']"
      ]
     },
     "execution_count": 12,
     "metadata": {},
     "output_type": "execute_result"
    }
   ],
   "source": [
    "l[1:3: ]"
   ]
  },
  {
   "cell_type": "code",
   "execution_count": 13,
   "id": "6c0dcef2-5626-4429-b232-5b445a743e10",
   "metadata": {},
   "outputs": [
    {
     "name": "stdout",
     "output_type": "stream",
     "text": [
      "Python 3.10.11\n"
     ]
    }
   ],
   "source": [
    "!python --version"
   ]
  },
  {
   "cell_type": "code",
   "execution_count": 14,
   "id": "f6f63ae5-926f-4b56-917d-d81c771230de",
   "metadata": {},
   "outputs": [
    {
     "data": {
      "text/plain": [
       "['a', 'e', 'i', 'o', 'u']"
      ]
     },
     "execution_count": 14,
     "metadata": {},
     "output_type": "execute_result"
    }
   ],
   "source": [
    "l"
   ]
  },
  {
   "cell_type": "code",
   "execution_count": 15,
   "id": "fcffe1e7-556c-4022-bc28-4e11e1c37147",
   "metadata": {},
   "outputs": [],
   "source": [
    "l.reverse()"
   ]
  },
  {
   "cell_type": "code",
   "execution_count": 16,
   "id": "a606900a-093d-46a9-a33f-9708b049a632",
   "metadata": {},
   "outputs": [
    {
     "data": {
      "text/plain": [
       "['u', 'o', 'i', 'e', 'a']"
      ]
     },
     "execution_count": 16,
     "metadata": {},
     "output_type": "execute_result"
    }
   ],
   "source": [
    "l"
   ]
  },
  {
   "cell_type": "code",
   "execution_count": 18,
   "id": "46466b29-431d-40bd-8f4d-aa8b08813a0d",
   "metadata": {},
   "outputs": [],
   "source": [
    "l = l[::-1]"
   ]
  },
  {
   "cell_type": "code",
   "execution_count": 19,
   "id": "05ac57d7-8311-4cc1-8ca4-b05c2179fdf0",
   "metadata": {},
   "outputs": [
    {
     "data": {
      "text/plain": [
       "['a', 'e', 'i', 'o', 'u']"
      ]
     },
     "execution_count": 19,
     "metadata": {},
     "output_type": "execute_result"
    }
   ],
   "source": [
    "l"
   ]
  },
  {
   "cell_type": "code",
   "execution_count": 20,
   "id": "b1b75794-c137-48e1-937a-e2aa566488a2",
   "metadata": {},
   "outputs": [],
   "source": [
    "l.append(10)"
   ]
  },
  {
   "cell_type": "code",
   "execution_count": 21,
   "id": "a55cbaeb-e3ce-41f1-acf2-ecf54196cde2",
   "metadata": {},
   "outputs": [
    {
     "data": {
      "text/plain": [
       "['a', 'e', 'i', 'o', 'u', 10]"
      ]
     },
     "execution_count": 21,
     "metadata": {},
     "output_type": "execute_result"
    }
   ],
   "source": [
    "l"
   ]
  },
  {
   "cell_type": "code",
   "execution_count": 22,
   "id": "37ed28a2-2141-49a5-aeb7-4c407e4a17ec",
   "metadata": {},
   "outputs": [],
   "source": [
    "new_l = ['hello', 'world']"
   ]
  },
  {
   "cell_type": "code",
   "execution_count": 23,
   "id": "002db04d-b1b0-40c5-bf1f-9b7b0ecb52c5",
   "metadata": {},
   "outputs": [],
   "source": [
    "l.append(new_l)"
   ]
  },
  {
   "cell_type": "code",
   "execution_count": 24,
   "id": "fea9aee4-fe6d-4714-b7b5-67fd4c07ae98",
   "metadata": {},
   "outputs": [
    {
     "data": {
      "text/plain": [
       "['a', 'e', 'i', 'o', 'u', 10, ['hello', 'world']]"
      ]
     },
     "execution_count": 24,
     "metadata": {},
     "output_type": "execute_result"
    }
   ],
   "source": [
    "l"
   ]
  },
  {
   "cell_type": "code",
   "execution_count": 25,
   "id": "66beaff5-b5db-4594-8024-d159d1d088a9",
   "metadata": {},
   "outputs": [
    {
     "data": {
      "text/plain": [
       "['hello', 'world']"
      ]
     },
     "execution_count": 25,
     "metadata": {},
     "output_type": "execute_result"
    }
   ],
   "source": [
    "l[-1]"
   ]
  },
  {
   "cell_type": "code",
   "execution_count": 26,
   "id": "dff8589e-13dd-4610-aeca-bfc231c0e01c",
   "metadata": {},
   "outputs": [
    {
     "data": {
      "text/plain": [
       "'hello'"
      ]
     },
     "execution_count": 26,
     "metadata": {},
     "output_type": "execute_result"
    }
   ],
   "source": [
    "l[-1][0]"
   ]
  },
  {
   "cell_type": "code",
   "execution_count": 27,
   "id": "d74d4435-4acd-4f40-95df-b205ba55252a",
   "metadata": {},
   "outputs": [
    {
     "data": {
      "text/plain": [
       "'world'"
      ]
     },
     "execution_count": 27,
     "metadata": {},
     "output_type": "execute_result"
    }
   ],
   "source": [
    "l[-1][1]"
   ]
  },
  {
   "cell_type": "code",
   "execution_count": 28,
   "id": "f467a98c-c9ba-48a2-b350-837d57949e9f",
   "metadata": {},
   "outputs": [
    {
     "data": {
      "text/plain": [
       "['hello', 'world']"
      ]
     },
     "execution_count": 28,
     "metadata": {},
     "output_type": "execute_result"
    }
   ],
   "source": [
    "l.pop()"
   ]
  },
  {
   "cell_type": "code",
   "execution_count": 29,
   "id": "36b08b6d-1671-4c3a-8b26-5a8041890109",
   "metadata": {},
   "outputs": [
    {
     "data": {
      "text/plain": [
       "['a', 'e', 'i', 'o', 'u', 10]"
      ]
     },
     "execution_count": 29,
     "metadata": {},
     "output_type": "execute_result"
    }
   ],
   "source": [
    "l"
   ]
  },
  {
   "cell_type": "code",
   "execution_count": 30,
   "id": "a7409fb8-0666-4116-8887-19aafa3f3c94",
   "metadata": {},
   "outputs": [
    {
     "data": {
      "text/plain": [
       "'i'"
      ]
     },
     "execution_count": 30,
     "metadata": {},
     "output_type": "execute_result"
    }
   ],
   "source": [
    "l.pop(2)"
   ]
  },
  {
   "cell_type": "code",
   "execution_count": 31,
   "id": "f3952406-8ef7-47e7-bbfd-87acc0898095",
   "metadata": {},
   "outputs": [
    {
     "data": {
      "text/plain": [
       "['a', 'e', 'o', 'u', 10]"
      ]
     },
     "execution_count": 31,
     "metadata": {},
     "output_type": "execute_result"
    }
   ],
   "source": [
    "l"
   ]
  },
  {
   "cell_type": "code",
   "execution_count": 32,
   "id": "a9a883a8-7c86-4e91-9fee-041fbf897578",
   "metadata": {},
   "outputs": [],
   "source": [
    "l.remove(10)"
   ]
  },
  {
   "cell_type": "code",
   "execution_count": 33,
   "id": "b075607e-d231-467e-9448-f56a3bee1ebf",
   "metadata": {},
   "outputs": [
    {
     "data": {
      "text/plain": [
       "['a', 'e', 'o', 'u']"
      ]
     },
     "execution_count": 33,
     "metadata": {},
     "output_type": "execute_result"
    }
   ],
   "source": [
    "l"
   ]
  },
  {
   "cell_type": "code",
   "execution_count": 34,
   "id": "156404a1-c93b-47f2-a746-bb491ad1a71c",
   "metadata": {},
   "outputs": [],
   "source": [
    "l[1] = 'E'"
   ]
  },
  {
   "cell_type": "code",
   "execution_count": 35,
   "id": "3a3e000c-13f9-4c55-bfbe-8ba57184bbe5",
   "metadata": {},
   "outputs": [
    {
     "data": {
      "text/plain": [
       "['a', 'E', 'o', 'u']"
      ]
     },
     "execution_count": 35,
     "metadata": {},
     "output_type": "execute_result"
    }
   ],
   "source": [
    "l"
   ]
  },
  {
   "cell_type": "code",
   "execution_count": 36,
   "id": "e8375fa5-a072-4af3-bc92-2932afc7da57",
   "metadata": {},
   "outputs": [
    {
     "data": {
      "text/plain": [
       "['hello', 'world']"
      ]
     },
     "execution_count": 36,
     "metadata": {},
     "output_type": "execute_result"
    }
   ],
   "source": [
    "new_l"
   ]
  },
  {
   "cell_type": "code",
   "execution_count": 38,
   "id": "c194b8c8-787c-4c6e-a5af-94288f264080",
   "metadata": {},
   "outputs": [
    {
     "data": {
      "text/plain": [
       "['a', 'E', 'o', 'u', 'hello', 'world']"
      ]
     },
     "execution_count": 38,
     "metadata": {},
     "output_type": "execute_result"
    }
   ],
   "source": [
    "l + new_l"
   ]
  },
  {
   "cell_type": "code",
   "execution_count": 40,
   "id": "e7b3236d-03e0-44b5-92e9-28c8e27d61e9",
   "metadata": {},
   "outputs": [
    {
     "data": {
      "text/plain": [
       "['a', 'E', 'o', 'u', 'hello', 'world']"
      ]
     },
     "execution_count": 40,
     "metadata": {},
     "output_type": "execute_result"
    }
   ],
   "source": [
    "l.extend(new_l)\n",
    "l"
   ]
  },
  {
   "cell_type": "code",
   "execution_count": 41,
   "id": "f208347a-e06a-485b-aeb0-2988987f2a35",
   "metadata": {},
   "outputs": [],
   "source": [
    "l.insert(3, 'H')"
   ]
  },
  {
   "cell_type": "code",
   "execution_count": 42,
   "id": "ed6478ee-733d-4946-966a-b433af7be3a9",
   "metadata": {},
   "outputs": [
    {
     "data": {
      "text/plain": [
       "['a', 'E', 'o', 'H', 'u', 'hello', 'world']"
      ]
     },
     "execution_count": 42,
     "metadata": {},
     "output_type": "execute_result"
    }
   ],
   "source": [
    "l"
   ]
  },
  {
   "cell_type": "markdown",
   "id": "b00146b1-97a4-4272-9726-e6b3d9204351",
   "metadata": {},
   "source": [
    "## Tuple"
   ]
  },
  {
   "cell_type": "code",
   "execution_count": 45,
   "id": "f7efc52e-db86-4d59-91b3-da6b4f91c261",
   "metadata": {},
   "outputs": [],
   "source": [
    "t = ('a', 'e', 'i', 'o', 'u')"
   ]
  },
  {
   "cell_type": "code",
   "execution_count": 46,
   "id": "9b561cc0-e7c2-4181-8f2e-e9fd8a734fdd",
   "metadata": {},
   "outputs": [
    {
     "data": {
      "text/plain": [
       "'a'"
      ]
     },
     "execution_count": 46,
     "metadata": {},
     "output_type": "execute_result"
    }
   ],
   "source": [
    "t[0]"
   ]
  },
  {
   "cell_type": "code",
   "execution_count": 47,
   "id": "c0d4c022-9443-4ce7-bea9-b62a627797fc",
   "metadata": {},
   "outputs": [
    {
     "data": {
      "text/plain": [
       "'o'"
      ]
     },
     "execution_count": 47,
     "metadata": {},
     "output_type": "execute_result"
    }
   ],
   "source": [
    "t[-2]"
   ]
  },
  {
   "cell_type": "code",
   "execution_count": 49,
   "id": "e7aa08b5-eee2-40c5-88db-d9f36e56149b",
   "metadata": {},
   "outputs": [
    {
     "data": {
      "text/plain": [
       "('e', 'o')"
      ]
     },
     "execution_count": 49,
     "metadata": {},
     "output_type": "execute_result"
    }
   ],
   "source": [
    "t[1: : 2]"
   ]
  },
  {
   "cell_type": "code",
   "execution_count": 50,
   "id": "6bd78115-93c6-4f8c-94a0-8e950bcfbad2",
   "metadata": {},
   "outputs": [
    {
     "ename": "AttributeError",
     "evalue": "'tuple' object has no attribute 'append'",
     "output_type": "error",
     "traceback": [
      "\u001b[1;31m---------------------------------------------------------------------------\u001b[0m",
      "\u001b[1;31mAttributeError\u001b[0m                            Traceback (most recent call last)",
      "Cell \u001b[1;32mIn[50], line 1\u001b[0m\n\u001b[1;32m----> 1\u001b[0m \u001b[43mt\u001b[49m\u001b[38;5;241;43m.\u001b[39;49m\u001b[43mappend\u001b[49m(\u001b[38;5;124m'\u001b[39m\u001b[38;5;124mZ\u001b[39m\u001b[38;5;124m'\u001b[39m)\n",
      "\u001b[1;31mAttributeError\u001b[0m: 'tuple' object has no attribute 'append'"
     ]
    }
   ],
   "source": [
    "t.append('Z')"
   ]
  },
  {
   "cell_type": "code",
   "execution_count": 51,
   "id": "4c7be07d-89d1-4d7b-928f-1430691b087f",
   "metadata": {},
   "outputs": [
    {
     "ename": "AttributeError",
     "evalue": "'tuple' object has no attribute 'pop'",
     "output_type": "error",
     "traceback": [
      "\u001b[1;31m---------------------------------------------------------------------------\u001b[0m",
      "\u001b[1;31mAttributeError\u001b[0m                            Traceback (most recent call last)",
      "Cell \u001b[1;32mIn[51], line 1\u001b[0m\n\u001b[1;32m----> 1\u001b[0m \u001b[43mt\u001b[49m\u001b[38;5;241;43m.\u001b[39;49m\u001b[43mpop\u001b[49m()\n",
      "\u001b[1;31mAttributeError\u001b[0m: 'tuple' object has no attribute 'pop'"
     ]
    }
   ],
   "source": [
    "t.pop()"
   ]
  },
  {
   "cell_type": "code",
   "execution_count": 53,
   "id": "516c565a-5602-478b-b093-974f87b8c2c9",
   "metadata": {},
   "outputs": [
    {
     "data": {
      "text/plain": [
       "tuple"
      ]
     },
     "execution_count": 53,
     "metadata": {},
     "output_type": "execute_result"
    }
   ],
   "source": [
    "type(t)"
   ]
  },
  {
   "cell_type": "code",
   "execution_count": 54,
   "id": "b70a1482-aa38-4738-8356-7b7bbc1b4ef0",
   "metadata": {},
   "outputs": [
    {
     "data": {
      "text/plain": [
       "list"
      ]
     },
     "execution_count": 54,
     "metadata": {},
     "output_type": "execute_result"
    }
   ],
   "source": [
    "t = list(t)\n",
    "type(t)"
   ]
  },
  {
   "cell_type": "code",
   "execution_count": 55,
   "id": "5d9d45cf-9c9b-49a6-94b1-3fca9c6d3ddb",
   "metadata": {},
   "outputs": [
    {
     "data": {
      "text/plain": [
       "tuple"
      ]
     },
     "execution_count": 55,
     "metadata": {},
     "output_type": "execute_result"
    }
   ],
   "source": [
    "t = tuple(t)\n",
    "type(t)"
   ]
  },
  {
   "cell_type": "markdown",
   "id": "a0e2245b-fc15-490f-971c-bd738f26ce36",
   "metadata": {},
   "source": [
    "## Set"
   ]
  },
  {
   "cell_type": "code",
   "execution_count": 56,
   "id": "993a9761-d0df-4790-be1b-47fd5f6e5e6d",
   "metadata": {},
   "outputs": [],
   "source": [
    "s = {'a', 'e', 'i', 'o', 'u'}"
   ]
  },
  {
   "cell_type": "code",
   "execution_count": 57,
   "id": "379191fc-3c21-4c6a-9adf-5003286748f2",
   "metadata": {},
   "outputs": [
    {
     "data": {
      "text/plain": [
       "set"
      ]
     },
     "execution_count": 57,
     "metadata": {},
     "output_type": "execute_result"
    }
   ],
   "source": [
    "type(s)"
   ]
  },
  {
   "cell_type": "code",
   "execution_count": 58,
   "id": "6de07d95-c105-466d-917c-eb18eab59dc5",
   "metadata": {},
   "outputs": [
    {
     "ename": "TypeError",
     "evalue": "'set' object is not subscriptable",
     "output_type": "error",
     "traceback": [
      "\u001b[1;31m---------------------------------------------------------------------------\u001b[0m",
      "\u001b[1;31mTypeError\u001b[0m                                 Traceback (most recent call last)",
      "Cell \u001b[1;32mIn[58], line 1\u001b[0m\n\u001b[1;32m----> 1\u001b[0m \u001b[43ms\u001b[49m\u001b[43m[\u001b[49m\u001b[38;5;241;43m1\u001b[39;49m\u001b[43m]\u001b[49m\n",
      "\u001b[1;31mTypeError\u001b[0m: 'set' object is not subscriptable"
     ]
    }
   ],
   "source": [
    "s[1]"
   ]
  },
  {
   "cell_type": "code",
   "execution_count": 59,
   "id": "51763a86-db74-4b85-8501-92fccc6ecdce",
   "metadata": {},
   "outputs": [
    {
     "data": {
      "text/plain": [
       "[5, 5, 5]"
      ]
     },
     "execution_count": 59,
     "metadata": {},
     "output_type": "execute_result"
    }
   ],
   "source": [
    "l1 = [5, 5, 5]\n",
    "l1"
   ]
  },
  {
   "cell_type": "code",
   "execution_count": 60,
   "id": "b55aabbc-965c-4a00-aa6a-b6dff8fdf066",
   "metadata": {},
   "outputs": [
    {
     "data": {
      "text/plain": [
       "(5, 5, 5)"
      ]
     },
     "execution_count": 60,
     "metadata": {},
     "output_type": "execute_result"
    }
   ],
   "source": [
    "t1 = (5, 5, 5)\n",
    "t1"
   ]
  },
  {
   "cell_type": "code",
   "execution_count": 61,
   "id": "22da37f1-5124-4fbb-a267-3d6bd3fcfd70",
   "metadata": {},
   "outputs": [
    {
     "data": {
      "text/plain": [
       "{5}"
      ]
     },
     "execution_count": 61,
     "metadata": {},
     "output_type": "execute_result"
    }
   ],
   "source": [
    "s1 = {5, 5, 5}\n",
    "s1"
   ]
  },
  {
   "cell_type": "code",
   "execution_count": 63,
   "id": "6c1430dd-e67f-4e44-af2a-63ae461b73ba",
   "metadata": {},
   "outputs": [
    {
     "data": {
      "text/plain": [
       "{'a', 'e', 'i', 'o', 'u'}"
      ]
     },
     "execution_count": 63,
     "metadata": {},
     "output_type": "execute_result"
    }
   ],
   "source": [
    "s"
   ]
  },
  {
   "cell_type": "code",
   "execution_count": 64,
   "id": "dde2909e-6c42-4ed8-b83f-8bb014b8cdcb",
   "metadata": {},
   "outputs": [],
   "source": [
    "s.add('b')"
   ]
  },
  {
   "cell_type": "code",
   "execution_count": 65,
   "id": "2f9a851e-3421-4df7-86c7-78677ecf9483",
   "metadata": {},
   "outputs": [
    {
     "data": {
      "text/plain": [
       "{'a', 'b', 'e', 'i', 'o', 'u'}"
      ]
     },
     "execution_count": 65,
     "metadata": {},
     "output_type": "execute_result"
    }
   ],
   "source": [
    "s"
   ]
  },
  {
   "cell_type": "code",
   "execution_count": 66,
   "id": "54bf4296-573f-466a-9d51-f416fc5f777f",
   "metadata": {},
   "outputs": [],
   "source": [
    "s1 = {'a', 'b', 'c', 'd', 'e'}"
   ]
  },
  {
   "cell_type": "code",
   "execution_count": 68,
   "id": "ee2f1fa0-698f-4d7c-91e8-bc9204107107",
   "metadata": {},
   "outputs": [
    {
     "data": {
      "text/plain": [
       "{'a', 'b', 'c', 'd', 'e', 'i', 'o', 'u'}"
      ]
     },
     "execution_count": 68,
     "metadata": {},
     "output_type": "execute_result"
    }
   ],
   "source": [
    "s.union(s1)"
   ]
  },
  {
   "cell_type": "code",
   "execution_count": 69,
   "id": "9b68fe8f-123d-41ed-993f-b96d9ac608ad",
   "metadata": {},
   "outputs": [
    {
     "data": {
      "text/plain": [
       "{'a', 'b', 'e'}"
      ]
     },
     "execution_count": 69,
     "metadata": {},
     "output_type": "execute_result"
    }
   ],
   "source": [
    "s.intersection(s1)"
   ]
  },
  {
   "cell_type": "markdown",
   "id": "9af5d00f-224b-4e75-ba25-d3f39fa66865",
   "metadata": {},
   "source": [
    "## Dictionary"
   ]
  },
  {
   "cell_type": "code",
   "execution_count": 70,
   "id": "846c0065-de7c-4ee6-888c-08d5a4733e3f",
   "metadata": {},
   "outputs": [],
   "source": [
    "dict1 = {\n",
    "    'Name': 'James Bond',\n",
    "    'Car': 'Aston Martin',\n",
    "    'Model': 'DB5',\n",
    "    'Drinks': 'Martini'\n",
    "}"
   ]
  },
  {
   "cell_type": "code",
   "execution_count": 71,
   "id": "a4be448f-acf5-43cf-86a4-e731be72a51c",
   "metadata": {},
   "outputs": [
    {
     "data": {
      "text/plain": [
       "dict"
      ]
     },
     "execution_count": 71,
     "metadata": {},
     "output_type": "execute_result"
    }
   ],
   "source": [
    "type(dict1)"
   ]
  },
  {
   "cell_type": "code",
   "execution_count": 73,
   "id": "d4dc4af8-0c82-4538-86ab-bf68dcf65d36",
   "metadata": {},
   "outputs": [
    {
     "data": {
      "text/plain": [
       "'Aston Martin'"
      ]
     },
     "execution_count": 73,
     "metadata": {},
     "output_type": "execute_result"
    }
   ],
   "source": [
    "dict1['Car']"
   ]
  },
  {
   "cell_type": "code",
   "execution_count": 74,
   "id": "9e0c6dc1-7b12-4729-be44-2e9f549627ee",
   "metadata": {},
   "outputs": [
    {
     "data": {
      "text/plain": [
       "'DB5'"
      ]
     },
     "execution_count": 74,
     "metadata": {},
     "output_type": "execute_result"
    }
   ],
   "source": [
    "dict1['Model']"
   ]
  },
  {
   "cell_type": "code",
   "execution_count": 75,
   "id": "7cf59ffc-8ae2-485c-8b45-758a820bcd3a",
   "metadata": {},
   "outputs": [],
   "source": [
    "dict1['Model'] = 'DB10'"
   ]
  },
  {
   "cell_type": "code",
   "execution_count": 76,
   "id": "793d5700-9af2-401d-8698-4248445f9e48",
   "metadata": {},
   "outputs": [
    {
     "data": {
      "text/plain": [
       "{'Name': 'James Bond',\n",
       " 'Car': 'Aston Martin',\n",
       " 'Model': 'DB10',\n",
       " 'Drinks': 'Martini'}"
      ]
     },
     "execution_count": 76,
     "metadata": {},
     "output_type": "execute_result"
    }
   ],
   "source": [
    "dict1"
   ]
  },
  {
   "cell_type": "code",
   "execution_count": 77,
   "id": "df2f5daf-d122-4f1d-b6a9-ab8c53572b9f",
   "metadata": {},
   "outputs": [],
   "source": [
    "dict1['Country'] = 'England'"
   ]
  },
  {
   "cell_type": "code",
   "execution_count": 78,
   "id": "cb5e166d-5522-4d38-8bb0-cba2e3d55dba",
   "metadata": {},
   "outputs": [
    {
     "data": {
      "text/plain": [
       "{'Name': 'James Bond',\n",
       " 'Car': 'Aston Martin',\n",
       " 'Model': 'DB10',\n",
       " 'Drinks': 'Martini',\n",
       " 'Country': 'England'}"
      ]
     },
     "execution_count": 78,
     "metadata": {},
     "output_type": "execute_result"
    }
   ],
   "source": [
    "dict1"
   ]
  },
  {
   "cell_type": "code",
   "execution_count": 79,
   "id": "122e9d1f-edc7-490e-ac17-2cd0a70d0b4e",
   "metadata": {},
   "outputs": [
    {
     "data": {
      "text/plain": [
       "'England'"
      ]
     },
     "execution_count": 79,
     "metadata": {},
     "output_type": "execute_result"
    }
   ],
   "source": [
    "dict1.pop('Country')"
   ]
  },
  {
   "cell_type": "code",
   "execution_count": 80,
   "id": "b1f58456-ed1d-40af-a63f-a37134c24218",
   "metadata": {},
   "outputs": [
    {
     "data": {
      "text/plain": [
       "{'Name': 'James Bond',\n",
       " 'Car': 'Aston Martin',\n",
       " 'Model': 'DB10',\n",
       " 'Drinks': 'Martini'}"
      ]
     },
     "execution_count": 80,
     "metadata": {},
     "output_type": "execute_result"
    }
   ],
   "source": [
    "dict1"
   ]
  },
  {
   "cell_type": "code",
   "execution_count": 81,
   "id": "51e4e0b8-4833-4472-8ccf-6df5f98d5d8e",
   "metadata": {},
   "outputs": [],
   "source": [
    "dict1 = {\n",
    "    'Name': 'James Bond',\n",
    "    'Car': 'Aston Martin',\n",
    "    'Model': 'DB5',\n",
    "    'Drinks': 'Martini',\n",
    "    'Name': 'Bond, James Bond'\n",
    "}"
   ]
  },
  {
   "cell_type": "code",
   "execution_count": 82,
   "id": "ec73d0c0-dc9b-4df6-87ad-80b024a047aa",
   "metadata": {},
   "outputs": [
    {
     "data": {
      "text/plain": [
       "{'Name': 'Bond, James Bond',\n",
       " 'Car': 'Aston Martin',\n",
       " 'Model': 'DB5',\n",
       " 'Drinks': 'Martini'}"
      ]
     },
     "execution_count": 82,
     "metadata": {},
     "output_type": "execute_result"
    }
   ],
   "source": [
    "dict1"
   ]
  },
  {
   "cell_type": "code",
   "execution_count": 83,
   "id": "0512798e-c443-4719-a77b-ea316ef00cf5",
   "metadata": {},
   "outputs": [
    {
     "data": {
      "text/plain": [
       "'DB5'"
      ]
     },
     "execution_count": 83,
     "metadata": {},
     "output_type": "execute_result"
    }
   ],
   "source": [
    "dict1['Model']"
   ]
  },
  {
   "cell_type": "code",
   "execution_count": 84,
   "id": "a64a38de-5496-4543-97d5-eaa18330b1cd",
   "metadata": {},
   "outputs": [
    {
     "ename": "KeyError",
     "evalue": "'Country'",
     "output_type": "error",
     "traceback": [
      "\u001b[1;31m---------------------------------------------------------------------------\u001b[0m",
      "\u001b[1;31mKeyError\u001b[0m                                  Traceback (most recent call last)",
      "Cell \u001b[1;32mIn[84], line 1\u001b[0m\n\u001b[1;32m----> 1\u001b[0m \u001b[43mdict1\u001b[49m\u001b[43m[\u001b[49m\u001b[38;5;124;43m'\u001b[39;49m\u001b[38;5;124;43mCountry\u001b[39;49m\u001b[38;5;124;43m'\u001b[39;49m\u001b[43m]\u001b[49m\n",
      "\u001b[1;31mKeyError\u001b[0m: 'Country'"
     ]
    }
   ],
   "source": [
    "dict1['Country']"
   ]
  },
  {
   "cell_type": "code",
   "execution_count": 85,
   "id": "729a1310-8114-436e-8fe9-c6d6ffe33913",
   "metadata": {},
   "outputs": [],
   "source": [
    "dict1.get('Country')"
   ]
  },
  {
   "cell_type": "code",
   "execution_count": 86,
   "id": "561ef173-53cd-49e7-8a55-f0dde2821758",
   "metadata": {},
   "outputs": [
    {
     "data": {
      "text/plain": [
       "'Aston Martin'"
      ]
     },
     "execution_count": 86,
     "metadata": {},
     "output_type": "execute_result"
    }
   ],
   "source": [
    "dict1.get('Car')"
   ]
  },
  {
   "cell_type": "code",
   "execution_count": 87,
   "id": "af63e65f-a961-415e-b42e-094caff930f9",
   "metadata": {},
   "outputs": [],
   "source": [
    "dict2 = {\n",
    "    'data1': 65465,\n",
    "    'data2': 68452,\n",
    "    'daat3': 875654\n",
    "}"
   ]
  },
  {
   "cell_type": "code",
   "execution_count": 88,
   "id": "11410b42-d4e1-40d1-9b4d-b6b697bd4fe1",
   "metadata": {},
   "outputs": [],
   "source": [
    "dict1.update(dict2)"
   ]
  },
  {
   "cell_type": "code",
   "execution_count": 89,
   "id": "d82c2934-79c2-4748-aeee-56d679bf3fb8",
   "metadata": {},
   "outputs": [
    {
     "data": {
      "text/plain": [
       "{'Name': 'Bond, James Bond',\n",
       " 'Car': 'Aston Martin',\n",
       " 'Model': 'DB5',\n",
       " 'Drinks': 'Martini',\n",
       " 'data1': 65465,\n",
       " 'data2': 68452,\n",
       " 'daat3': 875654}"
      ]
     },
     "execution_count": 89,
     "metadata": {},
     "output_type": "execute_result"
    }
   ],
   "source": [
    "dict1"
   ]
  },
  {
   "cell_type": "code",
   "execution_count": 90,
   "id": "8cb6bd52-22a1-4aff-881c-c0d538704e5f",
   "metadata": {},
   "outputs": [
    {
     "data": {
      "text/plain": [
       "dict_keys(['Name', 'Car', 'Model', 'Drinks', 'data1', 'data2', 'daat3'])"
      ]
     },
     "execution_count": 90,
     "metadata": {},
     "output_type": "execute_result"
    }
   ],
   "source": [
    "dict1.keys()"
   ]
  },
  {
   "cell_type": "code",
   "execution_count": 91,
   "id": "01b5a399-f4fe-44a9-b1af-5ba7d516dc30",
   "metadata": {},
   "outputs": [
    {
     "data": {
      "text/plain": [
       "dict_values(['Bond, James Bond', 'Aston Martin', 'DB5', 'Martini', 65465, 68452, 875654])"
      ]
     },
     "execution_count": 91,
     "metadata": {},
     "output_type": "execute_result"
    }
   ],
   "source": [
    "dict1.values()"
   ]
  },
  {
   "cell_type": "markdown",
   "id": "4f0b7944-2d9d-4a39-a483-bdde2a459414",
   "metadata": {},
   "source": [
    "## Search Operations"
   ]
  },
  {
   "cell_type": "code",
   "execution_count": 92,
   "id": "5213e0c9-e842-459c-97aa-a2268efcfbc2",
   "metadata": {},
   "outputs": [],
   "source": [
    "l = ['a', 'e', 'i', 'o', 'u']"
   ]
  },
  {
   "cell_type": "code",
   "execution_count": 93,
   "id": "df3da96e-c105-4794-b707-77c402c52bbf",
   "metadata": {},
   "outputs": [
    {
     "data": {
      "text/plain": [
       "False"
      ]
     },
     "execution_count": 93,
     "metadata": {},
     "output_type": "execute_result"
    }
   ],
   "source": [
    "'z' in l"
   ]
  },
  {
   "cell_type": "code",
   "execution_count": 94,
   "id": "e9564875-9003-43a9-b440-299807228d27",
   "metadata": {},
   "outputs": [
    {
     "data": {
      "text/plain": [
       "True"
      ]
     },
     "execution_count": 94,
     "metadata": {},
     "output_type": "execute_result"
    }
   ],
   "source": [
    "'a' in l"
   ]
  },
  {
   "cell_type": "code",
   "execution_count": 95,
   "id": "49831c24-742e-44f4-a0ba-5e64e435a5b8",
   "metadata": {},
   "outputs": [
    {
     "data": {
      "text/plain": [
       "0"
      ]
     },
     "execution_count": 95,
     "metadata": {},
     "output_type": "execute_result"
    }
   ],
   "source": [
    "l.index('a')"
   ]
  },
  {
   "cell_type": "code",
   "execution_count": 96,
   "id": "e1d29105-0a92-46d4-9fa7-99046e13b604",
   "metadata": {},
   "outputs": [
    {
     "data": {
      "text/plain": [
       "False"
      ]
     },
     "execution_count": 96,
     "metadata": {},
     "output_type": "execute_result"
    }
   ],
   "source": [
    "'A' in l"
   ]
  },
  {
   "cell_type": "code",
   "execution_count": 97,
   "id": "5883adda-eec1-464e-8bdc-605eb525c2b8",
   "metadata": {},
   "outputs": [
    {
     "data": {
      "text/plain": [
       "('a', 'e', 'i', 'o', 'u')"
      ]
     },
     "execution_count": 97,
     "metadata": {},
     "output_type": "execute_result"
    }
   ],
   "source": [
    "t"
   ]
  },
  {
   "cell_type": "code",
   "execution_count": 98,
   "id": "b6dceb79-41d3-46a3-b20a-7999858557bc",
   "metadata": {},
   "outputs": [
    {
     "data": {
      "text/plain": [
       "True"
      ]
     },
     "execution_count": 98,
     "metadata": {},
     "output_type": "execute_result"
    }
   ],
   "source": [
    "'i' in t"
   ]
  },
  {
   "cell_type": "code",
   "execution_count": 99,
   "id": "5487d52c-b7f9-4fb6-9689-a23981ddcccc",
   "metadata": {},
   "outputs": [
    {
     "data": {
      "text/plain": [
       "{'Name': 'Bond, James Bond',\n",
       " 'Car': 'Aston Martin',\n",
       " 'Model': 'DB5',\n",
       " 'Drinks': 'Martini',\n",
       " 'data1': 65465,\n",
       " 'data2': 68452,\n",
       " 'daat3': 875654}"
      ]
     },
     "execution_count": 99,
     "metadata": {},
     "output_type": "execute_result"
    }
   ],
   "source": [
    "dict1"
   ]
  },
  {
   "cell_type": "code",
   "execution_count": 100,
   "id": "031ac1dd-5130-4cf7-9244-2387204340e2",
   "metadata": {},
   "outputs": [
    {
     "data": {
      "text/plain": [
       "True"
      ]
     },
     "execution_count": 100,
     "metadata": {},
     "output_type": "execute_result"
    }
   ],
   "source": [
    "'Car' in dict1"
   ]
  },
  {
   "cell_type": "code",
   "execution_count": 101,
   "id": "62e0e325-b8f8-46b6-9ec6-00cc297e58b6",
   "metadata": {},
   "outputs": [
    {
     "data": {
      "text/plain": [
       "False"
      ]
     },
     "execution_count": 101,
     "metadata": {},
     "output_type": "execute_result"
    }
   ],
   "source": [
    "'Martini' in dict1"
   ]
  },
  {
   "cell_type": "code",
   "execution_count": 102,
   "id": "9ef28f16-0343-445e-9aab-3418e1ce1182",
   "metadata": {},
   "outputs": [
    {
     "data": {
      "text/plain": [
       "True"
      ]
     },
     "execution_count": 102,
     "metadata": {},
     "output_type": "execute_result"
    }
   ],
   "source": [
    "'Martini' in dict1.values()"
   ]
  },
  {
   "cell_type": "code",
   "execution_count": 103,
   "id": "8432427b-2a09-4891-a706-6cba8ada71e3",
   "metadata": {},
   "outputs": [],
   "source": [
    "message = 'Hello from the other side.'"
   ]
  },
  {
   "cell_type": "code",
   "execution_count": 104,
   "id": "475ee9da-2a1f-498c-8cd5-02391bb1f19b",
   "metadata": {},
   "outputs": [
    {
     "data": {
      "text/plain": [
       "True"
      ]
     },
     "execution_count": 104,
     "metadata": {},
     "output_type": "execute_result"
    }
   ],
   "source": [
    "'H' in message"
   ]
  },
  {
   "cell_type": "code",
   "execution_count": 105,
   "id": "74470b58-1bda-47ab-8f92-32bf11bec06a",
   "metadata": {},
   "outputs": [
    {
     "data": {
      "text/plain": [
       "True"
      ]
     },
     "execution_count": 105,
     "metadata": {},
     "output_type": "execute_result"
    }
   ],
   "source": [
    "'from' in message"
   ]
  },
  {
   "cell_type": "code",
   "execution_count": null,
   "id": "3b192d61-6e1e-4810-82dc-89f991c479d6",
   "metadata": {},
   "outputs": [],
   "source": []
  }
 ],
 "metadata": {
  "kernelspec": {
   "display_name": "Python 3 (ipykernel)",
   "language": "python",
   "name": "python3"
  },
  "language_info": {
   "codemirror_mode": {
    "name": "ipython",
    "version": 3
   },
   "file_extension": ".py",
   "mimetype": "text/x-python",
   "name": "python",
   "nbconvert_exporter": "python",
   "pygments_lexer": "ipython3",
   "version": "3.10.11"
  }
 },
 "nbformat": 4,
 "nbformat_minor": 5
}
