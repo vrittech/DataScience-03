{
 "cells": [
  {
   "cell_type": "markdown",
   "id": "4be31394-4d31-4784-8acc-a9211ec3ce35",
   "metadata": {},
   "source": [
    "# Function"
   ]
  },
  {
   "cell_type": "markdown",
   "id": "b786ee5b-8a48-4631-84ca-ef2ee5454ea5",
   "metadata": {},
   "source": [
    "```python\n",
    "def function_name(argument1, argument2, ........):\n",
    "    codes\n",
    "\n",
    "    return val1, val2, val3, .....\n",
    "\n",
    "```"
   ]
  },
  {
   "cell_type": "code",
   "execution_count": 1,
   "id": "4f6898f1-a29e-42f7-9004-2c5e724ce44f",
   "metadata": {},
   "outputs": [
    {
     "data": {
      "text/plain": [
       "144"
      ]
     },
     "execution_count": 1,
     "metadata": {},
     "output_type": "execute_result"
    }
   ],
   "source": [
    "# area of four walls\n",
    "h = 4\n",
    "l = 10\n",
    "b = 8\n",
    "area = 2 * h * (l + b)\n",
    "area"
   ]
  },
  {
   "cell_type": "markdown",
   "id": "b6da154c-eb54-496d-85f6-614ff272cd2c",
   "metadata": {},
   "source": [
    "$f(x) = x^2 + 4$\n",
    "\n",
    "$f(x, y) = x^2 + y^2$\n",
    "\n",
    "$f(l, b, h)= 2h(l+b)$"
   ]
  },
  {
   "cell_type": "code",
   "execution_count": 7,
   "id": "ae30b189-08d4-459c-a921-121ef40cee2f",
   "metadata": {},
   "outputs": [],
   "source": [
    "def area_of_four_walls(length, bredth, height):\n",
    "    '''\n",
    "    Function taking some arguments(length, bredth, height) and returning some output(area_4_walls)\n",
    "    '''\n",
    "    area_4_walls = 2 * height * (length + bredth)\n",
    "    return area_4_walls\n"
   ]
  },
  {
   "cell_type": "code",
   "execution_count": 6,
   "id": "d00e5663-f5af-4ebe-87ad-000c79e7ece0",
   "metadata": {},
   "outputs": [
    {
     "data": {
      "text/plain": [
       "200"
      ]
     },
     "execution_count": 6,
     "metadata": {},
     "output_type": "execute_result"
    }
   ],
   "source": [
    "area_of_four_walls(12, 8, 5)"
   ]
  },
  {
   "cell_type": "code",
   "execution_count": 8,
   "id": "c55ffe4e-b761-43fc-ba8b-a4a95f59fb76",
   "metadata": {},
   "outputs": [],
   "source": [
    "def area_of_four_walls():\n",
    "    '''\n",
    "    Function taking no arguments and returning some output(area_4_walls)\n",
    "    '''\n",
    "    length = input('Enetr length of room: ')\n",
    "    bredth = input('Enetr bredth of room: ')\n",
    "    height = input('Enetr height of room: ')\n",
    "\n",
    "    length = float(length)\n",
    "    bredth = float(bredth)\n",
    "    height = float(height)\n",
    "    \n",
    "    area_4_walls = 2 * height * (length + bredth)\n",
    "    return area_4_walls\n"
   ]
  },
  {
   "cell_type": "code",
   "execution_count": 10,
   "id": "4c526ccd-4e04-4a08-89f3-a5d6cabe0742",
   "metadata": {},
   "outputs": [
    {
     "name": "stdin",
     "output_type": "stream",
     "text": [
      "Enetr length of room:  10\n",
      "Enetr bredth of room:  8\n",
      "Enetr height of room:  15\n"
     ]
    }
   ],
   "source": [
    "area = area_of_four_walls()"
   ]
  },
  {
   "cell_type": "code",
   "execution_count": 11,
   "id": "3f643d03-b4f6-4b23-8bd4-a91d5782daeb",
   "metadata": {},
   "outputs": [
    {
     "data": {
      "text/plain": [
       "540.0"
      ]
     },
     "execution_count": 11,
     "metadata": {},
     "output_type": "execute_result"
    }
   ],
   "source": [
    "area"
   ]
  },
  {
   "cell_type": "code",
   "execution_count": 14,
   "id": "3045859d-76a7-4048-b15a-fb015dffaf1f",
   "metadata": {},
   "outputs": [],
   "source": [
    "def area_of_four_walls():\n",
    "    '''\n",
    "    Function taking no arguments and returning no output(area_4_walls)\n",
    "    '''\n",
    "    length = input('Enetr length of room: ')\n",
    "    bredth = input('Enetr bredth of room: ')\n",
    "    height = input('Enetr height of room: ')\n",
    "\n",
    "    length = float(length)\n",
    "    bredth = float(bredth)\n",
    "    height = float(height)\n",
    "    \n",
    "    area_4_walls = 2 * height * (length + bredth)\n",
    "    print(f'Area of 4 walls is {area_4_walls}')"
   ]
  },
  {
   "cell_type": "code",
   "execution_count": 15,
   "id": "20024c97-b6f0-41ef-92bc-24ec25baee48",
   "metadata": {},
   "outputs": [
    {
     "name": "stdin",
     "output_type": "stream",
     "text": [
      "Enetr length of room:  45\n",
      "Enetr bredth of room:  75\n",
      "Enetr height of room:  10\n"
     ]
    },
    {
     "name": "stdout",
     "output_type": "stream",
     "text": [
      "Area of 4 walls is 2400.0\n"
     ]
    }
   ],
   "source": [
    "area_of_four_walls()"
   ]
  },
  {
   "cell_type": "code",
   "execution_count": 16,
   "id": "cc5db807-d2e8-45d0-999c-8b3f8f0d541f",
   "metadata": {},
   "outputs": [],
   "source": [
    "def circle(r):\n",
    "    area = 22 / 7 * r * r\n",
    "    peri = 2 * 22 / 7 * r\n",
    "    return area, peri"
   ]
  },
  {
   "cell_type": "code",
   "execution_count": 17,
   "id": "9ca25721-d62e-4059-86c4-1653e12c8346",
   "metadata": {},
   "outputs": [],
   "source": [
    "a, p = circle(15)"
   ]
  },
  {
   "cell_type": "code",
   "execution_count": 18,
   "id": "f582d74b-8244-4ff1-bc84-bc67374bb9fc",
   "metadata": {},
   "outputs": [
    {
     "data": {
      "text/plain": [
       "707.1428571428571"
      ]
     },
     "execution_count": 18,
     "metadata": {},
     "output_type": "execute_result"
    }
   ],
   "source": [
    "a"
   ]
  },
  {
   "cell_type": "code",
   "execution_count": 19,
   "id": "5fa724c9-c11f-462a-afd0-f07f40462655",
   "metadata": {},
   "outputs": [
    {
     "data": {
      "text/plain": [
       "94.28571428571428"
      ]
     },
     "execution_count": 19,
     "metadata": {},
     "output_type": "execute_result"
    }
   ],
   "source": [
    "p"
   ]
  },
  {
   "cell_type": "code",
   "execution_count": 20,
   "id": "958809b3-9c43-4988-a262-9c87a590796b",
   "metadata": {},
   "outputs": [],
   "source": [
    "def person_info(name, address, age, gender):\n",
    "    message = f'Hello, I am {name} of {age} years {gender} from {address}'\n",
    "    print(message)"
   ]
  },
  {
   "cell_type": "code",
   "execution_count": 21,
   "id": "e01410f6-a95f-4bae-ad7d-4f084f1e8994",
   "metadata": {},
   "outputs": [
    {
     "name": "stdout",
     "output_type": "stream",
     "text": [
      "Hello, I am Hari Bahadur of 40 years male from Kathmandu\n"
     ]
    }
   ],
   "source": [
    "person_info('Hari Bahadur', 'Kathmandu', 40, 'male')\n",
    "# Order matters when the parameters are not specified"
   ]
  },
  {
   "cell_type": "code",
   "execution_count": 22,
   "id": "b24e9d31-86d2-48ff-a724-5b1be6729355",
   "metadata": {},
   "outputs": [
    {
     "name": "stdout",
     "output_type": "stream",
     "text": [
      "Hello, I am Ram Maya of 44 years female from Kathmandu\n"
     ]
    }
   ],
   "source": [
    "person_info(address='Kathmandu', name='Ram Maya', gender='female', age=44)\n",
    "# order doesnot matter as long as the parameters are specified"
   ]
  },
  {
   "cell_type": "code",
   "execution_count": 23,
   "id": "18b929ce-6f38-4e67-b0d1-acf457176158",
   "metadata": {},
   "outputs": [
    {
     "name": "stdout",
     "output_type": "stream",
     "text": [
      "Hello, I am Hari Bahadur of 55 years Male from Kathmandu\n"
     ]
    }
   ],
   "source": [
    "person_info('Hari Bahadur', 'Kathmandu', gender='Male', age=55)"
   ]
  },
  {
   "cell_type": "code",
   "execution_count": 24,
   "id": "efaf9044-e518-4e6c-99b0-3cc04937ca1e",
   "metadata": {},
   "outputs": [],
   "source": [
    "def calc(a, b):\n",
    "    addition = a + b\n",
    "    substraction = a - b\n",
    "    multiplication = a * b\n",
    "    try:\n",
    "        division = a / b\n",
    "    except ZeroDivisionError:\n",
    "        division = None\n",
    "    return addition, substraction, multiplication, division"
   ]
  },
  {
   "cell_type": "code",
   "execution_count": 25,
   "id": "07edd87f-9eb5-43c7-a64e-410e4e25681a",
   "metadata": {},
   "outputs": [
    {
     "data": {
      "text/plain": [
       "(49, 41, 180, 11.25)"
      ]
     },
     "execution_count": 25,
     "metadata": {},
     "output_type": "execute_result"
    }
   ],
   "source": [
    "calc(45, 4)"
   ]
  },
  {
   "cell_type": "code",
   "execution_count": 26,
   "id": "6c273e4e-bfa4-4c95-81fe-50019f61f65c",
   "metadata": {},
   "outputs": [
    {
     "data": {
      "text/plain": [
       "(45, 45, 0, None)"
      ]
     },
     "execution_count": 26,
     "metadata": {},
     "output_type": "execute_result"
    }
   ],
   "source": [
    "calc(45, 0)"
   ]
  },
  {
   "cell_type": "code",
   "execution_count": 27,
   "id": "01f49e6b-eb8b-49c6-92f6-2300810f2a74",
   "metadata": {},
   "outputs": [],
   "source": [
    "def show_status(age, children, status='alive'):\n",
    "    print(f'Age: {age}, children: {children}, Status: {status}')"
   ]
  },
  {
   "cell_type": "code",
   "execution_count": 28,
   "id": "ad21f58d-2b7a-4ac2-a865-6b620dc28a96",
   "metadata": {},
   "outputs": [
    {
     "name": "stdout",
     "output_type": "stream",
     "text": [
      "Age: 40, children: 2, Status: alive\n"
     ]
    }
   ],
   "source": [
    "show_status(40, 2)"
   ]
  },
  {
   "cell_type": "code",
   "execution_count": 29,
   "id": "9c1f3f72-6cfb-4d09-a3c1-5291ada7b8b6",
   "metadata": {},
   "outputs": [
    {
     "name": "stdout",
     "output_type": "stream",
     "text": [
      "Age: 40, children: 2, Status: passed away\n"
     ]
    }
   ],
   "source": [
    "show_status(40, 2, 'passed away')"
   ]
  },
  {
   "cell_type": "code",
   "execution_count": 31,
   "id": "b33dda39-00cd-4382-8883-8bec7fcf4d4b",
   "metadata": {},
   "outputs": [],
   "source": [
    "def show_status(age, children=0, status='alive'):\n",
    "    print(f'Age: {age}, children: {children}, Status: {status}')"
   ]
  },
  {
   "cell_type": "code",
   "execution_count": 32,
   "id": "260d3ce2-0261-4670-9eec-fdc7bfe2c03c",
   "metadata": {},
   "outputs": [
    {
     "name": "stdout",
     "output_type": "stream",
     "text": [
      "Age: 15, children: 0, Status: alive\n"
     ]
    }
   ],
   "source": [
    "show_status(15)"
   ]
  },
  {
   "cell_type": "code",
   "execution_count": 35,
   "id": "b86a7d85-383b-4355-91d7-b6c31a311085",
   "metadata": {},
   "outputs": [
    {
     "name": "stdout",
     "output_type": "stream",
     "text": [
      "Age: 86, children: 25, Status: alive\n"
     ]
    }
   ],
   "source": [
    "show_status(children=25, status='alive', age=86)"
   ]
  },
  {
   "cell_type": "code",
   "execution_count": 36,
   "id": "aedbd49d-d793-4413-8a45-dff2b165ae86",
   "metadata": {},
   "outputs": [
    {
     "name": "stdout",
     "output_type": "stream",
     "text": [
      "Age: Thirty Three, children: 0, Status: alive\n"
     ]
    }
   ],
   "source": [
    "show_status(age='Thirty Three')"
   ]
  },
  {
   "cell_type": "code",
   "execution_count": 37,
   "id": "5c3b1bc4-3266-48ca-8aa9-e2e8fefb4a35",
   "metadata": {},
   "outputs": [
    {
     "name": "stdout",
     "output_type": "stream",
     "text": [
      "Age: 12, children: False, Status: alive\n"
     ]
    }
   ],
   "source": [
    "show_status(age=12, children=False)"
   ]
  },
  {
   "cell_type": "code",
   "execution_count": 38,
   "id": "94618c0e-ec2a-43b9-adf0-22d59ad05a79",
   "metadata": {},
   "outputs": [],
   "source": [
    "def area_rect(l:int, b:int):\n",
    "    a = l * b\n",
    "    return a"
   ]
  },
  {
   "cell_type": "code",
   "execution_count": 42,
   "id": "5c2acd04-7272-4477-b726-43624c995c48",
   "metadata": {},
   "outputs": [
    {
     "data": {
      "text/plain": [
       "'HelloHelloHelloHelloHelloHello'"
      ]
     },
     "execution_count": 42,
     "metadata": {},
     "output_type": "execute_result"
    }
   ],
   "source": [
    "area = area_rect('Hello', 6)\n",
    "area"
   ]
  },
  {
   "cell_type": "code",
   "execution_count": 44,
   "id": "bbe6d5a0-6de9-4821-bc0a-5337ff55881f",
   "metadata": {},
   "outputs": [
    {
     "data": {
      "text/plain": [
       "False"
      ]
     },
     "execution_count": 44,
     "metadata": {},
     "output_type": "execute_result"
    }
   ],
   "source": [
    "isinstance(5.0, int)"
   ]
  },
  {
   "cell_type": "code",
   "execution_count": 45,
   "id": "32f4eea2-7ba5-41a4-a98f-70603bb3845a",
   "metadata": {},
   "outputs": [],
   "source": [
    "def area_rect(l:int, b:int):\n",
    "    if isinstance(l, int) and isinstance(b, int):\n",
    "        a = l * b\n",
    "        return a\n",
    "    raise TypeError"
   ]
  },
  {
   "cell_type": "code",
   "execution_count": 46,
   "id": "ec37d346-41dd-4412-ad83-9ba10defafd6",
   "metadata": {},
   "outputs": [
    {
     "ename": "TypeError",
     "evalue": "",
     "output_type": "error",
     "traceback": [
      "\u001b[1;31m---------------------------------------------------------------------------\u001b[0m",
      "\u001b[1;31mTypeError\u001b[0m                                 Traceback (most recent call last)",
      "Cell \u001b[1;32mIn[46], line 1\u001b[0m\n\u001b[1;32m----> 1\u001b[0m \u001b[43marea_rect\u001b[49m\u001b[43m(\u001b[49m\u001b[38;5;124;43m'\u001b[39;49m\u001b[38;5;124;43mHello\u001b[39;49m\u001b[38;5;124;43m'\u001b[39;49m\u001b[43m,\u001b[49m\u001b[43m \u001b[49m\u001b[38;5;241;43m5\u001b[39;49m\u001b[43m)\u001b[49m\n",
      "Cell \u001b[1;32mIn[45], line 5\u001b[0m, in \u001b[0;36marea_rect\u001b[1;34m(l, b)\u001b[0m\n\u001b[0;32m      3\u001b[0m     a \u001b[38;5;241m=\u001b[39m l \u001b[38;5;241m*\u001b[39m b\n\u001b[0;32m      4\u001b[0m     \u001b[38;5;28;01mreturn\u001b[39;00m a\n\u001b[1;32m----> 5\u001b[0m \u001b[38;5;28;01mraise\u001b[39;00m \u001b[38;5;167;01mTypeError\u001b[39;00m\n",
      "\u001b[1;31mTypeError\u001b[0m: "
     ]
    }
   ],
   "source": [
    "area_rect('Hello', 5)"
   ]
  },
  {
   "cell_type": "code",
   "execution_count": 49,
   "id": "8714815f-2801-45dd-b555-630b5e45c252",
   "metadata": {},
   "outputs": [
    {
     "data": {
      "text/plain": [
       "True"
      ]
     },
     "execution_count": 49,
     "metadata": {},
     "output_type": "execute_result"
    }
   ],
   "source": [
    "type(6) is int"
   ]
  },
  {
   "cell_type": "markdown",
   "id": "e506022d-39cd-4c69-a1e7-26d43685799f",
   "metadata": {},
   "source": [
    "# Lambda Function"
   ]
  },
  {
   "cell_type": "markdown",
   "id": "b0c22c45-6110-4580-9b90-27d7ed416a72",
   "metadata": {},
   "source": [
    "```python\n",
    "func_name = lambda arguments: calculation\n",
    "```"
   ]
  },
  {
   "cell_type": "code",
   "execution_count": 50,
   "id": "2fea15a6-dda1-4f0c-abeb-82cc7ee7e98f",
   "metadata": {},
   "outputs": [],
   "source": [
    "# find square of given number\n",
    "\n",
    "def square(x):\n",
    "    return x * x"
   ]
  },
  {
   "cell_type": "code",
   "execution_count": 51,
   "id": "97e76469-5a2d-43c5-b918-51497d7c783b",
   "metadata": {},
   "outputs": [
    {
     "data": {
      "text/plain": [
       "25"
      ]
     },
     "execution_count": 51,
     "metadata": {},
     "output_type": "execute_result"
    }
   ],
   "source": [
    "square(5)"
   ]
  },
  {
   "cell_type": "code",
   "execution_count": 52,
   "id": "3fa0bf38-f52b-4b05-86b5-e1efc5ff3c95",
   "metadata": {},
   "outputs": [],
   "source": [
    "square_lambda = lambda x: x * x"
   ]
  },
  {
   "cell_type": "code",
   "execution_count": 53,
   "id": "12171b48-c055-43f3-b01e-e80eb686f7da",
   "metadata": {},
   "outputs": [
    {
     "data": {
      "text/plain": [
       "144"
      ]
     },
     "execution_count": 53,
     "metadata": {},
     "output_type": "execute_result"
    }
   ],
   "source": [
    "square_lambda(12)"
   ]
  },
  {
   "cell_type": "code",
   "execution_count": 54,
   "id": "4af5d7a6-d8ac-4a17-b6af-075ff7a72974",
   "metadata": {},
   "outputs": [],
   "source": [
    "# sum of three numbers\n",
    "sum_three_numbers = lambda a, b, c: a + b + c"
   ]
  },
  {
   "cell_type": "code",
   "execution_count": 55,
   "id": "53e674e9-5deb-4962-8fc8-ecaf031e98f5",
   "metadata": {},
   "outputs": [
    {
     "data": {
      "text/plain": [
       "11"
      ]
     },
     "execution_count": 55,
     "metadata": {},
     "output_type": "execute_result"
    }
   ],
   "source": [
    "sum_three_numbers(5, 4, 2)"
   ]
  },
  {
   "cell_type": "code",
   "execution_count": 60,
   "id": "d95cedcf-7144-4f00-9036-f8380a7163ac",
   "metadata": {},
   "outputs": [],
   "source": [
    "rect = lambda l, b: (l * b, 2 * (l + b))"
   ]
  },
  {
   "cell_type": "code",
   "execution_count": 61,
   "id": "4251c033-911f-48c3-b735-26cf3bdfd656",
   "metadata": {},
   "outputs": [
    {
     "data": {
      "text/plain": [
       "(20, 18)"
      ]
     },
     "execution_count": 61,
     "metadata": {},
     "output_type": "execute_result"
    }
   ],
   "source": [
    "rect(5, 4)"
   ]
  },
  {
   "cell_type": "code",
   "execution_count": 64,
   "id": "b26203fb-b839-43a9-852c-981100791282",
   "metadata": {},
   "outputs": [],
   "source": [
    "def parent_function():\n",
    "    a = 5\n",
    "    \n",
    "    def child_function():\n",
    "        pass\n",
    "    def child_function2():\n",
    "        print('I am child function 2')\n",
    "    def child_function3():\n",
    "        print('I am child Fucntion 3')\n",
    "    child_function()\n",
    "    child_function2()\n",
    "    child_function3()\n",
    "    "
   ]
  },
  {
   "cell_type": "code",
   "execution_count": 65,
   "id": "7c0af887-c177-4957-a967-aad63637a49c",
   "metadata": {},
   "outputs": [
    {
     "name": "stdout",
     "output_type": "stream",
     "text": [
      "I am child function 2\n",
      "I am child Fucntion 3\n"
     ]
    }
   ],
   "source": [
    "parent_function()"
   ]
  },
  {
   "cell_type": "code",
   "execution_count": 66,
   "id": "52773c2f-12d3-42d3-9748-b00fc9cf8f25",
   "metadata": {},
   "outputs": [
    {
     "ename": "NameError",
     "evalue": "name 'child_function3' is not defined",
     "output_type": "error",
     "traceback": [
      "\u001b[1;31m---------------------------------------------------------------------------\u001b[0m",
      "\u001b[1;31mNameError\u001b[0m                                 Traceback (most recent call last)",
      "Cell \u001b[1;32mIn[66], line 1\u001b[0m\n\u001b[1;32m----> 1\u001b[0m \u001b[43mchild_function3\u001b[49m()\n",
      "\u001b[1;31mNameError\u001b[0m: name 'child_function3' is not defined"
     ]
    }
   ],
   "source": [
    "child_function3()"
   ]
  },
  {
   "cell_type": "markdown",
   "id": "584490dd-57bb-4fd0-b79c-0ea5eed8f4a5",
   "metadata": {},
   "source": [
    "$N! = N \\times (N-1) \\times (N-2) \\times ........ \\times 3 \\times 2 \\times 1$"
   ]
  },
  {
   "cell_type": "code",
   "execution_count": 72,
   "id": "1daefce6-5d1d-492e-9afb-0934a80d9282",
   "metadata": {},
   "outputs": [],
   "source": [
    "def fact(n):\n",
    "    fac = 1\n",
    "    if n == 0:\n",
    "        return fac\n",
    "    for i in range(1, n+1):\n",
    "        fac *= i\n",
    "    return fac"
   ]
  },
  {
   "cell_type": "code",
   "execution_count": 77,
   "id": "48f0c4ca-d8cf-426e-91b2-ae31601351dc",
   "metadata": {},
   "outputs": [
    {
     "data": {
      "text/plain": [
       "119622220865480194561963161495657715064383733760000000000"
      ]
     },
     "execution_count": 77,
     "metadata": {},
     "output_type": "execute_result"
    }
   ],
   "source": [
    "fact(45)"
   ]
  },
  {
   "cell_type": "code",
   "execution_count": 78,
   "id": "ff685952-e9c5-4e2c-ae71-1e7cc0a24362",
   "metadata": {},
   "outputs": [],
   "source": [
    "# swap the values using functions(normal function as well as lambda function)\n",
    "a = 45\n",
    "b = 200"
   ]
  },
  {
   "cell_type": "code",
   "execution_count": 79,
   "id": "ec41fa55-1788-41f8-9e6d-a79fc0f60379",
   "metadata": {},
   "outputs": [],
   "source": [
    "def swap(x, y):\n",
    "    return y, x"
   ]
  },
  {
   "cell_type": "code",
   "execution_count": 80,
   "id": "7678fa06-188d-436e-8aef-3856123238e3",
   "metadata": {},
   "outputs": [],
   "source": [
    "a, b = swap(a, b)"
   ]
  },
  {
   "cell_type": "code",
   "execution_count": 81,
   "id": "9bc0318a-8953-4c99-964b-e6ffa94dcc2f",
   "metadata": {},
   "outputs": [
    {
     "data": {
      "text/plain": [
       "(200, 45)"
      ]
     },
     "execution_count": 81,
     "metadata": {},
     "output_type": "execute_result"
    }
   ],
   "source": [
    "a, b"
   ]
  },
  {
   "cell_type": "code",
   "execution_count": 82,
   "id": "ce1f3a98-36f3-41e0-bf19-702c5c5ad765",
   "metadata": {},
   "outputs": [],
   "source": [
    "swap_lambda = lambda x, y: (y, x)"
   ]
  },
  {
   "cell_type": "code",
   "execution_count": 83,
   "id": "43c71bc6-0d96-4a5f-9aa8-fe78f7675bf7",
   "metadata": {},
   "outputs": [],
   "source": [
    "a, b = swap_lambda(a, b)"
   ]
  },
  {
   "cell_type": "code",
   "execution_count": 84,
   "id": "0cae0db9-e242-4db1-8360-d2c6fe88b2fc",
   "metadata": {},
   "outputs": [
    {
     "data": {
      "text/plain": [
       "(45, 200)"
      ]
     },
     "execution_count": 84,
     "metadata": {},
     "output_type": "execute_result"
    }
   ],
   "source": [
    "a, b"
   ]
  },
  {
   "cell_type": "markdown",
   "id": "71267984-0a6b-4c07-956e-5ba7b21f5b22",
   "metadata": {},
   "source": [
    "**Standard Deviation**\n",
    "\n",
    "$\\sqrt{\\frac{\\sum_i^N(x_i - mean)^2}{N}}$"
   ]
  },
  {
   "cell_type": "code",
   "execution_count": null,
   "id": "064693f0-7e43-4072-bc97-faf828209edf",
   "metadata": {},
   "outputs": [],
   "source": []
  }
 ],
 "metadata": {
  "kernelspec": {
   "display_name": "Python 3 (ipykernel)",
   "language": "python",
   "name": "python3"
  },
  "language_info": {
   "codemirror_mode": {
    "name": "ipython",
    "version": 3
   },
   "file_extension": ".py",
   "mimetype": "text/x-python",
   "name": "python",
   "nbconvert_exporter": "python",
   "pygments_lexer": "ipython3",
   "version": "3.10.11"
  }
 },
 "nbformat": 4,
 "nbformat_minor": 5
}
