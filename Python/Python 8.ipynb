{
 "cells": [
  {
   "cell_type": "markdown",
   "id": "a1ee2094-9fb8-4452-b980-94cbdb8b4e67",
   "metadata": {},
   "source": [
    "# Inheritance"
   ]
  },
  {
   "cell_type": "code",
   "execution_count": 1,
   "id": "578318dc-2e57-4dfc-b823-e782cef17eae",
   "metadata": {},
   "outputs": [],
   "source": [
    "class ClassA:\n",
    "    def __init__(self, name, message):\n",
    "        self.name = name\n",
    "        self.message = message\n",
    "    def display_name(self,):\n",
    "        print(f'{self.name} says hello from ClassA')\n",
    "    def display_message(self,):\n",
    "        print(f'This message is from ClassA:\\n{self.message}')"
   ]
  },
  {
   "cell_type": "code",
   "execution_count": 2,
   "id": "39cf6c0f-1356-4ac0-a207-9b2fdc5c4f77",
   "metadata": {},
   "outputs": [],
   "source": [
    "obj1 = ClassA('Something', 'Some Message')"
   ]
  },
  {
   "cell_type": "code",
   "execution_count": 3,
   "id": "02a383f5-b848-4971-9c6c-6d0ab82aefcd",
   "metadata": {},
   "outputs": [
    {
     "name": "stdout",
     "output_type": "stream",
     "text": [
      "Something says hello from ClassA\n"
     ]
    }
   ],
   "source": [
    "obj1.display_name()"
   ]
  },
  {
   "cell_type": "code",
   "execution_count": 4,
   "id": "db2e3bfe-1098-4172-81ed-d61a241ff650",
   "metadata": {},
   "outputs": [
    {
     "name": "stdout",
     "output_type": "stream",
     "text": [
      "This message is from ClassA:\n",
      "Some Message\n"
     ]
    }
   ],
   "source": [
    "obj1.display_message()"
   ]
  },
  {
   "cell_type": "code",
   "execution_count": 5,
   "id": "f9171905-9ecf-4a0f-af54-017722a6def9",
   "metadata": {},
   "outputs": [],
   "source": [
    "class ClassB(ClassA): # ClassB  is inheriting ClassA. i.e. ClassB can now use the attributes of ClassA\n",
    "    def __init__(self, name, message, extra_message):\n",
    "        super().__init__(name, message)\n",
    "        self.extra_message = extra_message\n",
    "    def display_extra_message(self, ):\n",
    "        print(f'This extra message is from ClassB:\\n{self.extra_message}')\n",
    "    def display_message(self,):\n",
    "        print(f'This message is from ClassB:\\n{self.message}')"
   ]
  },
  {
   "cell_type": "code",
   "execution_count": 6,
   "id": "0bf6e5de-8a99-4923-90b2-351f6d5c4221",
   "metadata": {},
   "outputs": [],
   "source": [
    "obj2 = ClassB('Name B', 'Message B', 'Extra Message B')"
   ]
  },
  {
   "cell_type": "code",
   "execution_count": 7,
   "id": "710d016c-4963-47ee-a86f-cb8e69039998",
   "metadata": {},
   "outputs": [
    {
     "name": "stdout",
     "output_type": "stream",
     "text": [
      "This extra message is from ClassB:\n",
      "Extra Message B\n"
     ]
    }
   ],
   "source": [
    "obj2.display_extra_message()"
   ]
  },
  {
   "cell_type": "code",
   "execution_count": 8,
   "id": "c2d3f0b2-4508-4ff7-9ab7-cc78c88313aa",
   "metadata": {},
   "outputs": [
    {
     "name": "stdout",
     "output_type": "stream",
     "text": [
      "Name B says hello from ClassA\n"
     ]
    }
   ],
   "source": [
    "obj2.display_name()"
   ]
  },
  {
   "cell_type": "code",
   "execution_count": 9,
   "id": "be50263b-4268-49af-8c0f-88e6f2bc68fe",
   "metadata": {},
   "outputs": [
    {
     "name": "stdout",
     "output_type": "stream",
     "text": [
      "This message is from ClassB:\n",
      "Message B\n"
     ]
    }
   ],
   "source": [
    "obj2.display_message()"
   ]
  },
  {
   "cell_type": "code",
   "execution_count": 12,
   "id": "886579e3-3e6c-4dc0-ba62-7acec9baeb90",
   "metadata": {},
   "outputs": [],
   "source": [
    "class Person:\n",
    "    def __init__(self, fname, lname, age):\n",
    "        self.fname = fname\n",
    "        self.lname = lname\n",
    "        self.age = age\n",
    "    def info(self,):\n",
    "        message = f'Hello I am {self.fname} {self.lname}. I am {self.age} years old.'\n",
    "        print(message)"
   ]
  },
  {
   "cell_type": "code",
   "execution_count": 13,
   "id": "65278183-4609-4a93-b746-ed9c7950aeeb",
   "metadata": {},
   "outputs": [
    {
     "name": "stdout",
     "output_type": "stream",
     "text": [
      "Hello I am Hari Bahadur. I am 40 years old.\n"
     ]
    }
   ],
   "source": [
    "per1 = Person('Hari', 'Bahadur', 40)\n",
    "per1.info()"
   ]
  },
  {
   "cell_type": "code",
   "execution_count": 14,
   "id": "a1939af2-c95e-4da8-96b5-f045456736d0",
   "metadata": {},
   "outputs": [],
   "source": [
    "class Student(Person):\n",
    "    def __init__(self, fname, lname, age, degree, grad_year):\n",
    "        super().__init__(fname, lname, age)\n",
    "        self.degree = degree\n",
    "        self.grad_year = grad_year\n",
    "    def info(self,):\n",
    "        message = f\"\"\"\n",
    "        Hello I am {self.fname} {self.lname}. I am {self.age} years old.\n",
    "        I have {self.degree} degree. I graduated on {self.grad_year}\n",
    "        \"\"\"\n",
    "        print(message)"
   ]
  },
  {
   "cell_type": "code",
   "execution_count": 15,
   "id": "ed0cfec7-2aa7-4e3f-9385-78c2cdc9b298",
   "metadata": {},
   "outputs": [],
   "source": [
    "stu1 = Student('Mithai', 'Lal', 35, 'Msc', '2013')"
   ]
  },
  {
   "cell_type": "code",
   "execution_count": 16,
   "id": "f0481346-f0ed-43a0-a8a1-6bed4d8b692a",
   "metadata": {},
   "outputs": [
    {
     "name": "stdout",
     "output_type": "stream",
     "text": [
      "\n",
      "        Hello I am Mithai Lal. I am 35 years old.\n",
      "        I have Msc degree. I graduated on 2013\n",
      "        \n"
     ]
    }
   ],
   "source": [
    "stu1.info()"
   ]
  },
  {
   "cell_type": "code",
   "execution_count": 17,
   "id": "cb597b36-25e8-4cce-b7b0-34e68cc7d3f6",
   "metadata": {},
   "outputs": [],
   "source": [
    "class Polygon:\n",
    "    def __init__(self, side, side_length):\n",
    "        self.side = side\n",
    "        self.side_length = side_length\n",
    "    def perimeter(self, ):\n",
    "        return self.side * self.side_length"
   ]
  },
  {
   "cell_type": "code",
   "execution_count": 18,
   "id": "444dc4cf-fb27-4e56-aca0-100cde15a751",
   "metadata": {},
   "outputs": [],
   "source": [
    "from math import sqrt"
   ]
  },
  {
   "cell_type": "code",
   "execution_count": 20,
   "id": "88680408-69d6-4c21-9f7d-84009ec44bff",
   "metadata": {},
   "outputs": [],
   "source": [
    "class Triangle(Polygon):\n",
    "    def __init__(self, length):\n",
    "        super().__init__(3, length)\n",
    "    def area(self, ):\n",
    "        a = sqrt(3) / 4 * self.side_length ** 2\n",
    "        return a"
   ]
  },
  {
   "cell_type": "code",
   "execution_count": 21,
   "id": "729f1ff4-7319-4176-99b5-d79cd5a6d8a4",
   "metadata": {},
   "outputs": [],
   "source": [
    "tri = Triangle(5)"
   ]
  },
  {
   "cell_type": "code",
   "execution_count": 22,
   "id": "b5773a64-4669-4689-8428-9f501c700345",
   "metadata": {},
   "outputs": [
    {
     "data": {
      "text/plain": [
       "15"
      ]
     },
     "execution_count": 22,
     "metadata": {},
     "output_type": "execute_result"
    }
   ],
   "source": [
    "tri.perimeter()"
   ]
  },
  {
   "cell_type": "code",
   "execution_count": 23,
   "id": "91055037-ff4e-44ca-944c-6bc28a99d103",
   "metadata": {},
   "outputs": [
    {
     "data": {
      "text/plain": [
       "10.825317547305483"
      ]
     },
     "execution_count": 23,
     "metadata": {},
     "output_type": "execute_result"
    }
   ],
   "source": [
    "tri.area()"
   ]
  },
  {
   "cell_type": "code",
   "execution_count": 24,
   "id": "0b28045a-fb4c-4c8b-a0ee-365e4230c181",
   "metadata": {},
   "outputs": [],
   "source": [
    "class Hexagon(Polygon):\n",
    "    def __init__(self, length):\n",
    "        super().__init__(6, length)\n",
    "    def area(self, ):\n",
    "        a = 3 * sqrt(3) * self.side_length ** 2 / 2\n",
    "        return a"
   ]
  },
  {
   "cell_type": "code",
   "execution_count": 25,
   "id": "b4758b2b-48e2-4c6f-a6c1-72602aa149b6",
   "metadata": {},
   "outputs": [],
   "source": [
    "hexa = Hexagon(5)"
   ]
  },
  {
   "cell_type": "code",
   "execution_count": 26,
   "id": "5f68a365-496f-4060-8c5e-1869bd59fd02",
   "metadata": {},
   "outputs": [
    {
     "data": {
      "text/plain": [
       "30"
      ]
     },
     "execution_count": 26,
     "metadata": {},
     "output_type": "execute_result"
    }
   ],
   "source": [
    "hexa.perimeter()"
   ]
  },
  {
   "cell_type": "code",
   "execution_count": 27,
   "id": "468f9211-f714-43b8-a2b4-f53b44280764",
   "metadata": {},
   "outputs": [
    {
     "data": {
      "text/plain": [
       "64.9519052838329"
      ]
     },
     "execution_count": 27,
     "metadata": {},
     "output_type": "execute_result"
    }
   ],
   "source": [
    "hexa.area()"
   ]
  },
  {
   "cell_type": "code",
   "execution_count": 30,
   "id": "d7732f6f-91ad-4432-b65a-52b3a0a993f5",
   "metadata": {},
   "outputs": [],
   "source": [
    "class Calculator:\n",
    "    def __init__(self, a, b):\n",
    "        self.a = a\n",
    "        self.b = b\n",
    "    def addition(self,):\n",
    "        print(f'{self.a} + {self.b} = {self.a + self.b}')\n",
    "    def substraction(self,):\n",
    "        print(f'{self.a} - {self.b} = {self.a - self.b}')\n",
    "    def multiplication(self,):\n",
    "        print(f'{self.a} X {self.b} = {self.a * self.b}')  \n",
    "    def division(self,):\n",
    "        try:\n",
    "            print(f'{self.a} / {self.b} = {self.a / self.b}')\n",
    "        except ZeroDivisionError:\n",
    "            print(f'{self.a} / {self.b} is not possible')"
   ]
  },
  {
   "cell_type": "code",
   "execution_count": 31,
   "id": "511d8e48-a300-41aa-bad9-43adc82999bf",
   "metadata": {},
   "outputs": [],
   "source": [
    "calc = Calculator(5, 0)"
   ]
  },
  {
   "cell_type": "code",
   "execution_count": 32,
   "id": "4e633c5f-653d-4e22-aefb-261b235d874e",
   "metadata": {},
   "outputs": [
    {
     "name": "stdout",
     "output_type": "stream",
     "text": [
      "5 + 0 = 5\n",
      "5 - 0 = 5\n",
      "5 / 0 is not possible\n",
      "5 X 0 = 0\n"
     ]
    }
   ],
   "source": [
    "calc.addition()\n",
    "calc.substraction()\n",
    "calc.division()\n",
    "calc.multiplication()"
   ]
  },
  {
   "cell_type": "code",
   "execution_count": 40,
   "id": "333b82ce-6ee0-4b68-bb35-fc3032691b84",
   "metadata": {},
   "outputs": [],
   "source": [
    "class ComplexCalc(Calculator):\n",
    "    def __init__(self, x, y):\n",
    "        super().__init__(x, y)\n",
    "    def hcf(self, ):\n",
    "        a = self.a\n",
    "        b = self.b\n",
    "        while True:\n",
    "            rem = a % b\n",
    "            if rem == 0:\n",
    "                print(f'HCF: {b}')\n",
    "                break\n",
    "            a = b\n",
    "            b = rem"
   ]
  },
  {
   "cell_type": "code",
   "execution_count": 41,
   "id": "41970795-4959-4c2d-974d-1dd0cfd18c99",
   "metadata": {},
   "outputs": [],
   "source": [
    "comp = ComplexCalc(12, 9)"
   ]
  },
  {
   "cell_type": "code",
   "execution_count": 42,
   "id": "e003c1ca-93f3-425b-8938-ff5fa6526376",
   "metadata": {},
   "outputs": [
    {
     "name": "stdout",
     "output_type": "stream",
     "text": [
      "12 - 9 = 3\n"
     ]
    }
   ],
   "source": [
    "comp.substraction()"
   ]
  },
  {
   "cell_type": "code",
   "execution_count": 43,
   "id": "eefaa4e1-cebc-4bf9-a2b1-0b373a57cc13",
   "metadata": {},
   "outputs": [
    {
     "name": "stdout",
     "output_type": "stream",
     "text": [
      "12 + 9 = 21\n"
     ]
    }
   ],
   "source": [
    "comp.addition()"
   ]
  },
  {
   "cell_type": "code",
   "execution_count": 44,
   "id": "6a277979-136e-4a28-84f2-16ce867310ed",
   "metadata": {},
   "outputs": [
    {
     "name": "stdout",
     "output_type": "stream",
     "text": [
      "HCF: 3\n"
     ]
    }
   ],
   "source": [
    "comp.hcf()"
   ]
  },
  {
   "cell_type": "code",
   "execution_count": null,
   "id": "6abf1b2d-137d-459d-9ff0-8c1ebfb82fec",
   "metadata": {},
   "outputs": [],
   "source": []
  }
 ],
 "metadata": {
  "kernelspec": {
   "display_name": "Python 3 (ipykernel)",
   "language": "python",
   "name": "python3"
  },
  "language_info": {
   "codemirror_mode": {
    "name": "ipython",
    "version": 3
   },
   "file_extension": ".py",
   "mimetype": "text/x-python",
   "name": "python",
   "nbconvert_exporter": "python",
   "pygments_lexer": "ipython3",
   "version": "3.10.11"
  }
 },
 "nbformat": 4,
 "nbformat_minor": 5
}
