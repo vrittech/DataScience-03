{
 "cells": [
  {
   "cell_type": "code",
   "execution_count": 1,
   "id": "3931747f-0cf5-4293-bb46-9e5550827b53",
   "metadata": {},
   "outputs": [
    {
     "name": "stdout",
     "output_type": "stream",
     "text": [
      "Hello World!!!\n"
     ]
    }
   ],
   "source": [
    "print('Hello World!!!')"
   ]
  },
  {
   "cell_type": "code",
   "execution_count": 2,
   "id": "1715a702-431f-471f-bfcb-c101b5f419a5",
   "metadata": {},
   "outputs": [],
   "source": [
    "x = 5"
   ]
  },
  {
   "cell_type": "code",
   "execution_count": 3,
   "id": "b8069b88-e147-41ba-84a8-c374ba7b1e3b",
   "metadata": {},
   "outputs": [
    {
     "name": "stdout",
     "output_type": "stream",
     "text": [
      "5\n"
     ]
    }
   ],
   "source": [
    "print(x)"
   ]
  },
  {
   "cell_type": "code",
   "execution_count": 4,
   "id": "1dd7373e-a46d-4c1f-a655-282159ae92a5",
   "metadata": {},
   "outputs": [],
   "source": [
    "a = 465"
   ]
  },
  {
   "cell_type": "code",
   "execution_count": 6,
   "id": "a11bbdb5-aecb-4227-88f5-5fb7278f77ae",
   "metadata": {},
   "outputs": [],
   "source": [
    "a1 = 4654 "
   ]
  },
  {
   "cell_type": "code",
   "execution_count": 7,
   "id": "95142c99-6c61-4393-9e2d-189b2e720694",
   "metadata": {},
   "outputs": [],
   "source": [
    "this_is_my_variable = 86546835"
   ]
  },
  {
   "cell_type": "code",
   "execution_count": 8,
   "id": "d13b7317-eb28-48c8-81ee-ee60cfb2068e",
   "metadata": {},
   "outputs": [
    {
     "name": "stdout",
     "output_type": "stream",
     "text": [
      "86546835\n"
     ]
    }
   ],
   "source": [
    "print(this_is_my_variable)"
   ]
  },
  {
   "cell_type": "code",
   "execution_count": 9,
   "id": "3d9022e2-35f8-4cb8-8881-da4d4dc218fd",
   "metadata": {},
   "outputs": [
    {
     "data": {
      "text/plain": [
       "int"
      ]
     },
     "execution_count": 9,
     "metadata": {},
     "output_type": "execute_result"
    }
   ],
   "source": [
    "type(this_is_my_variable)"
   ]
  },
  {
   "cell_type": "code",
   "execution_count": 10,
   "id": "8e28716a-c270-4346-830a-5300cef45830",
   "metadata": {},
   "outputs": [
    {
     "data": {
      "text/plain": [
       "int"
      ]
     },
     "execution_count": 10,
     "metadata": {},
     "output_type": "execute_result"
    }
   ],
   "source": [
    "type(a)"
   ]
  },
  {
   "cell_type": "code",
   "execution_count": 11,
   "id": "56f6193e-e5fb-4a8c-ac01-4bb04349afb2",
   "metadata": {},
   "outputs": [
    {
     "data": {
      "text/plain": [
       "3.64541653"
      ]
     },
     "execution_count": 11,
     "metadata": {},
     "output_type": "execute_result"
    }
   ],
   "source": [
    "a = 3.64541653\n",
    "a"
   ]
  },
  {
   "cell_type": "code",
   "execution_count": 12,
   "id": "a6362ff0-29b4-4b48-9ddd-fb028a2faba8",
   "metadata": {},
   "outputs": [
    {
     "data": {
      "text/plain": [
       "float"
      ]
     },
     "execution_count": 12,
     "metadata": {},
     "output_type": "execute_result"
    }
   ],
   "source": [
    "type(a)"
   ]
  },
  {
   "cell_type": "code",
   "execution_count": 13,
   "id": "9cb48011-bb70-4104-939e-71002f59d4e3",
   "metadata": {},
   "outputs": [
    {
     "data": {
      "text/plain": [
       "float"
      ]
     },
     "execution_count": 13,
     "metadata": {},
     "output_type": "execute_result"
    }
   ],
   "source": [
    "a = 3.0\n",
    "type(a)"
   ]
  },
  {
   "cell_type": "code",
   "execution_count": 14,
   "id": "c7b441ce-be5c-4dfb-acea-9a47123b9dc4",
   "metadata": {},
   "outputs": [
    {
     "data": {
      "text/plain": [
       "3.0"
      ]
     },
     "execution_count": 14,
     "metadata": {},
     "output_type": "execute_result"
    }
   ],
   "source": [
    "a"
   ]
  },
  {
   "cell_type": "code",
   "execution_count": 15,
   "id": "e666347e-e75a-4583-98fa-e7155ae927f5",
   "metadata": {},
   "outputs": [],
   "source": [
    "complex_number = 3 + 5j"
   ]
  },
  {
   "cell_type": "code",
   "execution_count": 16,
   "id": "ff0452d7-faaa-4ed7-a411-1e0163d9f541",
   "metadata": {},
   "outputs": [
    {
     "data": {
      "text/plain": [
       "complex"
      ]
     },
     "execution_count": 16,
     "metadata": {},
     "output_type": "execute_result"
    }
   ],
   "source": [
    "type(complex_number)"
   ]
  },
  {
   "cell_type": "code",
   "execution_count": 17,
   "id": "c6bff1ba-4109-4771-a838-fa596e5aea09",
   "metadata": {},
   "outputs": [
    {
     "data": {
      "text/plain": [
       "3.0"
      ]
     },
     "execution_count": 17,
     "metadata": {},
     "output_type": "execute_result"
    }
   ],
   "source": [
    "complex_number.real"
   ]
  },
  {
   "cell_type": "code",
   "execution_count": 18,
   "id": "c3db0b91-a96d-4d84-a24e-8ff7f666af81",
   "metadata": {},
   "outputs": [
    {
     "data": {
      "text/plain": [
       "5.0"
      ]
     },
     "execution_count": 18,
     "metadata": {},
     "output_type": "execute_result"
    }
   ],
   "source": [
    "complex_number.imag"
   ]
  },
  {
   "cell_type": "code",
   "execution_count": 19,
   "id": "dd7f119c-afc1-4956-82d4-ea34e9076e50",
   "metadata": {},
   "outputs": [],
   "source": [
    "string_1 = 'a'\n",
    "string_2 = \"a\""
   ]
  },
  {
   "cell_type": "code",
   "execution_count": 20,
   "id": "b9edc58f-b878-41bc-b087-7decde4ae2a0",
   "metadata": {},
   "outputs": [
    {
     "data": {
      "text/plain": [
       "'a'"
      ]
     },
     "execution_count": 20,
     "metadata": {},
     "output_type": "execute_result"
    }
   ],
   "source": [
    "string_1"
   ]
  },
  {
   "cell_type": "code",
   "execution_count": 21,
   "id": "47c3a122-457b-40fd-933d-306de2c292e8",
   "metadata": {},
   "outputs": [
    {
     "data": {
      "text/plain": [
       "'a'"
      ]
     },
     "execution_count": 21,
     "metadata": {},
     "output_type": "execute_result"
    }
   ],
   "source": [
    "string_2"
   ]
  },
  {
   "cell_type": "code",
   "execution_count": 22,
   "id": "22b060ac-5e95-423b-8a2d-8ce607a0905a",
   "metadata": {},
   "outputs": [
    {
     "data": {
      "text/plain": [
       "str"
      ]
     },
     "execution_count": 22,
     "metadata": {},
     "output_type": "execute_result"
    }
   ],
   "source": [
    "type(string_1)"
   ]
  },
  {
   "cell_type": "code",
   "execution_count": 23,
   "id": "4b63a980-df45-4180-a17d-6f02d60749a4",
   "metadata": {},
   "outputs": [
    {
     "data": {
      "text/plain": [
       "str"
      ]
     },
     "execution_count": 23,
     "metadata": {},
     "output_type": "execute_result"
    }
   ],
   "source": [
    "type(string_2)\n"
   ]
  },
  {
   "cell_type": "code",
   "execution_count": 24,
   "id": "d614078d-e44e-4b30-b3fe-fc0f5b9b33b8",
   "metadata": {},
   "outputs": [
    {
     "data": {
      "text/plain": [
       "'Hello World!!!!'"
      ]
     },
     "execution_count": 24,
     "metadata": {},
     "output_type": "execute_result"
    }
   ],
   "source": [
    "string_1 = 'Hello World!!!!'\n",
    "string_1"
   ]
  },
  {
   "cell_type": "code",
   "execution_count": 25,
   "id": "54d21dd8-8093-421e-bf4a-95771c275758",
   "metadata": {},
   "outputs": [],
   "source": [
    "x = True"
   ]
  },
  {
   "cell_type": "code",
   "execution_count": 26,
   "id": "75b7fe7b-2731-4077-8f19-d02c89b48200",
   "metadata": {},
   "outputs": [
    {
     "data": {
      "text/plain": [
       "bool"
      ]
     },
     "execution_count": 26,
     "metadata": {},
     "output_type": "execute_result"
    }
   ],
   "source": [
    "type(x)"
   ]
  },
  {
   "cell_type": "code",
   "execution_count": 27,
   "id": "64f2de3c-02ee-4328-b005-f0eacc0cfdd0",
   "metadata": {},
   "outputs": [
    {
     "data": {
      "text/plain": [
       "True"
      ]
     },
     "execution_count": 27,
     "metadata": {},
     "output_type": "execute_result"
    }
   ],
   "source": [
    "x"
   ]
  },
  {
   "cell_type": "code",
   "execution_count": 28,
   "id": "03c38a03-c0a0-4ec2-a32d-de7e64ca37f7",
   "metadata": {},
   "outputs": [
    {
     "data": {
      "text/plain": [
       "65653"
      ]
     },
     "execution_count": 28,
     "metadata": {},
     "output_type": "execute_result"
    }
   ],
   "source": [
    "true = 65653 \n",
    "true"
   ]
  },
  {
   "cell_type": "code",
   "execution_count": 30,
   "id": "17ae87af-6df2-404d-bc27-aefa2f4044d0",
   "metadata": {},
   "outputs": [],
   "source": [
    "# True = 654965"
   ]
  },
  {
   "cell_type": "code",
   "execution_count": 31,
   "id": "8f1585dc-fa3a-4258-842a-584c8ee1f57e",
   "metadata": {},
   "outputs": [
    {
     "data": {
      "text/plain": [
       "'\\nThis is actually an multi line string,\\nbut this can also be used as a multi line comment\\n'"
      ]
     },
     "execution_count": 31,
     "metadata": {},
     "output_type": "execute_result"
    }
   ],
   "source": [
    "# This is a single line comment, it is mainly for user's information\n",
    "# kjfavcnx,sdfihjvndfjk\n",
    "# igrbjldv\n",
    "\n",
    "\"\"\"\n",
    "This is actually an multi line string,\n",
    "but this can also be used as a multi line comment\n",
    "\"\"\"\n"
   ]
  },
  {
   "cell_type": "code",
   "execution_count": 32,
   "id": "cf0b3a17-0846-454a-9842-77a7e96a73c3",
   "metadata": {},
   "outputs": [],
   "source": [
    "a = 11\n",
    "b = 3"
   ]
  },
  {
   "cell_type": "code",
   "execution_count": 33,
   "id": "deb355c5-8aef-4563-bf67-8f4bcf4a7f6d",
   "metadata": {},
   "outputs": [
    {
     "data": {
      "text/plain": [
       "11"
      ]
     },
     "execution_count": 33,
     "metadata": {},
     "output_type": "execute_result"
    }
   ],
   "source": [
    "a"
   ]
  },
  {
   "cell_type": "code",
   "execution_count": 34,
   "id": "e5306a4d-4211-4208-a242-136720b1f1ac",
   "metadata": {},
   "outputs": [
    {
     "data": {
      "text/plain": [
       "3"
      ]
     },
     "execution_count": 34,
     "metadata": {},
     "output_type": "execute_result"
    }
   ],
   "source": [
    "b"
   ]
  },
  {
   "cell_type": "code",
   "execution_count": 37,
   "id": "5f8a0f63-a80b-4a38-ba16-1beb9ae367d8",
   "metadata": {},
   "outputs": [
    {
     "data": {
      "text/plain": [
       "14"
      ]
     },
     "execution_count": 37,
     "metadata": {},
     "output_type": "execute_result"
    }
   ],
   "source": [
    "a + b"
   ]
  },
  {
   "cell_type": "code",
   "execution_count": 38,
   "id": "5b4269d2-d1d2-40cf-b4b6-58b07dd58dd5",
   "metadata": {},
   "outputs": [
    {
     "data": {
      "text/plain": [
       "14"
      ]
     },
     "execution_count": 38,
     "metadata": {},
     "output_type": "execute_result"
    }
   ],
   "source": [
    "c = a + b\n",
    "c"
   ]
  },
  {
   "cell_type": "code",
   "execution_count": 39,
   "id": "2d84268f-7b96-43e9-9284-fc2852bd1976",
   "metadata": {},
   "outputs": [
    {
     "data": {
      "text/plain": [
       "8"
      ]
     },
     "execution_count": 39,
     "metadata": {},
     "output_type": "execute_result"
    }
   ],
   "source": [
    "a - b"
   ]
  },
  {
   "cell_type": "code",
   "execution_count": 40,
   "id": "7cfd163e-f5e5-4f5c-a8bc-436621949e17",
   "metadata": {},
   "outputs": [
    {
     "data": {
      "text/plain": [
       "3.6666666666666665"
      ]
     },
     "execution_count": 40,
     "metadata": {},
     "output_type": "execute_result"
    }
   ],
   "source": [
    "a / b"
   ]
  },
  {
   "cell_type": "code",
   "execution_count": 41,
   "id": "36a1be0c-2f89-4e58-b4b9-df86dbdbcb07",
   "metadata": {},
   "outputs": [
    {
     "data": {
      "text/plain": [
       "2"
      ]
     },
     "execution_count": 41,
     "metadata": {},
     "output_type": "execute_result"
    }
   ],
   "source": [
    "a % b # Remainder"
   ]
  },
  {
   "cell_type": "code",
   "execution_count": 42,
   "id": "78219911-7604-4bf8-aab9-08bf61ac9d49",
   "metadata": {},
   "outputs": [
    {
     "data": {
      "text/plain": [
       "3"
      ]
     },
     "execution_count": 42,
     "metadata": {},
     "output_type": "execute_result"
    }
   ],
   "source": [
    "a // b # Quoitent"
   ]
  },
  {
   "cell_type": "code",
   "execution_count": 43,
   "id": "4f7df339-abb3-4604-a61c-8292cd794d58",
   "metadata": {},
   "outputs": [
    {
     "data": {
      "text/plain": [
       "1331"
      ]
     },
     "execution_count": 43,
     "metadata": {},
     "output_type": "execute_result"
    }
   ],
   "source": [
    "a ** b # a power b"
   ]
  },
  {
   "cell_type": "code",
   "execution_count": 45,
   "id": "c2305d99-60f7-4ff7-b3f5-d9e54486076a",
   "metadata": {},
   "outputs": [
    {
     "data": {
      "text/plain": [
       "849865"
      ]
     },
     "execution_count": 45,
     "metadata": {},
     "output_type": "execute_result"
    }
   ],
   "source": [
    "abs(-849865)"
   ]
  },
  {
   "cell_type": "code",
   "execution_count": 46,
   "id": "64f5db66-714a-4759-b763-4b9f2e2699d7",
   "metadata": {},
   "outputs": [
    {
     "data": {
      "text/plain": [
       "64565"
      ]
     },
     "execution_count": 46,
     "metadata": {},
     "output_type": "execute_result"
    }
   ],
   "source": [
    "abs(64565)"
   ]
  },
  {
   "cell_type": "code",
   "execution_count": 47,
   "id": "66b11cd3-8672-4ef3-a81a-b8a4f4e80a10",
   "metadata": {},
   "outputs": [
    {
     "data": {
      "text/plain": [
       "3.142857142857143"
      ]
     },
     "execution_count": 47,
     "metadata": {},
     "output_type": "execute_result"
    }
   ],
   "source": [
    "pi = 22 / 7\n",
    "pi"
   ]
  },
  {
   "cell_type": "code",
   "execution_count": 48,
   "id": "0e64e137-a8d6-4cac-8d7c-533d31916f53",
   "metadata": {},
   "outputs": [
    {
     "data": {
      "text/plain": [
       "3.143"
      ]
     },
     "execution_count": 48,
     "metadata": {},
     "output_type": "execute_result"
    }
   ],
   "source": [
    "round(pi, 3) # round(value_to_round, rounding_place)"
   ]
  },
  {
   "cell_type": "code",
   "execution_count": 49,
   "id": "a04a13e7-76ee-4e95-9e8f-cf8a5054e9c7",
   "metadata": {},
   "outputs": [
    {
     "data": {
      "text/plain": [
       "28"
      ]
     },
     "execution_count": 49,
     "metadata": {},
     "output_type": "execute_result"
    }
   ],
   "source": [
    "(5 + 5) * 3 - 5 + 3 # Python follows bodmas rule"
   ]
  },
  {
   "cell_type": "code",
   "execution_count": 50,
   "id": "7fd9e8b2-0486-4fbf-8c16-38fdc5a6cdcf",
   "metadata": {},
   "outputs": [
    {
     "data": {
      "text/plain": [
       "True"
      ]
     },
     "execution_count": 50,
     "metadata": {},
     "output_type": "execute_result"
    }
   ],
   "source": [
    "True and True"
   ]
  },
  {
   "cell_type": "code",
   "execution_count": 51,
   "id": "6c366a89-16ef-49a0-a16e-b2e44c9557ec",
   "metadata": {},
   "outputs": [
    {
     "data": {
      "text/plain": [
       "True"
      ]
     },
     "execution_count": 51,
     "metadata": {},
     "output_type": "execute_result"
    }
   ],
   "source": [
    "True & True"
   ]
  },
  {
   "cell_type": "code",
   "execution_count": 52,
   "id": "23ef69a6-3905-499c-af55-a4d82e17cbea",
   "metadata": {},
   "outputs": [
    {
     "data": {
      "text/plain": [
       "True"
      ]
     },
     "execution_count": 52,
     "metadata": {},
     "output_type": "execute_result"
    }
   ],
   "source": [
    "True or False"
   ]
  },
  {
   "cell_type": "code",
   "execution_count": 53,
   "id": "1baa2016-87a1-421b-bb79-07726b22f7e1",
   "metadata": {},
   "outputs": [
    {
     "data": {
      "text/plain": [
       "True"
      ]
     },
     "execution_count": 53,
     "metadata": {},
     "output_type": "execute_result"
    }
   ],
   "source": [
    "True | False"
   ]
  },
  {
   "cell_type": "code",
   "execution_count": 54,
   "id": "5c01c38a-df7b-4bcb-b6f5-b60366e84862",
   "metadata": {},
   "outputs": [
    {
     "data": {
      "text/plain": [
       "True"
      ]
     },
     "execution_count": 54,
     "metadata": {},
     "output_type": "execute_result"
    }
   ],
   "source": [
    "(True | False) and ((True & True) or (True or False))"
   ]
  },
  {
   "cell_type": "code",
   "execution_count": 55,
   "id": "56b10397-72bb-4006-91e6-ac158241a472",
   "metadata": {},
   "outputs": [
    {
     "data": {
      "text/plain": [
       "True"
      ]
     },
     "execution_count": 55,
     "metadata": {},
     "output_type": "execute_result"
    }
   ],
   "source": [
    "True | False and True & True or True or False"
   ]
  },
  {
   "cell_type": "code",
   "execution_count": 56,
   "id": "dd8d2053-02e6-4124-b9fc-c25526023ed5",
   "metadata": {},
   "outputs": [],
   "source": [
    "a = 5\n",
    "b = 7"
   ]
  },
  {
   "cell_type": "code",
   "execution_count": 58,
   "id": "4c16809c-c29b-42d0-842d-678446afe62b",
   "metadata": {},
   "outputs": [
    {
     "data": {
      "text/plain": [
       "False"
      ]
     },
     "execution_count": 58,
     "metadata": {},
     "output_type": "execute_result"
    }
   ],
   "source": [
    "a == b # a equals to b"
   ]
  },
  {
   "cell_type": "code",
   "execution_count": 59,
   "id": "679648b5-e40c-40f8-a57d-3a7ed4cd6bd8",
   "metadata": {},
   "outputs": [
    {
     "data": {
      "text/plain": [
       "False"
      ]
     },
     "execution_count": 59,
     "metadata": {},
     "output_type": "execute_result"
    }
   ],
   "source": [
    "7 > 7"
   ]
  },
  {
   "cell_type": "code",
   "execution_count": 60,
   "id": "209d169c-4bb4-4967-b99f-be37e781f76e",
   "metadata": {},
   "outputs": [
    {
     "data": {
      "text/plain": [
       "True"
      ]
     },
     "execution_count": 60,
     "metadata": {},
     "output_type": "execute_result"
    }
   ],
   "source": [
    "7 >= 7"
   ]
  },
  {
   "cell_type": "code",
   "execution_count": 61,
   "id": "1743902c-37b7-44fa-a92d-8dd983afcca7",
   "metadata": {},
   "outputs": [
    {
     "data": {
      "text/plain": [
       "True"
      ]
     },
     "execution_count": 61,
     "metadata": {},
     "output_type": "execute_result"
    }
   ],
   "source": [
    "7 <= 7"
   ]
  },
  {
   "cell_type": "code",
   "execution_count": 62,
   "id": "72ab7dcf-be93-4823-8685-2c669bf7afd2",
   "metadata": {},
   "outputs": [
    {
     "data": {
      "text/plain": [
       "True"
      ]
     },
     "execution_count": 62,
     "metadata": {},
     "output_type": "execute_result"
    }
   ],
   "source": [
    "a != b"
   ]
  },
  {
   "cell_type": "code",
   "execution_count": 63,
   "id": "94529c4c-20f5-4fb9-b0fc-16dbb0363a85",
   "metadata": {},
   "outputs": [
    {
     "data": {
      "text/plain": [
       "False"
      ]
     },
     "execution_count": 63,
     "metadata": {},
     "output_type": "execute_result"
    }
   ],
   "source": [
    "7 != 7"
   ]
  },
  {
   "cell_type": "code",
   "execution_count": 64,
   "id": "09e8eaaf-6185-4bb2-aef9-3512e1dc4278",
   "metadata": {},
   "outputs": [
    {
     "data": {
      "text/plain": [
       "True"
      ]
     },
     "execution_count": 64,
     "metadata": {},
     "output_type": "execute_result"
    }
   ],
   "source": [
    "'a' == \"a\""
   ]
  },
  {
   "cell_type": "code",
   "execution_count": 65,
   "id": "6f68f943-baef-4cc0-a58f-3a077e98aeaf",
   "metadata": {},
   "outputs": [
    {
     "data": {
      "text/plain": [
       "True"
      ]
     },
     "execution_count": 65,
     "metadata": {},
     "output_type": "execute_result"
    }
   ],
   "source": [
    "5 == 5.0"
   ]
  },
  {
   "cell_type": "code",
   "execution_count": 66,
   "id": "b30119a9-1111-47fa-afc9-739582671e61",
   "metadata": {},
   "outputs": [
    {
     "data": {
      "text/plain": [
       "0.30000000000000004"
      ]
     },
     "execution_count": 66,
     "metadata": {},
     "output_type": "execute_result"
    }
   ],
   "source": [
    "0.1 + 0.2"
   ]
  },
  {
   "cell_type": "code",
   "execution_count": 67,
   "id": "769993aa-0e90-4eca-b52d-9080b995579e",
   "metadata": {},
   "outputs": [
    {
     "data": {
      "text/plain": [
       "True"
      ]
     },
     "execution_count": 67,
     "metadata": {},
     "output_type": "execute_result"
    }
   ],
   "source": [
    "'Aa' == \"Aa\""
   ]
  },
  {
   "cell_type": "code",
   "execution_count": 68,
   "id": "119aa140-6f72-4f65-b596-f93ffe02a64e",
   "metadata": {},
   "outputs": [
    {
     "data": {
      "text/plain": [
       "True"
      ]
     },
     "execution_count": 68,
     "metadata": {},
     "output_type": "execute_result"
    }
   ],
   "source": [
    "'Aa' == 'Aa'"
   ]
  },
  {
   "cell_type": "code",
   "execution_count": 69,
   "id": "5330c9f7-fbbc-4b52-8a0a-d34c12e87f3d",
   "metadata": {},
   "outputs": [
    {
     "data": {
      "text/plain": [
       "False"
      ]
     },
     "execution_count": 69,
     "metadata": {},
     "output_type": "execute_result"
    }
   ],
   "source": [
    "'A' == 'a' # python is case sensative"
   ]
  },
  {
   "cell_type": "code",
   "execution_count": 70,
   "id": "b3455110-a9ab-41cf-bd56-e6cac40b8934",
   "metadata": {},
   "outputs": [
    {
     "data": {
      "text/plain": [
       "False"
      ]
     },
     "execution_count": 70,
     "metadata": {},
     "output_type": "execute_result"
    }
   ],
   "source": [
    "5 == '5'"
   ]
  },
  {
   "cell_type": "code",
   "execution_count": 71,
   "id": "c1d364eb-4a67-42f2-bca4-1677347e0f5e",
   "metadata": {},
   "outputs": [],
   "source": [
    "val = 'A quick brown fox'"
   ]
  },
  {
   "cell_type": "code",
   "execution_count": 72,
   "id": "3372eb4a-4a76-4553-b9b1-ec1bb4520649",
   "metadata": {},
   "outputs": [
    {
     "data": {
      "text/plain": [
       "True"
      ]
     },
     "execution_count": 72,
     "metadata": {},
     "output_type": "execute_result"
    }
   ],
   "source": [
    "'fox' in val"
   ]
  },
  {
   "cell_type": "code",
   "execution_count": 73,
   "id": "32c53771-5e69-4291-b9c4-997dca97dc0d",
   "metadata": {},
   "outputs": [
    {
     "data": {
      "text/plain": [
       "False"
      ]
     },
     "execution_count": 73,
     "metadata": {},
     "output_type": "execute_result"
    }
   ],
   "source": [
    "'Fox' in val"
   ]
  },
  {
   "cell_type": "code",
   "execution_count": 74,
   "id": "70d67ffb-3801-4c9e-9c87-fdddeaa33999",
   "metadata": {},
   "outputs": [],
   "source": [
    "query = 'Fox'\n",
    "val = 'A quick brown fox'"
   ]
  },
  {
   "cell_type": "code",
   "execution_count": 75,
   "id": "b625f0e5-4d6a-436e-8188-f047298d9799",
   "metadata": {},
   "outputs": [
    {
     "data": {
      "text/plain": [
       "'fox'"
      ]
     },
     "execution_count": 75,
     "metadata": {},
     "output_type": "execute_result"
    }
   ],
   "source": [
    "query.lower()"
   ]
  },
  {
   "cell_type": "code",
   "execution_count": 76,
   "id": "b52dd11f-be13-44b6-bcd9-4e090fef3b66",
   "metadata": {},
   "outputs": [
    {
     "data": {
      "text/plain": [
       "True"
      ]
     },
     "execution_count": 76,
     "metadata": {},
     "output_type": "execute_result"
    }
   ],
   "source": [
    "query.lower() in val.lower()"
   ]
  },
  {
   "cell_type": "code",
   "execution_count": 77,
   "id": "19afc530-1d36-447e-b399-e91bda823634",
   "metadata": {},
   "outputs": [
    {
     "data": {
      "text/plain": [
       "True"
      ]
     },
     "execution_count": 77,
     "metadata": {},
     "output_type": "execute_result"
    }
   ],
   "source": [
    "query.upper() in val.upper()"
   ]
  },
  {
   "cell_type": "code",
   "execution_count": 78,
   "id": "99e3a7f0-f32b-4873-abd2-6c9fcf29d0a4",
   "metadata": {},
   "outputs": [
    {
     "data": {
      "text/plain": [
       "'a quick brown fox'"
      ]
     },
     "execution_count": 78,
     "metadata": {},
     "output_type": "execute_result"
    }
   ],
   "source": [
    "val.upper().lower()"
   ]
  },
  {
   "cell_type": "code",
   "execution_count": 79,
   "id": "c1b0d375-772d-4a98-b5b7-67a472785e63",
   "metadata": {},
   "outputs": [],
   "source": [
    "a = 5\n",
    "b = 8\n",
    "\n",
    "a, b = 5, 8"
   ]
  },
  {
   "cell_type": "code",
   "execution_count": 80,
   "id": "184db64d-6eff-4b20-ba86-cdb6318c85d6",
   "metadata": {},
   "outputs": [
    {
     "data": {
      "text/plain": [
       "5"
      ]
     },
     "execution_count": 80,
     "metadata": {},
     "output_type": "execute_result"
    }
   ],
   "source": [
    "a"
   ]
  },
  {
   "cell_type": "code",
   "execution_count": 81,
   "id": "de74574a-2f3b-4bd1-87b3-e59ead43eeef",
   "metadata": {},
   "outputs": [
    {
     "data": {
      "text/plain": [
       "8"
      ]
     },
     "execution_count": 81,
     "metadata": {},
     "output_type": "execute_result"
    }
   ],
   "source": [
    "b"
   ]
  },
  {
   "cell_type": "code",
   "execution_count": 82,
   "id": "b3b1bfca-e557-4979-b005-37ac7f668f3a",
   "metadata": {},
   "outputs": [],
   "source": [
    "a = 'I am'\n",
    "b = 'Hungry'"
   ]
  },
  {
   "cell_type": "code",
   "execution_count": 83,
   "id": "6c68ed1d-38a3-4082-9c47-20731b2d8310",
   "metadata": {},
   "outputs": [
    {
     "data": {
      "text/plain": [
       "'I amHungry'"
      ]
     },
     "execution_count": 83,
     "metadata": {},
     "output_type": "execute_result"
    }
   ],
   "source": [
    "a + b # String concatenation"
   ]
  },
  {
   "cell_type": "code",
   "execution_count": 84,
   "id": "5444fef7-14fd-4f17-88f4-8b434084b221",
   "metadata": {},
   "outputs": [
    {
     "data": {
      "text/plain": [
       "'I am Hungry'"
      ]
     },
     "execution_count": 84,
     "metadata": {},
     "output_type": "execute_result"
    }
   ],
   "source": [
    "a + ' ' + b"
   ]
  },
  {
   "cell_type": "code",
   "execution_count": 85,
   "id": "4aecb1f6-e3ff-49aa-9a60-484cb6cb3ad7",
   "metadata": {},
   "outputs": [
    {
     "ename": "TypeError",
     "evalue": "unsupported operand type(s) for +: 'int' and 'str'",
     "output_type": "error",
     "traceback": [
      "\u001b[1;31m---------------------------------------------------------------------------\u001b[0m",
      "\u001b[1;31mTypeError\u001b[0m                                 Traceback (most recent call last)",
      "Cell \u001b[1;32mIn[85], line 1\u001b[0m\n\u001b[1;32m----> 1\u001b[0m \u001b[38;5;241;43m1\u001b[39;49m\u001b[43m \u001b[49m\u001b[38;5;241;43m+\u001b[39;49m\u001b[43m \u001b[49m\u001b[38;5;241;43m1\u001b[39;49m\u001b[43m \u001b[49m\u001b[38;5;241;43m+\u001b[39;49m\u001b[43m \u001b[49m\u001b[38;5;124;43m'\u001b[39;49m\u001b[38;5;124;43m1\u001b[39;49m\u001b[38;5;124;43m'\u001b[39;49m\n",
      "\u001b[1;31mTypeError\u001b[0m: unsupported operand type(s) for +: 'int' and 'str'"
     ]
    }
   ],
   "source": [
    "1 + 1 + '1'"
   ]
  },
  {
   "cell_type": "code",
   "execution_count": 86,
   "id": "4e954f8d-fd25-4e9f-be5d-a36c8a587f76",
   "metadata": {},
   "outputs": [
    {
     "data": {
      "text/plain": [
       "3"
      ]
     },
     "execution_count": 86,
     "metadata": {},
     "output_type": "execute_result"
    }
   ],
   "source": [
    "1 + 1 + int('1')"
   ]
  },
  {
   "cell_type": "code",
   "execution_count": 87,
   "id": "f3161a51-e190-436c-a2ab-c63965fcc7d1",
   "metadata": {},
   "outputs": [
    {
     "data": {
      "text/plain": [
       "'111'"
      ]
     },
     "execution_count": 87,
     "metadata": {},
     "output_type": "execute_result"
    }
   ],
   "source": [
    "str(1) + str(1) + '1'"
   ]
  },
  {
   "cell_type": "code",
   "execution_count": 88,
   "id": "99b223ec-0a05-408e-9a45-f5c032a16663",
   "metadata": {},
   "outputs": [
    {
     "data": {
      "text/plain": [
       "'21'"
      ]
     },
     "execution_count": 88,
     "metadata": {},
     "output_type": "execute_result"
    }
   ],
   "source": [
    "str(1 + 1) + '1'"
   ]
  },
  {
   "cell_type": "code",
   "execution_count": 89,
   "id": "2922debd-8e50-4ce1-93f7-e167a8bda72f",
   "metadata": {},
   "outputs": [
    {
     "data": {
      "text/plain": [
       "5.0"
      ]
     },
     "execution_count": 89,
     "metadata": {},
     "output_type": "execute_result"
    }
   ],
   "source": [
    "float(5)"
   ]
  },
  {
   "cell_type": "code",
   "execution_count": 90,
   "id": "9a252e9d-4d5a-4d33-b019-b05b821a389f",
   "metadata": {},
   "outputs": [
    {
     "data": {
      "text/plain": [
       "3"
      ]
     },
     "execution_count": 90,
     "metadata": {},
     "output_type": "execute_result"
    }
   ],
   "source": [
    "int(3.94512)"
   ]
  },
  {
   "cell_type": "code",
   "execution_count": 91,
   "id": "13147b1b-97a7-4ad5-bce6-4ce4d3cf1884",
   "metadata": {},
   "outputs": [],
   "source": [
    "# Traditional way\n",
    "a = 78\n",
    "b = 78\n",
    "\n",
    "a = 78\n",
    "b = a\n"
   ]
  },
  {
   "cell_type": "code",
   "execution_count": 92,
   "id": "a0a4ef2b-de9b-425d-95e3-96c31d140102",
   "metadata": {},
   "outputs": [],
   "source": [
    "# python way\n",
    "a = b = 78"
   ]
  },
  {
   "cell_type": "code",
   "execution_count": 93,
   "id": "254c5e9a-6cb8-417b-a98a-00b0e5a618c5",
   "metadata": {},
   "outputs": [
    {
     "data": {
      "text/plain": [
       "78"
      ]
     },
     "execution_count": 93,
     "metadata": {},
     "output_type": "execute_result"
    }
   ],
   "source": [
    "a"
   ]
  },
  {
   "cell_type": "code",
   "execution_count": 94,
   "id": "de45e6cf-416a-48db-bbc7-693cbb072cd8",
   "metadata": {},
   "outputs": [
    {
     "data": {
      "text/plain": [
       "78"
      ]
     },
     "execution_count": 94,
     "metadata": {},
     "output_type": "execute_result"
    }
   ],
   "source": [
    "b"
   ]
  },
  {
   "cell_type": "code",
   "execution_count": 95,
   "id": "6254984a-2830-4101-84aa-4acdbcea7559",
   "metadata": {},
   "outputs": [
    {
     "data": {
      "text/plain": [
       "589"
      ]
     },
     "execution_count": 95,
     "metadata": {},
     "output_type": "execute_result"
    }
   ],
   "source": [
    "int('589')"
   ]
  },
  {
   "cell_type": "code",
   "execution_count": 96,
   "id": "2f99f950-bbd1-4ca9-ae5b-0cf3929cce41",
   "metadata": {},
   "outputs": [
    {
     "data": {
      "text/plain": [
       "589.0"
      ]
     },
     "execution_count": 96,
     "metadata": {},
     "output_type": "execute_result"
    }
   ],
   "source": [
    "float('589')"
   ]
  },
  {
   "cell_type": "code",
   "execution_count": 97,
   "id": "afc03b56-e072-48fb-a61c-93ada49149dd",
   "metadata": {},
   "outputs": [
    {
     "ename": "ValueError",
     "evalue": "invalid literal for int() with base 10: 'gjdsiuvn'",
     "output_type": "error",
     "traceback": [
      "\u001b[1;31m---------------------------------------------------------------------------\u001b[0m",
      "\u001b[1;31mValueError\u001b[0m                                Traceback (most recent call last)",
      "Cell \u001b[1;32mIn[97], line 1\u001b[0m\n\u001b[1;32m----> 1\u001b[0m \u001b[38;5;28;43mint\u001b[39;49m\u001b[43m(\u001b[49m\u001b[38;5;124;43m'\u001b[39;49m\u001b[38;5;124;43mgjdsiuvn\u001b[39;49m\u001b[38;5;124;43m'\u001b[39;49m\u001b[43m)\u001b[49m\n",
      "\u001b[1;31mValueError\u001b[0m: invalid literal for int() with base 10: 'gjdsiuvn'"
     ]
    }
   ],
   "source": [
    "int('gjdsiuvn')"
   ]
  },
  {
   "cell_type": "code",
   "execution_count": 98,
   "id": "1511df70-5d50-4e77-867b-40dde1d8f761",
   "metadata": {},
   "outputs": [
    {
     "data": {
      "text/plain": [
       "5.4546"
      ]
     },
     "execution_count": 98,
     "metadata": {},
     "output_type": "execute_result"
    }
   ],
   "source": [
    "float('5.4546')"
   ]
  },
  {
   "cell_type": "code",
   "execution_count": null,
   "id": "978f05b2-7063-45e1-835d-ff1deff4b56f",
   "metadata": {},
   "outputs": [],
   "source": []
  }
 ],
 "metadata": {
  "kernelspec": {
   "display_name": "Python 3 (ipykernel)",
   "language": "python",
   "name": "python3"
  },
  "language_info": {
   "codemirror_mode": {
    "name": "ipython",
    "version": 3
   },
   "file_extension": ".py",
   "mimetype": "text/x-python",
   "name": "python",
   "nbconvert_exporter": "python",
   "pygments_lexer": "ipython3",
   "version": "3.10.11"
  }
 },
 "nbformat": 4,
 "nbformat_minor": 5
}
