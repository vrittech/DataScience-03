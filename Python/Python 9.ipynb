{
 "cells": [
  {
   "cell_type": "markdown",
   "id": "f8b0e62a-e36d-4e5e-a1fc-4f2551fecef8",
   "metadata": {},
   "source": [
    "# Package/Library usage in Python"
   ]
  },
  {
   "cell_type": "markdown",
   "id": "1c06e343-3d00-4038-9e4c-9089cc06cedf",
   "metadata": {},
   "source": [
    "## Random in Python"
   ]
  },
  {
   "cell_type": "code",
   "execution_count": 1,
   "id": "494d0b82-bb84-4ac9-b922-be8bf9d8a522",
   "metadata": {},
   "outputs": [],
   "source": [
    "import random"
   ]
  },
  {
   "cell_type": "code",
   "execution_count": 2,
   "id": "6ad15479-b9dd-45bd-8f11-c10387088f88",
   "metadata": {},
   "outputs": [],
   "source": [
    "random.seed(666)"
   ]
  },
  {
   "cell_type": "code",
   "execution_count": 3,
   "id": "8a893320-9cd2-4967-a9ab-35c38f3fc7cb",
   "metadata": {},
   "outputs": [
    {
     "data": {
      "text/plain": [
       "59"
      ]
     },
     "execution_count": 3,
     "metadata": {},
     "output_type": "execute_result"
    }
   ],
   "source": [
    "random.randint(1, 100)"
   ]
  },
  {
   "cell_type": "code",
   "execution_count": 4,
   "id": "0cced85d-52f0-4f44-bee1-51ccce93a602",
   "metadata": {},
   "outputs": [
    {
     "data": {
      "text/plain": [
       "[148, 155, 136, 164, 101, 170, 170, 199, 191, 142]"
      ]
     },
     "execution_count": 4,
     "metadata": {},
     "output_type": "execute_result"
    }
   ],
   "source": [
    "[random.randint(100, 200) for i in range(10)]\n",
    "# [148, 155, 136, 164, 101, 170, 170, 199, 191, 142]"
   ]
  },
  {
   "cell_type": "code",
   "execution_count": 5,
   "id": "7c5b2371-2ab9-4a45-bfba-8c71b4fb51af",
   "metadata": {},
   "outputs": [],
   "source": [
    "moves = ['up', 'down', 'left', 'right']"
   ]
  },
  {
   "cell_type": "code",
   "execution_count": 55,
   "id": "a2cb641c-93cd-4c9c-9e0e-1fe9d49757af",
   "metadata": {},
   "outputs": [
    {
     "data": {
      "text/plain": [
       "'down'"
      ]
     },
     "execution_count": 55,
     "metadata": {},
     "output_type": "execute_result"
    }
   ],
   "source": [
    "random.choice(moves) # For single choice"
   ]
  },
  {
   "cell_type": "code",
   "execution_count": 58,
   "id": "44235f54-b751-42b1-8324-3703d9f459cb",
   "metadata": {},
   "outputs": [
    {
     "data": {
      "text/plain": [
       "['left', 'down']"
      ]
     },
     "execution_count": 58,
     "metadata": {},
     "output_type": "execute_result"
    }
   ],
   "source": [
    "random.choices(moves, k=2) # for multi moves"
   ]
  },
  {
   "cell_type": "markdown",
   "id": "dbc3bc2e-01d4-4148-a378-59309bdb9ac9",
   "metadata": {},
   "source": [
    "## Permutations and Combinations\n",
    "\n",
    "* Permutation = $\\frac{N!}{(N-R)!}$\n",
    "* Combination = $\\frac{N!}{(N-R)!R!}$"
   ]
  },
  {
   "cell_type": "code",
   "execution_count": 59,
   "id": "30ec7a62-28c2-4bca-8c2a-e1055b023311",
   "metadata": {},
   "outputs": [],
   "source": [
    "from itertools import permutations, combinations"
   ]
  },
  {
   "cell_type": "code",
   "execution_count": 60,
   "id": "47907884-6d36-41f5-8d6a-6d46e4d06fac",
   "metadata": {},
   "outputs": [],
   "source": [
    "names = ['Babu Rao', 'Anuradha Mam', 'Raju', 'Shyam', 'Devi Prasad']"
   ]
  },
  {
   "cell_type": "code",
   "execution_count": 61,
   "id": "310f3518-428d-48c8-8cc6-de866a7a21c1",
   "metadata": {},
   "outputs": [],
   "source": [
    "permut_list = permutations(names, 3)"
   ]
  },
  {
   "cell_type": "code",
   "execution_count": 62,
   "id": "4eceb617-26b1-4cab-b95f-8d456e9eeabf",
   "metadata": {},
   "outputs": [
    {
     "data": {
      "text/plain": [
       "[('Babu Rao', 'Anuradha Mam', 'Raju'),\n",
       " ('Babu Rao', 'Anuradha Mam', 'Shyam'),\n",
       " ('Babu Rao', 'Anuradha Mam', 'Devi Prasad'),\n",
       " ('Babu Rao', 'Raju', 'Anuradha Mam'),\n",
       " ('Babu Rao', 'Raju', 'Shyam'),\n",
       " ('Babu Rao', 'Raju', 'Devi Prasad'),\n",
       " ('Babu Rao', 'Shyam', 'Anuradha Mam'),\n",
       " ('Babu Rao', 'Shyam', 'Raju'),\n",
       " ('Babu Rao', 'Shyam', 'Devi Prasad'),\n",
       " ('Babu Rao', 'Devi Prasad', 'Anuradha Mam'),\n",
       " ('Babu Rao', 'Devi Prasad', 'Raju'),\n",
       " ('Babu Rao', 'Devi Prasad', 'Shyam'),\n",
       " ('Anuradha Mam', 'Babu Rao', 'Raju'),\n",
       " ('Anuradha Mam', 'Babu Rao', 'Shyam'),\n",
       " ('Anuradha Mam', 'Babu Rao', 'Devi Prasad'),\n",
       " ('Anuradha Mam', 'Raju', 'Babu Rao'),\n",
       " ('Anuradha Mam', 'Raju', 'Shyam'),\n",
       " ('Anuradha Mam', 'Raju', 'Devi Prasad'),\n",
       " ('Anuradha Mam', 'Shyam', 'Babu Rao'),\n",
       " ('Anuradha Mam', 'Shyam', 'Raju'),\n",
       " ('Anuradha Mam', 'Shyam', 'Devi Prasad'),\n",
       " ('Anuradha Mam', 'Devi Prasad', 'Babu Rao'),\n",
       " ('Anuradha Mam', 'Devi Prasad', 'Raju'),\n",
       " ('Anuradha Mam', 'Devi Prasad', 'Shyam'),\n",
       " ('Raju', 'Babu Rao', 'Anuradha Mam'),\n",
       " ('Raju', 'Babu Rao', 'Shyam'),\n",
       " ('Raju', 'Babu Rao', 'Devi Prasad'),\n",
       " ('Raju', 'Anuradha Mam', 'Babu Rao'),\n",
       " ('Raju', 'Anuradha Mam', 'Shyam'),\n",
       " ('Raju', 'Anuradha Mam', 'Devi Prasad'),\n",
       " ('Raju', 'Shyam', 'Babu Rao'),\n",
       " ('Raju', 'Shyam', 'Anuradha Mam'),\n",
       " ('Raju', 'Shyam', 'Devi Prasad'),\n",
       " ('Raju', 'Devi Prasad', 'Babu Rao'),\n",
       " ('Raju', 'Devi Prasad', 'Anuradha Mam'),\n",
       " ('Raju', 'Devi Prasad', 'Shyam'),\n",
       " ('Shyam', 'Babu Rao', 'Anuradha Mam'),\n",
       " ('Shyam', 'Babu Rao', 'Raju'),\n",
       " ('Shyam', 'Babu Rao', 'Devi Prasad'),\n",
       " ('Shyam', 'Anuradha Mam', 'Babu Rao'),\n",
       " ('Shyam', 'Anuradha Mam', 'Raju'),\n",
       " ('Shyam', 'Anuradha Mam', 'Devi Prasad'),\n",
       " ('Shyam', 'Raju', 'Babu Rao'),\n",
       " ('Shyam', 'Raju', 'Anuradha Mam'),\n",
       " ('Shyam', 'Raju', 'Devi Prasad'),\n",
       " ('Shyam', 'Devi Prasad', 'Babu Rao'),\n",
       " ('Shyam', 'Devi Prasad', 'Anuradha Mam'),\n",
       " ('Shyam', 'Devi Prasad', 'Raju'),\n",
       " ('Devi Prasad', 'Babu Rao', 'Anuradha Mam'),\n",
       " ('Devi Prasad', 'Babu Rao', 'Raju'),\n",
       " ('Devi Prasad', 'Babu Rao', 'Shyam'),\n",
       " ('Devi Prasad', 'Anuradha Mam', 'Babu Rao'),\n",
       " ('Devi Prasad', 'Anuradha Mam', 'Raju'),\n",
       " ('Devi Prasad', 'Anuradha Mam', 'Shyam'),\n",
       " ('Devi Prasad', 'Raju', 'Babu Rao'),\n",
       " ('Devi Prasad', 'Raju', 'Anuradha Mam'),\n",
       " ('Devi Prasad', 'Raju', 'Shyam'),\n",
       " ('Devi Prasad', 'Shyam', 'Babu Rao'),\n",
       " ('Devi Prasad', 'Shyam', 'Anuradha Mam'),\n",
       " ('Devi Prasad', 'Shyam', 'Raju')]"
      ]
     },
     "execution_count": 62,
     "metadata": {},
     "output_type": "execute_result"
    }
   ],
   "source": [
    "permut_list = list(permut_list)\n",
    "permut_list"
   ]
  },
  {
   "cell_type": "code",
   "execution_count": 63,
   "id": "615a86e6-3e5a-47f8-9697-1c858ea52fcb",
   "metadata": {},
   "outputs": [
    {
     "data": {
      "text/plain": [
       "60"
      ]
     },
     "execution_count": 63,
     "metadata": {},
     "output_type": "execute_result"
    }
   ],
   "source": [
    "len(permut_list)"
   ]
  },
  {
   "cell_type": "code",
   "execution_count": 64,
   "id": "0580a2c2-2c7c-4d46-91b3-9174c4e13774",
   "metadata": {},
   "outputs": [],
   "source": [
    "comb_list = combinations(names, 3)"
   ]
  },
  {
   "cell_type": "code",
   "execution_count": 65,
   "id": "d9fd5612-8df8-4b78-85d3-7a9b769abdb3",
   "metadata": {},
   "outputs": [
    {
     "data": {
      "text/plain": [
       "[('Babu Rao', 'Anuradha Mam', 'Raju'),\n",
       " ('Babu Rao', 'Anuradha Mam', 'Shyam'),\n",
       " ('Babu Rao', 'Anuradha Mam', 'Devi Prasad'),\n",
       " ('Babu Rao', 'Raju', 'Shyam'),\n",
       " ('Babu Rao', 'Raju', 'Devi Prasad'),\n",
       " ('Babu Rao', 'Shyam', 'Devi Prasad'),\n",
       " ('Anuradha Mam', 'Raju', 'Shyam'),\n",
       " ('Anuradha Mam', 'Raju', 'Devi Prasad'),\n",
       " ('Anuradha Mam', 'Shyam', 'Devi Prasad'),\n",
       " ('Raju', 'Shyam', 'Devi Prasad')]"
      ]
     },
     "execution_count": 65,
     "metadata": {},
     "output_type": "execute_result"
    }
   ],
   "source": [
    "comb_list = list(comb_list)\n",
    "comb_list"
   ]
  },
  {
   "cell_type": "code",
   "execution_count": 66,
   "id": "a99fc1cf-1fbf-44ca-b21c-acf8588a5efe",
   "metadata": {},
   "outputs": [
    {
     "data": {
      "text/plain": [
       "10"
      ]
     },
     "execution_count": 66,
     "metadata": {},
     "output_type": "execute_result"
    }
   ],
   "source": [
    "len(comb_list)"
   ]
  },
  {
   "cell_type": "markdown",
   "id": "fcbfe2f3-09cb-45c3-b36a-9fe569b267e3",
   "metadata": {},
   "source": [
    "## SQL Practice"
   ]
  },
  {
   "cell_type": "code",
   "execution_count": 67,
   "id": "86dc57de-3134-456e-8b3f-4392cdd8f170",
   "metadata": {},
   "outputs": [],
   "source": [
    "import sqlite3"
   ]
  },
  {
   "cell_type": "code",
   "execution_count": 68,
   "id": "36579ccd-9709-4de1-8202-fbeed6483e00",
   "metadata": {},
   "outputs": [],
   "source": [
    "conn = sqlite3.connect('db.sqlite3')"
   ]
  },
  {
   "cell_type": "code",
   "execution_count": 69,
   "id": "3524f94c-e8c2-4b4e-bec2-1a0cbc2e1ecd",
   "metadata": {},
   "outputs": [],
   "source": [
    "cur = conn.cursor()"
   ]
  },
  {
   "cell_type": "markdown",
   "id": "1ff6f393-0afb-48a9-bfcd-685fd14bfe78",
   "metadata": {},
   "source": [
    "**Database Operations**\n",
    "* **C**: Create\n",
    "* **R**: Read\n",
    "* **U**: Update\n",
    "* **D**: Delete"
   ]
  },
  {
   "cell_type": "code",
   "execution_count": 70,
   "id": "4734855f-aacf-4b1b-88e8-7e935865b4e2",
   "metadata": {},
   "outputs": [
    {
     "data": {
      "text/plain": [
       "<sqlite3.Cursor at 0x141a41b0840>"
      ]
     },
     "execution_count": 70,
     "metadata": {},
     "output_type": "execute_result"
    }
   ],
   "source": [
    "create = \"\"\"\n",
    "CREATE TABLE IF NOT EXISTS USER(\n",
    "ID INTEGER PRIMARY KEY AUTOINCREMENT,\n",
    "NAME STRING NOT NULL,\n",
    "ADDRESS STRING NOT NULL,\n",
    "AGE INTEGER NULL,\n",
    "GENDER STRING NULL\n",
    ");\n",
    "\"\"\"\n",
    "\n",
    "cur.execute(create)"
   ]
  },
  {
   "cell_type": "code",
   "execution_count": 71,
   "id": "c4b6cdbe-b0ca-42ea-a986-48feeb1ea931",
   "metadata": {},
   "outputs": [],
   "source": [
    "read = \"SELECT * FROM USER;\" # select everything from user table\n",
    "data = cur.execute(read)"
   ]
  },
  {
   "cell_type": "code",
   "execution_count": 72,
   "id": "4e475e43-8a03-498e-927a-7a6206fac49e",
   "metadata": {},
   "outputs": [
    {
     "data": {
      "text/plain": [
       "[]"
      ]
     },
     "execution_count": 72,
     "metadata": {},
     "output_type": "execute_result"
    }
   ],
   "source": [
    "data.fetchall()"
   ]
  },
  {
   "cell_type": "code",
   "execution_count": 73,
   "id": "3543a7b0-5ef0-4c1a-9cd3-fd66c5019c6c",
   "metadata": {},
   "outputs": [
    {
     "data": {
      "text/plain": [
       "<sqlite3.Cursor at 0x141a41b0840>"
      ]
     },
     "execution_count": 73,
     "metadata": {},
     "output_type": "execute_result"
    }
   ],
   "source": [
    "update = \"\"\"\n",
    "INSERT INTO USER('NAME', 'ADDRESS', 'AGE')\n",
    "VALUES('GHANA SHYAM', 'BHAKTAPUR', 50);\n",
    "\"\"\"\n",
    "cur.execute(update)"
   ]
  },
  {
   "cell_type": "code",
   "execution_count": 74,
   "id": "c03db448-194f-45e3-9995-800f9cc3eabf",
   "metadata": {},
   "outputs": [
    {
     "data": {
      "text/plain": [
       "[(1, 'GHANA SHYAM', 'BHAKTAPUR', 50, None)]"
      ]
     },
     "execution_count": 74,
     "metadata": {},
     "output_type": "execute_result"
    }
   ],
   "source": [
    "read = \"SELECT * FROM USER;\" # select everything from user table\n",
    "data = cur.execute(read)\n",
    "data.fetchall()"
   ]
  },
  {
   "cell_type": "code",
   "execution_count": 75,
   "id": "b13c1916-a2b6-410f-ba24-ded44a676e17",
   "metadata": {},
   "outputs": [
    {
     "data": {
      "text/plain": [
       "<sqlite3.Cursor at 0x141a41b0840>"
      ]
     },
     "execution_count": 75,
     "metadata": {},
     "output_type": "execute_result"
    }
   ],
   "source": [
    "update = \"\"\"\n",
    "INSERT INTO USER('NAME', 'ADDRESS', 'AGE', 'Gender')\n",
    "VALUES('Radha Piyari', 'Lalitpur', 45, 'F'),\n",
    "      ('Mithai Lal', 'Sarlahi', 30, 'M'),\n",
    "      ('Hari Bahadur', 'Kathmandu', 55, 'M'),\n",
    "      ('Madan Bahadur', 'Kathmandu', 55, 'M');\n",
    "\"\"\"\n",
    "cur.execute(update)"
   ]
  },
  {
   "cell_type": "code",
   "execution_count": 76,
   "id": "1d3f716f-4454-4ce3-9512-016a66675c54",
   "metadata": {},
   "outputs": [
    {
     "data": {
      "text/plain": [
       "[(1, 'GHANA SHYAM', 'BHAKTAPUR', 50, None),\n",
       " (2, 'Radha Piyari', 'Lalitpur', 45, 'F'),\n",
       " (3, 'Mithai Lal', 'Sarlahi', 30, 'M'),\n",
       " (4, 'Hari Bahadur', 'Kathmandu', 55, 'M'),\n",
       " (5, 'Madan Bahadur', 'Kathmandu', 55, 'M')]"
      ]
     },
     "execution_count": 76,
     "metadata": {},
     "output_type": "execute_result"
    }
   ],
   "source": [
    "read = \"SELECT * FROM USER;\" # select everything from user table\n",
    "data = cur.execute(read)\n",
    "data.fetchall()"
   ]
  },
  {
   "cell_type": "code",
   "execution_count": 77,
   "id": "f9c0477a-7018-420f-ac79-31fa62eb76eb",
   "metadata": {},
   "outputs": [
    {
     "data": {
      "text/plain": [
       "[(4, 'Hari Bahadur', 'Kathmandu', 55, 'M'),\n",
       " (5, 'Madan Bahadur', 'Kathmandu', 55, 'M')]"
      ]
     },
     "execution_count": 77,
     "metadata": {},
     "output_type": "execute_result"
    }
   ],
   "source": [
    "read = \"SELECT * FROM USER where age > 50;\" # select everything from user table whose age > 50\n",
    "data = cur.execute(read)\n",
    "data.fetchall()"
   ]
  },
  {
   "cell_type": "code",
   "execution_count": 78,
   "id": "8de2efd1-d75a-4863-a2a3-1c4bcd191f6e",
   "metadata": {},
   "outputs": [
    {
     "data": {
      "text/plain": [
       "[('Hari Bahadur', 55, 'M'), ('Madan Bahadur', 55, 'M')]"
      ]
     },
     "execution_count": 78,
     "metadata": {},
     "output_type": "execute_result"
    }
   ],
   "source": [
    "read = \"SELECT name, age, gender FROM USER where age > 50;\" # select everything from user table whose age > 50\n",
    "data = cur.execute(read)\n",
    "data.fetchall()"
   ]
  },
  {
   "cell_type": "code",
   "execution_count": 79,
   "id": "2c3460f6-7c5a-48cb-bd1a-4f6bf6f09ed0",
   "metadata": {},
   "outputs": [
    {
     "data": {
      "text/plain": [
       "[(55, 'Hari Bahadur', 'M'), (55, 'Madan Bahadur', 'M')]"
      ]
     },
     "execution_count": 79,
     "metadata": {},
     "output_type": "execute_result"
    }
   ],
   "source": [
    "read = \"SELECT age, name,gender FROM USER where age > 50;\" # select everything from user table whose age > 50\n",
    "data = cur.execute(read)\n",
    "data.fetchall()"
   ]
  },
  {
   "cell_type": "code",
   "execution_count": 80,
   "id": "f5f00f43-c9fa-4e84-9f04-e4a8b1c1e160",
   "metadata": {},
   "outputs": [
    {
     "data": {
      "text/plain": [
       "[(50, 'GHANA SHYAM', None, 1),\n",
       " (45, 'Radha Piyari', 'F', 2),\n",
       " (30, 'Mithai Lal', 'M', 3),\n",
       " (55, 'Hari Bahadur', 'M', 4),\n",
       " (55, 'Madan Bahadur', 'M', 5)]"
      ]
     },
     "execution_count": 80,
     "metadata": {},
     "output_type": "execute_result"
    }
   ],
   "source": [
    "read = \"SELECT age, name, gender, id FROM USER;\" # select everything from user table whose age > 50\n",
    "data = cur.execute(read)\n",
    "data.fetchall()"
   ]
  },
  {
   "cell_type": "code",
   "execution_count": 82,
   "id": "c8bb429a-a9de-413a-bc29-f811957505cd",
   "metadata": {},
   "outputs": [
    {
     "data": {
      "text/plain": [
       "[(55, 'Hari Bahadur', 'M', 4), (55, 'Madan Bahadur', 'M', 5)]"
      ]
     },
     "execution_count": 82,
     "metadata": {},
     "output_type": "execute_result"
    }
   ],
   "source": [
    "read = \"SELECT age, name, gender, id FROM USER where id >= 4;\" # select everything from user table whose age > 50\n",
    "data = cur.execute(read)\n",
    "data.fetchall()"
   ]
  },
  {
   "cell_type": "code",
   "execution_count": 83,
   "id": "04157cc5-6170-4713-921a-1011a8fd3645",
   "metadata": {},
   "outputs": [
    {
     "data": {
      "text/plain": [
       "<sqlite3.Cursor at 0x141a41b0840>"
      ]
     },
     "execution_count": 83,
     "metadata": {},
     "output_type": "execute_result"
    }
   ],
   "source": [
    "delete = \"\"\"\n",
    "DELETE FROM USER WHERE ID=1;\n",
    "\"\"\"\n",
    "cur.execute(delete)"
   ]
  },
  {
   "cell_type": "code",
   "execution_count": 84,
   "id": "4a2b6d33-a829-409d-9619-d0c1094b7f6e",
   "metadata": {},
   "outputs": [
    {
     "data": {
      "text/plain": [
       "[(2, 'Radha Piyari', 'Lalitpur', 45, 'F'),\n",
       " (3, 'Mithai Lal', 'Sarlahi', 30, 'M'),\n",
       " (4, 'Hari Bahadur', 'Kathmandu', 55, 'M'),\n",
       " (5, 'Madan Bahadur', 'Kathmandu', 55, 'M')]"
      ]
     },
     "execution_count": 84,
     "metadata": {},
     "output_type": "execute_result"
    }
   ],
   "source": [
    "read = \"SELECT * FROM USER;\" # select everything from user table\n",
    "data = cur.execute(read)\n",
    "data.fetchall()"
   ]
  },
  {
   "cell_type": "code",
   "execution_count": 85,
   "id": "d3b20bd7-8950-4b99-99cf-4cde9d374f32",
   "metadata": {},
   "outputs": [],
   "source": [
    "conn.close()"
   ]
  },
  {
   "cell_type": "markdown",
   "id": "87a6cbcb-9485-45bd-96c8-c6cad131dcc5",
   "metadata": {},
   "source": [
    "# File Handling\n",
    "**File Handling Modes**\n",
    "\n",
    "* *w*: Write into files, also overrides the contents\n",
    "* *r*: Reads the file\n",
    "* *a*: Appends data into the files, will not override the existing data\n",
    "* *w+*: write and Read data, will override the existing data\n",
    "* *r+*: Read and Write data, will override the existing data\n",
    "* *a+*: Append and Read data, will not override the existing data"
   ]
  },
  {
   "cell_type": "code",
   "execution_count": 86,
   "id": "0ce32929-2da9-430b-aa7e-1afd2e2231e2",
   "metadata": {},
   "outputs": [],
   "source": [
    "file = open('file.txt', 'r')"
   ]
  },
  {
   "cell_type": "code",
   "execution_count": 88,
   "id": "9c8e7b6d-1d3f-455f-b048-d70d3d4034fb",
   "metadata": {},
   "outputs": [],
   "source": [
    "for each_file in file:\n",
    "    print(each_file)"
   ]
  },
  {
   "cell_type": "code",
   "execution_count": 89,
   "id": "0454d81b-a5f3-4aa4-8923-66a2f49cb88b",
   "metadata": {},
   "outputs": [],
   "source": [
    "message = \"\"\"\n",
    "Q: Hello, How are you doing?\n",
    "A: I am doing fine, Thank you.\n",
    "\"\"\""
   ]
  },
  {
   "cell_type": "code",
   "execution_count": 90,
   "id": "6796bf5a-d27f-45af-be84-c4377f0fe706",
   "metadata": {},
   "outputs": [],
   "source": [
    "file = open('file.txt', 'a+')"
   ]
  },
  {
   "cell_type": "code",
   "execution_count": 91,
   "id": "293b734e-cb8a-4942-9826-a41412532fc3",
   "metadata": {},
   "outputs": [
    {
     "data": {
      "text/plain": [
       "61"
      ]
     },
     "execution_count": 91,
     "metadata": {},
     "output_type": "execute_result"
    }
   ],
   "source": [
    "file.write(message)"
   ]
  },
  {
   "cell_type": "code",
   "execution_count": 92,
   "id": "0a216637-04bd-429b-ae4d-e6f68760c1a7",
   "metadata": {},
   "outputs": [],
   "source": [
    "file.close()"
   ]
  },
  {
   "cell_type": "code",
   "execution_count": 93,
   "id": "6ed6c4a0-55e0-4ed9-8be7-0fb8b7ff947c",
   "metadata": {},
   "outputs": [],
   "source": [
    "import numpy"
   ]
  },
  {
   "cell_type": "code",
   "execution_count": 94,
   "id": "80cf36d9-d7c6-4c61-ab08-a9d1cd7a79da",
   "metadata": {},
   "outputs": [
    {
     "data": {
      "text/plain": [
       "'1.23.5'"
      ]
     },
     "execution_count": 94,
     "metadata": {},
     "output_type": "execute_result"
    }
   ],
   "source": [
    "numpy.__version__"
   ]
  },
  {
   "cell_type": "code",
   "execution_count": 95,
   "id": "080acd98-e3a3-4d65-81fc-b2cc4bf3005d",
   "metadata": {},
   "outputs": [
    {
     "data": {
      "text/plain": [
       "'2.0.3'"
      ]
     },
     "execution_count": 95,
     "metadata": {},
     "output_type": "execute_result"
    }
   ],
   "source": [
    "import pandas\n",
    "pandas.__version__"
   ]
  },
  {
   "cell_type": "code",
   "execution_count": 96,
   "id": "def78697-2f20-4cd4-87b5-a18c1b57c061",
   "metadata": {},
   "outputs": [],
   "source": [
    "import matplotlib"
   ]
  },
  {
   "cell_type": "code",
   "execution_count": null,
   "id": "1fdfde03-858f-4d23-bd49-c1d8f3d495d1",
   "metadata": {},
   "outputs": [],
   "source": []
  }
 ],
 "metadata": {
  "kernelspec": {
   "display_name": "Python 3 (ipykernel)",
   "language": "python",
   "name": "python3"
  },
  "language_info": {
   "codemirror_mode": {
    "name": "ipython",
    "version": 3
   },
   "file_extension": ".py",
   "mimetype": "text/x-python",
   "name": "python",
   "nbconvert_exporter": "python",
   "pygments_lexer": "ipython3",
   "version": "3.10.11"
  }
 },
 "nbformat": 4,
 "nbformat_minor": 5
}
