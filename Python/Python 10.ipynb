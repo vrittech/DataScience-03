{
 "cells": [
  {
   "cell_type": "code",
   "execution_count": 1,
   "id": "32972656-fbf7-4106-9f28-afe49f36c7cc",
   "metadata": {},
   "outputs": [],
   "source": [
    "class Player:\n",
    "    def __init__(self, name, char):\n",
    "        self.name = name\n",
    "        self.char = char\n",
    "    def new_game(self, ):\n",
    "        print(f'{self.name} is {self.char}')\n",
    "    def winner(self, ):\n",
    "        print(f'{self.name} is winner')\n",
    "    def make_move(self,):\n",
    "        move = input('Enter your move: ')\n",
    "        return int(move)\n",
    "    "
   ]
  },
  {
   "cell_type": "code",
   "execution_count": 2,
   "id": "35a4679e-d975-4d45-b58b-3fd770cd3210",
   "metadata": {},
   "outputs": [],
   "source": [
    "board = [' '] * 9\n",
    "board[3] = 89\n",
    "board[6] = 76"
   ]
  },
  {
   "cell_type": "code",
   "execution_count": 3,
   "id": "cf454ad6-4d98-4ccc-ad1d-711f6dab3218",
   "metadata": {},
   "outputs": [
    {
     "data": {
      "text/plain": [
       "[' ', ' ', ' ', 89, ' ', ' ', 76, ' ', ' ']"
      ]
     },
     "execution_count": 3,
     "metadata": {},
     "output_type": "execute_result"
    }
   ],
   "source": [
    "board"
   ]
  },
  {
   "cell_type": "code",
   "execution_count": 4,
   "id": "a0a81bba-36b5-4da7-81c9-a58bcff6ced1",
   "metadata": {},
   "outputs": [
    {
     "data": {
      "text/plain": [
       "[' ', ' ', ' ', ' ', ' ', ' ', ' ']"
      ]
     },
     "execution_count": 4,
     "metadata": {},
     "output_type": "execute_result"
    }
   ],
   "source": [
    "[x for x in board if x == ' ']"
   ]
  },
  {
   "cell_type": "code",
   "execution_count": 5,
   "id": "21b6b556-34fa-4a41-8815-71b251203cf0",
   "metadata": {},
   "outputs": [],
   "source": [
    "import random"
   ]
  },
  {
   "cell_type": "code",
   "execution_count": 6,
   "id": "6f4efc14-8cf0-402e-be8d-c4760ee264c6",
   "metadata": {},
   "outputs": [],
   "source": [
    "class TicTacToe:\n",
    "    def __init__(self, player1, player2):\n",
    "        self.player1 = player1\n",
    "        self.player2 = player2\n",
    "        self.board = [' '] * 9\n",
    "        self.player1_turn = random.choice([True, False])\n",
    "\n",
    "    def print_board(self, ):\n",
    "        b = self.board\n",
    "        board = f\"\"\"\n",
    "        {b[0]} | {b[1]} | {b[2]}\n",
    "        ----------\n",
    "        {b[3]} | {b[4]} | {b[5]}\n",
    "        ----------\n",
    "        {b[6]} | {b[7]} | {b[8]}\n",
    "        \"\"\"\n",
    "        print(board)\n",
    "    def check_winner(self, char):\n",
    "        b = self.board\n",
    "        winner = False\n",
    "        conditions = (\n",
    "            (0, 1, 2), (3, 4, 5), (6, 7, 8),\n",
    "            (0, 3, 6), (1, 4, 7), (2, 5, 8),\n",
    "            (0, 4, 8), (2, 4, 6)\n",
    "        )\n",
    "        for each_condition in conditions:\n",
    "            i1, i2, i3 = each_condition # (2, 4, 6)\n",
    "            # i1, i2, i3 = each_condition[0], each_condition[1], each_condition[2] # above and this method are same\n",
    "            if char == b[i1] == b[i2] == b[i3]:\n",
    "                winner = True\n",
    "                break\n",
    "        return winner\n",
    "    def check_full(self, ):\n",
    "        emptys = [x for x in self.board if x == ' ']\n",
    "        if len(emptys) == 0:\n",
    "            return True\n",
    "        return False\n",
    "\n",
    "    def play(self,):\n",
    "        self.player1.new_game()\n",
    "        self.player2.new_game()\n",
    "        while True:\n",
    "            # Check Turn\n",
    "            if self.player1_turn:\n",
    "                player = self.player1\n",
    "            else:\n",
    "                player = self.player2\n",
    "            # Ask for move\n",
    "            print(f'{player.name} Turn')\n",
    "            self.print_board()\n",
    "            move = player.make_move()\n",
    "            # Check Valid\n",
    "            if move < 0 or move > 8:\n",
    "                print('Invalid move, Out of Range!!')\n",
    "                continue\n",
    "            if self.board[move] != ' ':\n",
    "                print('Invalid move, Space Already Filled!!')\n",
    "                continue\n",
    "            # Put char\n",
    "            self.board[move] = player.char\n",
    "            # Check Win\n",
    "            win = self.check_winner(player.char)\n",
    "            if win:\n",
    "                self.print_board()\n",
    "                player.winner()\n",
    "                break\n",
    "            # Check Full(draw)\n",
    "            full = self.check_full()\n",
    "            if full:\n",
    "                print('Game ended as draw')\n",
    "                self.print_board()\n",
    "                break\n",
    "            # Swap Turn\n",
    "            self.player1_turn = not self.player1_turn\n",
    "        "
   ]
  },
  {
   "cell_type": "code",
   "execution_count": 7,
   "id": "91e9d648-d6a4-45b5-b6c5-c8139bfa982d",
   "metadata": {},
   "outputs": [],
   "source": [
    "p1 = Player('Kaji Saap', 'K')\n",
    "p2 = Player('Maii Saap', 'M')"
   ]
  },
  {
   "cell_type": "code",
   "execution_count": 8,
   "id": "a1e94302-43da-42b6-80de-467dbcbaa815",
   "metadata": {},
   "outputs": [
    {
     "name": "stdout",
     "output_type": "stream",
     "text": [
      "Kaji Saap is K\n",
      "Maii Saap is M\n",
      "Kaji Saap Turn\n",
      "\n",
      "          |   |  \n",
      "        ----------\n",
      "          |   |  \n",
      "        ----------\n",
      "          |   |  \n",
      "        \n"
     ]
    },
    {
     "name": "stdin",
     "output_type": "stream",
     "text": [
      "Enter your move:  5\n"
     ]
    },
    {
     "name": "stdout",
     "output_type": "stream",
     "text": [
      "Maii Saap Turn\n",
      "\n",
      "          |   |  \n",
      "        ----------\n",
      "          |   | K\n",
      "        ----------\n",
      "          |   |  \n",
      "        \n"
     ]
    },
    {
     "name": "stdin",
     "output_type": "stream",
     "text": [
      "Enter your move:  4\n"
     ]
    },
    {
     "name": "stdout",
     "output_type": "stream",
     "text": [
      "Kaji Saap Turn\n",
      "\n",
      "          |   |  \n",
      "        ----------\n",
      "          | M | K\n",
      "        ----------\n",
      "          |   |  \n",
      "        \n"
     ]
    },
    {
     "name": "stdin",
     "output_type": "stream",
     "text": [
      "Enter your move:  4\n"
     ]
    },
    {
     "name": "stdout",
     "output_type": "stream",
     "text": [
      "Invalid move, Space Already Filled!!\n",
      "Kaji Saap Turn\n",
      "\n",
      "          |   |  \n",
      "        ----------\n",
      "          | M | K\n",
      "        ----------\n",
      "          |   |  \n",
      "        \n"
     ]
    },
    {
     "name": "stdin",
     "output_type": "stream",
     "text": [
      "Enter your move:  3\n"
     ]
    },
    {
     "name": "stdout",
     "output_type": "stream",
     "text": [
      "Maii Saap Turn\n",
      "\n",
      "          |   |  \n",
      "        ----------\n",
      "        K | M | K\n",
      "        ----------\n",
      "          |   |  \n",
      "        \n"
     ]
    },
    {
     "name": "stdin",
     "output_type": "stream",
     "text": [
      "Enter your move:  0\n"
     ]
    },
    {
     "name": "stdout",
     "output_type": "stream",
     "text": [
      "Kaji Saap Turn\n",
      "\n",
      "        M |   |  \n",
      "        ----------\n",
      "        K | M | K\n",
      "        ----------\n",
      "          |   |  \n",
      "        \n"
     ]
    },
    {
     "name": "stdin",
     "output_type": "stream",
     "text": [
      "Enter your move:  8\n"
     ]
    },
    {
     "name": "stdout",
     "output_type": "stream",
     "text": [
      "Maii Saap Turn\n",
      "\n",
      "        M |   |  \n",
      "        ----------\n",
      "        K | M | K\n",
      "        ----------\n",
      "          |   | K\n",
      "        \n"
     ]
    },
    {
     "name": "stdin",
     "output_type": "stream",
     "text": [
      "Enter your move:  2\n"
     ]
    },
    {
     "name": "stdout",
     "output_type": "stream",
     "text": [
      "Kaji Saap Turn\n",
      "\n",
      "        M |   | M\n",
      "        ----------\n",
      "        K | M | K\n",
      "        ----------\n",
      "          |   | K\n",
      "        \n"
     ]
    },
    {
     "name": "stdin",
     "output_type": "stream",
     "text": [
      "Enter your move:  6\n"
     ]
    },
    {
     "name": "stdout",
     "output_type": "stream",
     "text": [
      "Maii Saap Turn\n",
      "\n",
      "        M |   | M\n",
      "        ----------\n",
      "        K | M | K\n",
      "        ----------\n",
      "        K |   | K\n",
      "        \n"
     ]
    },
    {
     "name": "stdin",
     "output_type": "stream",
     "text": [
      "Enter your move:  7\n"
     ]
    },
    {
     "name": "stdout",
     "output_type": "stream",
     "text": [
      "Kaji Saap Turn\n",
      "\n",
      "        M |   | M\n",
      "        ----------\n",
      "        K | M | K\n",
      "        ----------\n",
      "        K | M | K\n",
      "        \n"
     ]
    },
    {
     "name": "stdin",
     "output_type": "stream",
     "text": [
      "Enter your move:  1\n"
     ]
    },
    {
     "name": "stdout",
     "output_type": "stream",
     "text": [
      "Game ended as draw\n",
      "\n",
      "        M | K | M\n",
      "        ----------\n",
      "        K | M | K\n",
      "        ----------\n",
      "        K | M | K\n",
      "        \n"
     ]
    }
   ],
   "source": [
    "game = TicTacToe(p1, p2)\n",
    "game.play()"
   ]
  }
 ],
 "metadata": {
  "kernelspec": {
   "display_name": "Python 3 (ipykernel)",
   "language": "python",
   "name": "python3"
  },
  "language_info": {
   "codemirror_mode": {
    "name": "ipython",
    "version": 3
   },
   "file_extension": ".py",
   "mimetype": "text/x-python",
   "name": "python",
   "nbconvert_exporter": "python",
   "pygments_lexer": "ipython3",
   "version": "3.10.11"
  }
 },
 "nbformat": 4,
 "nbformat_minor": 5
}
