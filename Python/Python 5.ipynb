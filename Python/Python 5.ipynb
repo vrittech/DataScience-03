{
 "cells": [
  {
   "cell_type": "markdown",
   "id": "28f06da9-2763-4c49-8893-0cd935d3149a",
   "metadata": {},
   "source": [
    "# Fizz Buzz Problem\n",
    "* Generate a series of number fom 1 to 20\n",
    "```python\n",
    "if div(3):\n",
    "    print('Fizz')\n",
    "if div(5):\n",
    "    print('Buzz')\n",
    "if div(3) and div(5):\n",
    "    print('Fizz-Buzz')\n",
    "elsewise:\n",
    "    print(number)\n",
    "```"
   ]
  },
  {
   "cell_type": "code",
   "execution_count": 3,
   "id": "4e8cd94c-bec2-4b1f-b24a-93bee78eb364",
   "metadata": {},
   "outputs": [
    {
     "name": "stdout",
     "output_type": "stream",
     "text": [
      "1\n",
      "2\n",
      "Fizz\n",
      "4\n",
      "Buzz\n",
      "Fizz\n",
      "7\n",
      "8\n",
      "Fizz\n",
      "Buzz\n",
      "11\n",
      "Fizz\n",
      "13\n",
      "14\n",
      "Fizz-Buzz\n",
      "16\n",
      "17\n",
      "Fizz\n",
      "19\n",
      "Buzz\n"
     ]
    }
   ],
   "source": [
    "for i in range(1, 21):\n",
    "    if (i % 5 == 0) and (i % 3 == 0):\n",
    "        print('Fizz-Buzz')\n",
    "    elif i % 3 == 0:\n",
    "        print('Fizz')\n",
    "    elif i % 5 == 0:\n",
    "        print('Buzz')\n",
    "    else:\n",
    "        print(i)"
   ]
  },
  {
   "cell_type": "markdown",
   "id": "0b1a7960-5ce9-4b8f-8df3-f39f12e63e86",
   "metadata": {},
   "source": [
    "# Program to print a Pattern\n",
    "\n",
    "```\n",
    "#\n",
    "# #\n",
    "# # #\n",
    "# # # #\n",
    "# # # # #\n",
    "```"
   ]
  },
  {
   "cell_type": "code",
   "execution_count": 4,
   "id": "aa37549e-66f2-46f1-ad84-ccb14cf97c79",
   "metadata": {},
   "outputs": [
    {
     "data": {
      "text/plain": [
       "'ding ding ding ding ding '"
      ]
     },
     "execution_count": 4,
     "metadata": {},
     "output_type": "execute_result"
    }
   ],
   "source": [
    "'ding ' * 5"
   ]
  },
  {
   "cell_type": "code",
   "execution_count": 5,
   "id": "e5050488-c61c-4bf9-9982-c413adbd6162",
   "metadata": {},
   "outputs": [
    {
     "name": "stdout",
     "output_type": "stream",
     "text": [
      "# \n",
      "# # \n",
      "# # # \n",
      "# # # # \n",
      "# # # # # \n"
     ]
    }
   ],
   "source": [
    "for i in range(5):\n",
    "    pat = '# ' * (i + 1)\n",
    "    print(pat)"
   ]
  },
  {
   "cell_type": "code",
   "execution_count": 6,
   "id": "22818ffa-227b-4fa8-9e6c-c6f9334b8708",
   "metadata": {},
   "outputs": [
    {
     "name": "stdout",
     "output_type": "stream",
     "text": [
      "# \n",
      "# # \n",
      "# # # \n",
      "# # # # \n",
      "# # # # # \n"
     ]
    }
   ],
   "source": [
    "i = 0\n",
    "while i < 5:\n",
    "    pat = '# ' * (i+1)\n",
    "    print(pat)\n",
    "    i += 1"
   ]
  },
  {
   "cell_type": "markdown",
   "id": "c472a3c5-a60d-47ff-b37d-3ff1885b0151",
   "metadata": {},
   "source": [
    "# Program to indentify whether the number is odd or not."
   ]
  },
  {
   "cell_type": "code",
   "execution_count": 8,
   "id": "f39f9bcf-d37d-4753-a706-0a60ecfefb7b",
   "metadata": {},
   "outputs": [
    {
     "name": "stdin",
     "output_type": "stream",
     "text": [
      "Enter a number:  24\n"
     ]
    },
    {
     "name": "stdout",
     "output_type": "stream",
     "text": [
      "24 is even\n"
     ]
    }
   ],
   "source": [
    "number = input('Enter a number: ')\n",
    "number = int(number)\n",
    "\n",
    "if number % 2 == 0:\n",
    "    print(f'{number} is even')\n",
    "else:\n",
    "    print(f'{number} is odd')"
   ]
  },
  {
   "cell_type": "markdown",
   "id": "aa2d69bb-ac9b-45cc-9e04-941b35429e41",
   "metadata": {},
   "source": [
    "# Swap the value of two variables"
   ]
  },
  {
   "cell_type": "code",
   "execution_count": 9,
   "id": "cfbe9609-9ed9-4ba4-a733-5176762e6e39",
   "metadata": {},
   "outputs": [
    {
     "name": "stdout",
     "output_type": "stream",
     "text": [
      "Before Swap: a = 45, b = 12\n",
      "After Swap: a = 12, b = 45\n"
     ]
    }
   ],
   "source": [
    "# Traditional way\n",
    "a = 45\n",
    "b = 12\n",
    "\n",
    "print(f'Before Swap: a = {a}, b = {b}')\n",
    "c = a\n",
    "a = b\n",
    "b = c\n",
    "print(f'After Swap: a = {a}, b = {b}')\n"
   ]
  },
  {
   "cell_type": "code",
   "execution_count": 10,
   "id": "421590cd-63f5-45fd-871f-45dccd140f75",
   "metadata": {},
   "outputs": [
    {
     "name": "stdout",
     "output_type": "stream",
     "text": [
      "Before Swap: a = 45, b = 12\n",
      "After Swap: a = 12, b = 45\n"
     ]
    }
   ],
   "source": [
    "# Python way\n",
    "a = 45\n",
    "b = 12\n",
    "print(f'Before Swap: a = {a}, b = {b}')\n",
    "a, b = b, a\n",
    "print(f'After Swap: a = {a}, b = {b}')"
   ]
  },
  {
   "cell_type": "markdown",
   "id": "0edeff55-df46-4ca1-a728-f352a3913b5a",
   "metadata": {},
   "source": [
    "# Ask user for some message, keep an asking until user says 'please' in their mesage."
   ]
  },
  {
   "cell_type": "code",
   "execution_count": 13,
   "id": "1fd5118a-0227-463e-8772-1969944b31ef",
   "metadata": {},
   "outputs": [
    {
     "name": "stdin",
     "output_type": "stream",
     "text": [
      "Enter your message:  can you dop this?\n"
     ]
    },
    {
     "name": "stdout",
     "output_type": "stream",
     "text": [
      "Please say the magic word!!\n"
     ]
    },
    {
     "name": "stdin",
     "output_type": "stream",
     "text": [
      "Enter your message:  can you do this for me please?\n"
     ]
    },
    {
     "name": "stdout",
     "output_type": "stream",
     "text": [
      "Thank you Very much\n"
     ]
    }
   ],
   "source": [
    "while True:\n",
    "    message = input('Enter your message: ')\n",
    "    if 'please' in message.lower():\n",
    "        print('Thank you Very much')\n",
    "        break\n",
    "    print('Please say the magic word!!')"
   ]
  },
  {
   "cell_type": "markdown",
   "id": "09e93fad-de1a-45a5-958a-ef597bf97a24",
   "metadata": {},
   "source": [
    "# Program to count the number of each vowel characters in given string"
   ]
  },
  {
   "cell_type": "code",
   "execution_count": 14,
   "id": "38a591f8-38f8-49e8-82b4-5c9a9a2ecdf9",
   "metadata": {},
   "outputs": [
    {
     "name": "stdin",
     "output_type": "stream",
     "text": [
      "Enter your message:  I am feeling very hungry.\n"
     ]
    }
   ],
   "source": [
    "message = input('Enter your message: ')"
   ]
  },
  {
   "cell_type": "code",
   "execution_count": 19,
   "id": "58436462-fd66-4d45-bfd6-6ff86e10201c",
   "metadata": {},
   "outputs": [],
   "source": [
    "counts = {\n",
    "    'a': 0,\n",
    "    'e': 0,\n",
    "    'i': 0,\n",
    "    'o': 0,\n",
    "    'u': 0\n",
    "}\n",
    "# Traditional way 1\n",
    "for each_char in message.lower():\n",
    "    # print(each_char)\n",
    "    if each_char in counts.keys():\n",
    "        counts[each_char] += 1"
   ]
  },
  {
   "cell_type": "code",
   "execution_count": 20,
   "id": "3366ea39-2404-4c33-9346-e96a81a4f295",
   "metadata": {},
   "outputs": [
    {
     "data": {
      "text/plain": [
       "{'a': 1, 'e': 3, 'i': 2, 'o': 0, 'u': 1}"
      ]
     },
     "execution_count": 20,
     "metadata": {},
     "output_type": "execute_result"
    }
   ],
   "source": [
    "counts"
   ]
  },
  {
   "cell_type": "code",
   "execution_count": 21,
   "id": "95ef6725-dbae-4464-8711-eaa28b8340df",
   "metadata": {},
   "outputs": [
    {
     "data": {
      "text/plain": [
       "25"
      ]
     },
     "execution_count": 21,
     "metadata": {},
     "output_type": "execute_result"
    }
   ],
   "source": [
    "len(message)"
   ]
  },
  {
   "cell_type": "code",
   "execution_count": 24,
   "id": "ddfcd6ca-bc3d-4c8d-9072-1d7bb6e392be",
   "metadata": {},
   "outputs": [],
   "source": [
    "counts = {\n",
    "    'a': 0,\n",
    "    'e': 0,\n",
    "    'i': 0,\n",
    "    'o': 0,\n",
    "    'u': 0\n",
    "}\n",
    "\n",
    "# Traditional way 2\n",
    "for vowel in counts.keys():\n",
    "    # print(vowel)\n",
    "    counts[vowel] = message.lower().count(vowel)"
   ]
  },
  {
   "cell_type": "code",
   "execution_count": 25,
   "id": "d576f6bc-9b00-4e29-b34e-ebec577115bc",
   "metadata": {},
   "outputs": [
    {
     "data": {
      "text/plain": [
       "{'a': 1, 'e': 3, 'i': 2, 'o': 0, 'u': 1}"
      ]
     },
     "execution_count": 25,
     "metadata": {},
     "output_type": "execute_result"
    }
   ],
   "source": [
    "counts"
   ]
  },
  {
   "cell_type": "code",
   "execution_count": 28,
   "id": "f58674d4-02f3-4d13-8887-e6cfc1ca7365",
   "metadata": {},
   "outputs": [
    {
     "data": {
      "text/plain": [
       "dict_keys(['a', 'e', 'i', 'o', 'u'])"
      ]
     },
     "execution_count": 28,
     "metadata": {},
     "output_type": "execute_result"
    }
   ],
   "source": [
    "counts.keys()"
   ]
  },
  {
   "cell_type": "code",
   "execution_count": 27,
   "id": "f09b1952-8354-4bfd-adae-28b1019d3154",
   "metadata": {},
   "outputs": [
    {
     "name": "stdout",
     "output_type": "stream",
     "text": [
      "Tracking a\n",
      "Tracking e\n",
      "Tracking i\n",
      "Tracking o\n",
      "Tracking u\n"
     ]
    }
   ],
   "source": [
    "for vowel in counts.keys():\n",
    "    print(f'Tracking {vowel}')"
   ]
  },
  {
   "cell_type": "markdown",
   "id": "9096100c-7f78-4d50-9241-92f374a5e3b0",
   "metadata": {},
   "source": [
    "# Program to count all the characters in the given string"
   ]
  },
  {
   "cell_type": "code",
   "execution_count": 29,
   "id": "f34f2daa-53a6-4fc1-90a7-13ac37ef95ac",
   "metadata": {},
   "outputs": [
    {
     "name": "stdin",
     "output_type": "stream",
     "text": [
      "Enter your message:  Hello, I am feeling very sleepy.\n"
     ]
    }
   ],
   "source": [
    "message = input('Enter your message: ')\n",
    "message = message.lower()"
   ]
  },
  {
   "cell_type": "code",
   "execution_count": 30,
   "id": "4c2b5d1c-b9e6-46d5-a3c2-571ef4da7965",
   "metadata": {},
   "outputs": [],
   "source": [
    "# Python way\n",
    "from collections import Counter"
   ]
  },
  {
   "cell_type": "code",
   "execution_count": 31,
   "id": "9a51c279-5109-4f82-9859-87fbaf199218",
   "metadata": {},
   "outputs": [
    {
     "data": {
      "text/plain": [
       "Counter({'e': 6,\n",
       "         ' ': 5,\n",
       "         'l': 4,\n",
       "         'i': 2,\n",
       "         'y': 2,\n",
       "         'h': 1,\n",
       "         'o': 1,\n",
       "         ',': 1,\n",
       "         'a': 1,\n",
       "         'm': 1,\n",
       "         'f': 1,\n",
       "         'n': 1,\n",
       "         'g': 1,\n",
       "         'v': 1,\n",
       "         'r': 1,\n",
       "         's': 1,\n",
       "         'p': 1,\n",
       "         '.': 1})"
      ]
     },
     "execution_count": 31,
     "metadata": {},
     "output_type": "execute_result"
    }
   ],
   "source": [
    "Counter(message)"
   ]
  },
  {
   "cell_type": "markdown",
   "id": "6d3afc83-6ef0-4be0-bcc5-bf22f765e737",
   "metadata": {},
   "source": [
    "# Program to find the sum of first 'N' whole numbers"
   ]
  },
  {
   "cell_type": "code",
   "execution_count": 36,
   "id": "a0fb4ba9-2d23-46fd-9a24-473e94a9a2de",
   "metadata": {},
   "outputs": [
    {
     "name": "stdout",
     "output_type": "stream",
     "text": [
      "50005000.0\n"
     ]
    }
   ],
   "source": [
    "# fastest way\n",
    "n = 10000\n",
    "sum_upto_n = n * (n+1) / 2\n",
    "print(sum_upto_n)"
   ]
  },
  {
   "cell_type": "code",
   "execution_count": 37,
   "id": "a67a6535-33fb-48ed-beac-784c2585137a",
   "metadata": {},
   "outputs": [],
   "source": [
    "# using loop\n",
    "sum_upto_n = 0\n",
    "for i in range(1, n+1):\n",
    "    sum_upto_n += i"
   ]
  },
  {
   "cell_type": "code",
   "execution_count": 38,
   "id": "1b02bab9-7ae5-4295-95a2-91ea0696d6b5",
   "metadata": {},
   "outputs": [
    {
     "data": {
      "text/plain": [
       "50005000"
      ]
     },
     "execution_count": 38,
     "metadata": {},
     "output_type": "execute_result"
    }
   ],
   "source": [
    "sum_upto_n"
   ]
  },
  {
   "cell_type": "markdown",
   "id": "9d24428f-9714-4713-a8e6-fac3a7e0e2fe",
   "metadata": {},
   "source": [
    "# Create a list where it's elements are square of it's index\n",
    "\n",
    "```python\n",
    "[0, 1, 4, 9, 16, 25, 36]\n",
    "```"
   ]
  },
  {
   "cell_type": "code",
   "execution_count": 44,
   "id": "e959f0b9-062d-48a3-8271-be99f29d918b",
   "metadata": {},
   "outputs": [],
   "source": [
    "# Traditional Way\n",
    "l1 = []\n",
    "for i in range(7):\n",
    "    l1.append(i * i)"
   ]
  },
  {
   "cell_type": "code",
   "execution_count": 45,
   "id": "b8c035fd-a85d-4fb3-aa90-541d3ada848b",
   "metadata": {},
   "outputs": [
    {
     "data": {
      "text/plain": [
       "[0, 1, 4, 9, 16, 25, 36]"
      ]
     },
     "execution_count": 45,
     "metadata": {},
     "output_type": "execute_result"
    }
   ],
   "source": [
    "l1"
   ]
  },
  {
   "cell_type": "code",
   "execution_count": 46,
   "id": "da8f775b-b85c-483d-9c9c-bbb1c1cc56a8",
   "metadata": {},
   "outputs": [
    {
     "data": {
      "text/plain": [
       "[0, 1, 4, 9, 16, 25, 36]"
      ]
     },
     "execution_count": 46,
     "metadata": {},
     "output_type": "execute_result"
    }
   ],
   "source": [
    "# Python Way (list comprenhension)\n",
    "[i * i for i in range(7)]"
   ]
  },
  {
   "cell_type": "code",
   "execution_count": null,
   "id": "592d0477-b8e4-4132-a26f-552f34ea1315",
   "metadata": {},
   "outputs": [],
   "source": []
  }
 ],
 "metadata": {
  "kernelspec": {
   "display_name": "Python 3 (ipykernel)",
   "language": "python",
   "name": "python3"
  },
  "language_info": {
   "codemirror_mode": {
    "name": "ipython",
    "version": 3
   },
   "file_extension": ".py",
   "mimetype": "text/x-python",
   "name": "python",
   "nbconvert_exporter": "python",
   "pygments_lexer": "ipython3",
   "version": "3.10.11"
  }
 },
 "nbformat": 4,
 "nbformat_minor": 5
}
