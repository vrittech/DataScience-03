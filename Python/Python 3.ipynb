{
 "cells": [
  {
   "cell_type": "markdown",
   "id": "fa6cc782-c6fc-4ff5-bff0-292bc1e6365d",
   "metadata": {},
   "source": [
    "# String Manipulation"
   ]
  },
  {
   "cell_type": "code",
   "execution_count": 1,
   "id": "99c84b7d-a594-4b6d-9b55-6c9a5dbe93a6",
   "metadata": {},
   "outputs": [],
   "source": [
    "s = 'Hello from the other side.'"
   ]
  },
  {
   "cell_type": "code",
   "execution_count": 2,
   "id": "c6e022f3-abf5-4f04-b7a0-08993a213b7d",
   "metadata": {},
   "outputs": [
    {
     "data": {
      "text/plain": [
       "True"
      ]
     },
     "execution_count": 2,
     "metadata": {},
     "output_type": "execute_result"
    }
   ],
   "source": [
    "'llo f' in s"
   ]
  },
  {
   "cell_type": "code",
   "execution_count": 3,
   "id": "8c03fcdc-a329-402a-91f4-76ccfc2b95e9",
   "metadata": {},
   "outputs": [
    {
     "data": {
      "text/plain": [
       "'o'"
      ]
     },
     "execution_count": 3,
     "metadata": {},
     "output_type": "execute_result"
    }
   ],
   "source": [
    "s[4]"
   ]
  },
  {
   "cell_type": "code",
   "execution_count": 4,
   "id": "a5b6c942-6fa5-435d-a94c-1c2bf6a6fc6d",
   "metadata": {},
   "outputs": [
    {
     "data": {
      "text/plain": [
       "'l ot h d'"
      ]
     },
     "execution_count": 4,
     "metadata": {},
     "output_type": "execute_result"
    }
   ],
   "source": [
    "s[2: : 3]"
   ]
  },
  {
   "cell_type": "code",
   "execution_count": 5,
   "id": "4c9715ec-8797-4605-b31a-2fa4e1a63fb9",
   "metadata": {},
   "outputs": [
    {
     "data": {
      "text/plain": [
       "'.edis rehto eht morf olleH'"
      ]
     },
     "execution_count": 5,
     "metadata": {},
     "output_type": "execute_result"
    }
   ],
   "source": [
    "s[::-1]"
   ]
  },
  {
   "cell_type": "code",
   "execution_count": 6,
   "id": "702bf4f0-8ef4-4f27-b206-1f8166c1f627",
   "metadata": {},
   "outputs": [
    {
     "data": {
      "text/plain": [
       "['Hello', 'from', 'the', 'other', 'side.']"
      ]
     },
     "execution_count": 6,
     "metadata": {},
     "output_type": "execute_result"
    }
   ],
   "source": [
    "s.split()"
   ]
  },
  {
   "cell_type": "code",
   "execution_count": 7,
   "id": "90b9a5fb-fd37-4ae4-bb95-4ceea30ef2be",
   "metadata": {},
   "outputs": [
    {
     "data": {
      "text/plain": [
       "['Hello from ', 'he o', 'her side.']"
      ]
     },
     "execution_count": 7,
     "metadata": {},
     "output_type": "execute_result"
    }
   ],
   "source": [
    "s.split('t')"
   ]
  },
  {
   "cell_type": "code",
   "execution_count": 8,
   "id": "f87e0eba-3630-4ea3-9176-0e9bdfb8066e",
   "metadata": {},
   "outputs": [
    {
     "data": {
      "text/plain": [
       "['He', '', 'o from the other side.']"
      ]
     },
     "execution_count": 8,
     "metadata": {},
     "output_type": "execute_result"
    }
   ],
   "source": [
    "s.split('l')"
   ]
  },
  {
   "cell_type": "code",
   "execution_count": 9,
   "id": "5c6a3cab-4e20-4975-a167-7b7701448f6c",
   "metadata": {},
   "outputs": [
    {
     "data": {
      "text/plain": [
       "'Hello from the other side.'"
      ]
     },
     "execution_count": 9,
     "metadata": {},
     "output_type": "execute_result"
    }
   ],
   "source": [
    "s"
   ]
  },
  {
   "cell_type": "code",
   "execution_count": 10,
   "id": "40d58dab-82f2-4da1-af6c-ac5df0ce386f",
   "metadata": {},
   "outputs": [
    {
     "data": {
      "text/plain": [
       "['a', '', 'le']"
      ]
     },
     "execution_count": 10,
     "metadata": {},
     "output_type": "execute_result"
    }
   ],
   "source": [
    "'apple'.split('p')"
   ]
  },
  {
   "cell_type": "code",
   "execution_count": 11,
   "id": "97e38386-801b-4ce5-b1c5-60df51fefbde",
   "metadata": {},
   "outputs": [
    {
     "data": {
      "text/plain": [
       "['11', 'oct', '2023']"
      ]
     },
     "execution_count": 11,
     "metadata": {},
     "output_type": "execute_result"
    }
   ],
   "source": [
    "date = '11-oct-2023'\n",
    "date = date.split('-')\n",
    "date"
   ]
  },
  {
   "cell_type": "code",
   "execution_count": 12,
   "id": "92dcb3c6-088e-4a5b-97dc-52474fc9365f",
   "metadata": {},
   "outputs": [],
   "source": [
    "day = date[0]\n",
    "month = date[1]\n",
    "year = date[2]"
   ]
  },
  {
   "cell_type": "code",
   "execution_count": 13,
   "id": "b9f4dce7-e571-4852-bf1e-5e94fa4cdc35",
   "metadata": {},
   "outputs": [
    {
     "name": "stdout",
     "output_type": "stream",
     "text": [
      "Today is 11 of oct, 2023\n"
     ]
    }
   ],
   "source": [
    "message = f'Today is {day} of {month}, {year}'\n",
    "print(message)"
   ]
  },
  {
   "cell_type": "code",
   "execution_count": 14,
   "id": "b7042802-f674-42c5-b926-531b71055e1a",
   "metadata": {},
   "outputs": [],
   "source": [
    "user = 'i_am_groot'"
   ]
  },
  {
   "cell_type": "code",
   "execution_count": 15,
   "id": "ebda517c-cac0-48ad-9b14-071b8ace977f",
   "metadata": {},
   "outputs": [],
   "source": [
    "new_user = user.split('_')"
   ]
  },
  {
   "cell_type": "code",
   "execution_count": 16,
   "id": "43dacacb-7e69-4a93-a92b-47870c1ea15d",
   "metadata": {},
   "outputs": [
    {
     "data": {
      "text/plain": [
       "['i', 'am', 'groot']"
      ]
     },
     "execution_count": 16,
     "metadata": {},
     "output_type": "execute_result"
    }
   ],
   "source": [
    "new_user"
   ]
  },
  {
   "cell_type": "code",
   "execution_count": 17,
   "id": "ff9d8081-2f40-4d6b-bc62-3dd4e12e735e",
   "metadata": {},
   "outputs": [
    {
     "name": "stdout",
     "output_type": "stream",
     "text": [
      "i am groot\n"
     ]
    }
   ],
   "source": [
    "print(f'{new_user[0]} {new_user[1]} {new_user[2]}')"
   ]
  },
  {
   "cell_type": "code",
   "execution_count": 18,
   "id": "79f775e5-3661-4647-aa93-ea0e3db00090",
   "metadata": {},
   "outputs": [
    {
     "data": {
      "text/plain": [
       "'i_am_groot'"
      ]
     },
     "execution_count": 18,
     "metadata": {},
     "output_type": "execute_result"
    }
   ],
   "source": [
    "user"
   ]
  },
  {
   "cell_type": "code",
   "execution_count": 19,
   "id": "a5cc7f30-6348-46b5-922e-917f67287bfb",
   "metadata": {},
   "outputs": [
    {
     "data": {
      "text/plain": [
       "'i am groot'"
      ]
     },
     "execution_count": 19,
     "metadata": {},
     "output_type": "execute_result"
    }
   ],
   "source": [
    "user.replace('_', ' ')\n",
    "# replace(old_value, new_value)"
   ]
  },
  {
   "cell_type": "code",
   "execution_count": 20,
   "id": "2848c173-1b0b-4d02-8379-b14927ff509c",
   "metadata": {},
   "outputs": [],
   "source": [
    "s = 'This is a string. This string is a single line string.'"
   ]
  },
  {
   "cell_type": "code",
   "execution_count": 21,
   "id": "d3342496-74b9-48f4-bbac-35b6f4678dbe",
   "metadata": {},
   "outputs": [
    {
     "name": "stdout",
     "output_type": "stream",
     "text": [
      "\n",
      "This is a multi line string.\n",
      "This can hold multiple lines of string.\n",
      "this is a line.\n",
      "this in another line.\n",
      "\n"
     ]
    }
   ],
   "source": [
    "multi_line_string = '''\n",
    "This is a multi line string.\n",
    "This can hold multiple lines of string.\n",
    "this is a line.\n",
    "this in another line.\n",
    "'''\n",
    "print(multi_line_string)"
   ]
  },
  {
   "cell_type": "code",
   "execution_count": 22,
   "id": "12dd7d27-ec4c-4b76-adcb-162b5632c95b",
   "metadata": {},
   "outputs": [
    {
     "name": "stdout",
     "output_type": "stream",
     "text": [
      "This is a multi line string.\n",
      "This can hold multiple lines of string.\n",
      "this is a line.\n",
      "this in another line.\n"
     ]
    }
   ],
   "source": [
    "multi_line_string = multi_line_string.strip()\n",
    "print(multi_line_string)"
   ]
  },
  {
   "cell_type": "code",
   "execution_count": 23,
   "id": "c89d739a-7cd9-43f6-9b59-210f3191bdd5",
   "metadata": {},
   "outputs": [
    {
     "name": "stdout",
     "output_type": "stream",
     "text": [
      "his is a multi line string.\n",
      "This can hold multiple lines of string.\n",
      "this is a line.\n",
      "this in another line.\n"
     ]
    }
   ],
   "source": [
    "multi_line_string = multi_line_string.strip('T')\n",
    "print(multi_line_string)"
   ]
  },
  {
   "cell_type": "code",
   "execution_count": 24,
   "id": "e52edffd-af7e-47da-97d7-5f43434e5b56",
   "metadata": {},
   "outputs": [
    {
     "data": {
      "text/plain": [
       "'I am feeling hangry. I want a plate of MoMo and a bottle of coke.'"
      ]
     },
     "execution_count": 24,
     "metadata": {},
     "output_type": "execute_result"
    }
   ],
   "source": [
    "new_String = 'I am feeling hangry. I want a plate of MoMo and a bottle of coke.'\n",
    "new_String"
   ]
  },
  {
   "cell_type": "code",
   "execution_count": 25,
   "id": "679bcfa1-4ba5-490a-a714-d1a88474e254",
   "metadata": {},
   "outputs": [
    {
     "data": {
      "text/plain": [
       "['I',\n",
       " 'AM',\n",
       " 'FEELING',\n",
       " 'HANGRY.',\n",
       " 'I',\n",
       " 'WANT',\n",
       " 'A',\n",
       " 'PLATE',\n",
       " 'OF',\n",
       " 'MOMO',\n",
       " 'AND',\n",
       " 'A',\n",
       " 'BOTTLE',\n",
       " 'OF',\n",
       " 'COKE.']"
      ]
     },
     "execution_count": 25,
     "metadata": {},
     "output_type": "execute_result"
    }
   ],
   "source": [
    "new_String.upper().split()"
   ]
  },
  {
   "cell_type": "code",
   "execution_count": 26,
   "id": "5aef3071-8745-4e57-ad4d-79c0c88fdd9c",
   "metadata": {},
   "outputs": [
    {
     "data": {
      "text/plain": [
       "['i',\n",
       " 'am',\n",
       " 'feeling',\n",
       " 'hangry.',\n",
       " 'i',\n",
       " 'want',\n",
       " 'a',\n",
       " 'plate',\n",
       " 'of',\n",
       " 'momo',\n",
       " 'and',\n",
       " 'a',\n",
       " 'bottle',\n",
       " 'of',\n",
       " 'coke.']"
      ]
     },
     "execution_count": 26,
     "metadata": {},
     "output_type": "execute_result"
    }
   ],
   "source": [
    "new_String.lower().split()"
   ]
  },
  {
   "cell_type": "code",
   "execution_count": 28,
   "id": "fc160cb6-2a57-48b7-bfc5-504b18d63e8c",
   "metadata": {},
   "outputs": [
    {
     "data": {
      "text/plain": [
       "('Hari', 'Bahadur')"
      ]
     },
     "execution_count": 28,
     "metadata": {},
     "output_type": "execute_result"
    }
   ],
   "source": [
    "name = 'Hari Bahadur'\n",
    "name = name.split()\n",
    "fname = name[0]\n",
    "lname = name[1]\n",
    "fname, lname"
   ]
  },
  {
   "cell_type": "markdown",
   "id": "3e01ae4f-6f60-4fbc-bcaf-e86cea53bdd7",
   "metadata": {},
   "source": [
    "# User Input"
   ]
  },
  {
   "cell_type": "code",
   "execution_count": 31,
   "id": "10f1d92a-a427-4959-836e-01d8b7e8d0ea",
   "metadata": {},
   "outputs": [
    {
     "name": "stdin",
     "output_type": "stream",
     "text": [
      "Enter your name:  Hari bahadur\n"
     ]
    },
    {
     "name": "stdout",
     "output_type": "stream",
     "text": [
      "Hello to you Hari bahadur\n"
     ]
    }
   ],
   "source": [
    "user_name = input('Enter your name: ')\n",
    "print(f'Hello to you {user_name}')"
   ]
  },
  {
   "cell_type": "code",
   "execution_count": 33,
   "id": "8e699ded-5f15-48b3-bb2a-58b62e6ef55b",
   "metadata": {},
   "outputs": [
    {
     "name": "stdin",
     "output_type": "stream",
     "text": [
      "Enter number 1:  45\n",
      "Enter number 2:  52\n"
     ]
    },
    {
     "data": {
      "text/plain": [
       "97.0"
      ]
     },
     "execution_count": 33,
     "metadata": {},
     "output_type": "execute_result"
    }
   ],
   "source": [
    "num1 = input('Enter number 1: ')\n",
    "num1 = float(num1)\n",
    "num2 = input('Enter number 2: ')\n",
    "num2 = float(num2)\n",
    "num1 + num2"
   ]
  },
  {
   "cell_type": "markdown",
   "id": "e2ee9d8c-c3fb-4397-b4fb-fdcd311aa7b7",
   "metadata": {},
   "source": []
  },
  {
   "cell_type": "code",
   "execution_count": 41,
   "id": "5da902d6-2e3b-409d-bd37-95c50195bcde",
   "metadata": {},
   "outputs": [
    {
     "name": "stdin",
     "output_type": "stream",
     "text": [
      "Enter your full name:  Mithai lal Yadav\n"
     ]
    }
   ],
   "source": [
    "name = input('Enter your full name: ')"
   ]
  },
  {
   "cell_type": "code",
   "execution_count": 42,
   "id": "44c1d25b-ab22-4623-a447-46b48479637b",
   "metadata": {},
   "outputs": [
    {
     "data": {
      "text/plain": [
       "['Mithai', 'lal', 'Yadav']"
      ]
     },
     "execution_count": 42,
     "metadata": {},
     "output_type": "execute_result"
    }
   ],
   "source": [
    "name = name.split()\n",
    "name"
   ]
  },
  {
   "cell_type": "code",
   "execution_count": 43,
   "id": "ff8f45e1-4925-4ec7-afd5-45d0241cef73",
   "metadata": {},
   "outputs": [
    {
     "name": "stdout",
     "output_type": "stream",
     "text": [
      "First name: Mithai, Last name: Yadav\n"
     ]
    }
   ],
   "source": [
    "fname = name[0]\n",
    "lname = name[-1]\n",
    "print(f'First name: {fname}, Last name: {lname}')"
   ]
  },
  {
   "cell_type": "markdown",
   "id": "38eec4e8-72db-4eef-b317-348909e23d8d",
   "metadata": {},
   "source": [
    "# Exceptetion(Error) Handling\n",
    "\n",
    "```python\n",
    "try:\n",
    "    codes_with_possible_error\n",
    "except (error_type):\n",
    "    error_handling_code\n",
    "```"
   ]
  },
  {
   "cell_type": "code",
   "execution_count": 47,
   "id": "65a11f54-f30c-48e8-8227-0bcabd3b47e9",
   "metadata": {},
   "outputs": [
    {
     "name": "stdin",
     "output_type": "stream",
     "text": [
      "Enter number 1:  45\n",
      "Enter number 2:  0\n"
     ]
    },
    {
     "name": "stdout",
     "output_type": "stream",
     "text": [
      "45.0 + 0.0 = 45.0\n",
      "45.0 - 0.0 = 45.0\n",
      "45.0 X 0.0 = 0.0\n",
      "Cannot Divide by Zero!!!\n"
     ]
    }
   ],
   "source": [
    "num1 = input('Enter number 1: ')\n",
    "num1 = float(num1)\n",
    "num2 = input('Enter number 2: ')\n",
    "num2 = float(num2)\n",
    "\n",
    "print(f'{num1} + {num2} = {num1 + num2}')\n",
    "print(f'{num1} - {num2} = {num1 - num2}')\n",
    "print(f'{num1} X {num2} = {num1 * num2}')\n",
    "try:\n",
    "    print(f'{num1} / {num2} = {num1 / num2}')\n",
    "except (ZeroDivisionError):\n",
    "    print('Cannot Divide by Zero!!!')"
   ]
  },
  {
   "cell_type": "code",
   "execution_count": 56,
   "id": "47a35527-7050-4800-bd0e-1f05e5bc546f",
   "metadata": {},
   "outputs": [
    {
     "name": "stdin",
     "output_type": "stream",
     "text": [
      "Enter Number 1 and Number 2:  6543 0\n"
     ]
    },
    {
     "name": "stdout",
     "output_type": "stream",
     "text": [
      "6543.0 + 0.0 = 6543.0\n",
      "6543.0 - 0.0 = 6543.0\n",
      "6543.0 X 0.0 = 0.0\n",
      "Cannot Divide by Zero!!!\n"
     ]
    }
   ],
   "source": [
    "numbers = input('Enter Number 1 and Number 2: ')\n",
    "numbers = numbers.split()\n",
    "\n",
    "num1 = numbers[0]\n",
    "try:\n",
    "    num2 = numbers[1]\n",
    "except IndexError:\n",
    "    print('Second Number not provided')\n",
    "    print('Assiging num1 instead')\n",
    "    num2 = num1\n",
    "    \n",
    "num1 = float(num1)\n",
    "num2 = float(num2)\n",
    "\n",
    "print(f'{num1} + {num2} = {num1 + num2}')\n",
    "print(f'{num1} - {num2} = {num1 - num2}')\n",
    "print(f'{num1} X {num2} = {num1 * num2}')\n",
    "try:\n",
    "    print(f'{num1} / {num2} = {num1 / num2}')\n",
    "except (ZeroDivisionError):\n",
    "    print('Cannot Divide by Zero!!!')"
   ]
  },
  {
   "cell_type": "code",
   "execution_count": 52,
   "id": "6519a6cd-2aa9-48fc-9bf5-4a7144335352",
   "metadata": {},
   "outputs": [
    {
     "data": {
      "text/plain": [
       "['45']"
      ]
     },
     "execution_count": 52,
     "metadata": {},
     "output_type": "execute_result"
    }
   ],
   "source": [
    "'45'.split()"
   ]
  },
  {
   "cell_type": "code",
   "execution_count": 57,
   "id": "725c6ff7-297b-4bdd-934b-24eb0f8e6368",
   "metadata": {},
   "outputs": [],
   "source": [
    "l = ['a', 'e', 'i', 'o', 'u']"
   ]
  },
  {
   "cell_type": "code",
   "execution_count": 60,
   "id": "78869196-d720-4f4c-9f28-1037d1ee9a62",
   "metadata": {},
   "outputs": [
    {
     "name": "stdin",
     "output_type": "stream",
     "text": [
      "Enetr Index:  3\n"
     ]
    },
    {
     "name": "stdout",
     "output_type": "stream",
     "text": [
      "o\n",
      "1.6666666666666667\n"
     ]
    }
   ],
   "source": [
    "ind = input('Enetr Index: ')\n",
    "ind = int(ind)\n",
    "\n",
    "try:\n",
    "    print(l[ind])\n",
    "    print(len(l) / ind)\n",
    "except (ZeroDivisionError, IndexError):\n",
    "    print('Either index might be zero, or it might be out of range')"
   ]
  },
  {
   "cell_type": "code",
   "execution_count": 67,
   "id": "0a095df9-25e6-419b-990a-e079aff4cbab",
   "metadata": {},
   "outputs": [
    {
     "name": "stdin",
     "output_type": "stream",
     "text": [
      "Enetr Index:  5\n"
     ]
    },
    {
     "name": "stdout",
     "output_type": "stream",
     "text": [
      "Index out of range\n"
     ]
    }
   ],
   "source": [
    "ind = input('Enetr Index: ')\n",
    "ind = int(ind)\n",
    "\n",
    "try:\n",
    "    print(l[ind])\n",
    "    print(len(l) / ind)\n",
    "except ZeroDivisionError:\n",
    "    print('Index equals to zero')\n",
    "except IndexError:\n",
    "    print('Index out of range')\n",
    "except TypeError:\n",
    "    print(f'Expected data type int, got {type(ind)} instead')"
   ]
  },
  {
   "cell_type": "markdown",
   "id": "e2031909-79ca-4a63-81e1-35731e046142",
   "metadata": {},
   "source": [
    "# Branching/Flow control\n",
    "```python\n",
    "if condition_true:\n",
    "    if_block_statements\n",
    "else:\n",
    "    else_block_statements\n",
    "```"
   ]
  },
  {
   "cell_type": "code",
   "execution_count": 69,
   "id": "9e552c51-b405-49a3-9f3e-0a6bfa5a448e",
   "metadata": {},
   "outputs": [
    {
     "name": "stdout",
     "output_type": "stream",
     "text": [
      "The number is not 5\n"
     ]
    }
   ],
   "source": [
    "number = 4655\n",
    "\n",
    "if number == 5:\n",
    "    print('The number is 5')\n",
    "else:\n",
    "    print('The number is not 5')"
   ]
  },
  {
   "cell_type": "code",
   "execution_count": 74,
   "id": "ac5fbef5-ae4e-414a-aa19-124b6fb4ff40",
   "metadata": {},
   "outputs": [
    {
     "name": "stdout",
     "output_type": "stream",
     "text": [
      "The number is less than 5\n"
     ]
    }
   ],
   "source": [
    "number = -64546\n",
    "\n",
    "if number == 5:\n",
    "    print('The number is 5')\n",
    "elif number > 5:\n",
    "    print('The number is greather than 5')\n",
    "else :\n",
    "    print('The number is less than 5')"
   ]
  },
  {
   "cell_type": "code",
   "execution_count": null,
   "id": "4e5e6524-23e4-493b-a249-4791a27e3a36",
   "metadata": {},
   "outputs": [],
   "source": []
  }
 ],
 "metadata": {
  "kernelspec": {
   "display_name": "Python 3 (ipykernel)",
   "language": "python",
   "name": "python3"
  },
  "language_info": {
   "codemirror_mode": {
    "name": "ipython",
    "version": 3
   },
   "file_extension": ".py",
   "mimetype": "text/x-python",
   "name": "python",
   "nbconvert_exporter": "python",
   "pygments_lexer": "ipython3",
   "version": "3.10.11"
  }
 },
 "nbformat": 4,
 "nbformat_minor": 5
}
