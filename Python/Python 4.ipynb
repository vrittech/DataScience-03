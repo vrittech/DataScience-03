{
 "cells": [
  {
   "cell_type": "markdown",
   "id": "2a1ea822-6179-48eb-928c-f44f44de189b",
   "metadata": {},
   "source": [
    "# Branching Contd."
   ]
  },
  {
   "cell_type": "code",
   "execution_count": 1,
   "id": "2f3910cc-27b9-4b06-a7cc-780aa1c391ad",
   "metadata": {},
   "outputs": [
    {
     "name": "stdin",
     "output_type": "stream",
     "text": [
      "Enter some random string:  46564\n"
     ]
    },
    {
     "name": "stdout",
     "output_type": "stream",
     "text": [
      "46564 is a palindrome\n"
     ]
    }
   ],
   "source": [
    "# Palindrome Checker\n",
    "user_string = input('Enter some random string: ')\n",
    "\n",
    "if user_string == user_string[::-1]:\n",
    "    print(f'{user_string} is a palindrome')\n",
    "else:\n",
    "    print(f'{user_string} is not a palindrome')"
   ]
  },
  {
   "cell_type": "code",
   "execution_count": 2,
   "id": "00fbdba7-60b6-4f81-a306-74ddc8a35e41",
   "metadata": {},
   "outputs": [
    {
     "name": "stdin",
     "output_type": "stream",
     "text": [
      "Enter a day:  sun\n"
     ]
    },
    {
     "name": "stdout",
     "output_type": "stream",
     "text": [
      "Today is sunday\n"
     ]
    }
   ],
   "source": [
    "# program to print day of thr week based on user input\n",
    "day = input('Enter a day: ')\n",
    "day = day.lower()\n",
    "\n",
    "if day == 'sun':\n",
    "    print(f'Today is {day}day')\n",
    "elif day == 'mon':\n",
    "    print(f'Today is {day}day')\n",
    "elif day == 'tue':\n",
    "    print(f'Today is {day}sday')\n",
    "elif day == 'wed':\n",
    "    print(f'Today is {day}nesday')\n",
    "elif day == 'thurs':\n",
    "    print(f'Today is {day}day')\n",
    "elif day == 'fri':\n",
    "    print(f'Today is {day}day')\n",
    "elif day == 'sat':\n",
    "    print(f'Today is {day}urday')\n",
    "else:\n",
    "    print('Invalid input!!!!!')"
   ]
  },
  {
   "cell_type": "markdown",
   "id": "c66cf4c0-7d4c-466f-b95d-583511f2ce7a",
   "metadata": {},
   "source": [
    "```python\n",
    "if percentage < 40:\n",
    "    print('Failed successfully')\n",
    "if percentage > 40:\n",
    "    print('Third division')\n",
    "if percentage > 50:\n",
    "    print('Second division')\n",
    "if percentage > 60:\n",
    "    print('First Division')\n",
    "if percentage > 80:\n",
    "    print('First division with disticntion')\n",
    "if percentage > 100 or percentage < 0:\n",
    "    print('Out of range')\n",
    "```"
   ]
  },
  {
   "cell_type": "code",
   "execution_count": 3,
   "id": "9bfb03c5-f92a-4355-88f0-602d63301d03",
   "metadata": {},
   "outputs": [
    {
     "name": "stdin",
     "output_type": "stream",
     "text": [
      "Enter your percentage:  88.8\n"
     ]
    },
    {
     "name": "stdout",
     "output_type": "stream",
     "text": [
      "Bravo!!!, First division with distinction\n"
     ]
    }
   ],
   "source": [
    "percentage = input('Enter your percentage: ')\n",
    "percentage = float(percentage)\n",
    "\n",
    "if percentage > 100 or percentage < 0:\n",
    "    print('Out of range')\n",
    "elif percentage >=80:\n",
    "    print('Bravo!!!, First division with distinction')\n",
    "elif percentage >= 60:\n",
    "    print('Good job, First Division')\n",
    "elif percentage >= 50:\n",
    "    print('Nice, Second Division')\n",
    "elif percentage >= 40:\n",
    "    print('Third Division')\n",
    "else:\n",
    "    print('Kakratulation!! You failed sucessfully')"
   ]
  },
  {
   "cell_type": "markdown",
   "id": "bd306cad-1fee-455d-a8e0-598af5b7080a",
   "metadata": {},
   "source": [
    "# Iterables"
   ]
  },
  {
   "cell_type": "code",
   "execution_count": 4,
   "id": "9383f3bb-327b-44f7-a515-4099df89b475",
   "metadata": {},
   "outputs": [],
   "source": [
    "l = [45, 89, 56, 45, 12]"
   ]
  },
  {
   "cell_type": "code",
   "execution_count": 5,
   "id": "d683e303-7f9e-4a99-b611-05eb2c8f5251",
   "metadata": {},
   "outputs": [
    {
     "data": {
      "text/plain": [
       "range(0, 50, 5)"
      ]
     },
     "execution_count": 5,
     "metadata": {},
     "output_type": "execute_result"
    }
   ],
   "source": [
    "range(0, 50, 5)"
   ]
  },
  {
   "cell_type": "code",
   "execution_count": 6,
   "id": "e1d56be9-bd90-4e37-b25c-ccff09fbab0c",
   "metadata": {},
   "outputs": [
    {
     "data": {
      "text/plain": [
       "[0, 5, 10, 15, 20, 25, 30, 35, 40, 45]"
      ]
     },
     "execution_count": 6,
     "metadata": {},
     "output_type": "execute_result"
    }
   ],
   "source": [
    "# range(start, stop, step)\n",
    "\n",
    "list(range(0, 50, 5))"
   ]
  },
  {
   "cell_type": "code",
   "execution_count": 7,
   "id": "2bba3d61-23ae-4e96-983f-553601fc371a",
   "metadata": {},
   "outputs": [
    {
     "data": {
      "text/plain": [
       "[0, 1, 2, 3, 4, 5, 6, 7, 8, 9]"
      ]
     },
     "execution_count": 7,
     "metadata": {},
     "output_type": "execute_result"
    }
   ],
   "source": [
    "list(range(10))"
   ]
  },
  {
   "cell_type": "markdown",
   "id": "258a9d46-3693-433d-a5e9-f35eed979829",
   "metadata": {},
   "source": [
    "# Looping"
   ]
  },
  {
   "cell_type": "markdown",
   "id": "ce01983a-bb86-40d2-8e1f-05283e4c4978",
   "metadata": {},
   "source": [
    "## while loop\n",
    "```python\n",
    "while Condition:\n",
    "    satements\n",
    "\n",
    "```"
   ]
  },
  {
   "cell_type": "code",
   "execution_count": 8,
   "id": "8cd04274-a1c1-441d-bbf0-bd78ca5fbb8e",
   "metadata": {},
   "outputs": [
    {
     "name": "stdout",
     "output_type": "stream",
     "text": [
      "0\n",
      "1\n",
      "2\n",
      "3\n",
      "4\n"
     ]
    }
   ],
   "source": [
    "i = 0\n",
    "\n",
    "while i < 5:\n",
    "    print(i)\n",
    "    i = i + 1"
   ]
  },
  {
   "cell_type": "markdown",
   "id": "392bc54a-94f3-4cdf-9c67-3b34c3d6038f",
   "metadata": {},
   "source": [
    "**There is no do-while loop in python**, But it can be emulated bu doing some work around."
   ]
  },
  {
   "cell_type": "code",
   "execution_count": 9,
   "id": "cc07d729-27da-46d9-b1b5-cc9e910b04ac",
   "metadata": {},
   "outputs": [
    {
     "data": {
      "text/plain": [
       "True"
      ]
     },
     "execution_count": 9,
     "metadata": {},
     "output_type": "execute_result"
    }
   ],
   "source": [
    "0 == 0"
   ]
  },
  {
   "cell_type": "code",
   "execution_count": 10,
   "id": "30b75501-31d5-4e6f-98c5-b3454f31f3ac",
   "metadata": {},
   "outputs": [
    {
     "name": "stdout",
     "output_type": "stream",
     "text": [
      "0\n",
      "1\n",
      "2\n",
      "3\n",
      "4\n",
      "5\n"
     ]
    }
   ],
   "source": [
    "i = 0\n",
    "while True:\n",
    "    print(i)\n",
    "    i += 1\n",
    "    if i > 5:\n",
    "        break\n",
    "# Emulating do while loop"
   ]
  },
  {
   "cell_type": "code",
   "execution_count": 11,
   "id": "4dd4cc04-33b2-41b5-b186-f1b455cdf18d",
   "metadata": {},
   "outputs": [
    {
     "data": {
      "text/plain": [
       "[45, 89, 56, 45, 12]"
      ]
     },
     "execution_count": 11,
     "metadata": {},
     "output_type": "execute_result"
    }
   ],
   "source": [
    "l"
   ]
  },
  {
   "cell_type": "code",
   "execution_count": 12,
   "id": "2e6ed6b5-8b0b-4cdd-b63d-ef50b4d5c9dc",
   "metadata": {},
   "outputs": [
    {
     "name": "stdout",
     "output_type": "stream",
     "text": [
      "45\n",
      "89\n",
      "56\n",
      "45\n",
      "12\n"
     ]
    }
   ],
   "source": [
    "for i in l:\n",
    "    print(i)"
   ]
  },
  {
   "cell_type": "code",
   "execution_count": 13,
   "id": "c8d8a53f-41fb-40b0-9734-9ad685d26f71",
   "metadata": {},
   "outputs": [
    {
     "name": "stdout",
     "output_type": "stream",
     "text": [
      "This is : a\n",
      "This is : e\n",
      "This is : i\n",
      "This is : o\n",
      "This is : u\n"
     ]
    }
   ],
   "source": [
    "vowels = ['a', 'e', 'i', 'o', 'u']\n",
    "for i in vowels:\n",
    "    print(f'This is : {i}')"
   ]
  },
  {
   "cell_type": "code",
   "execution_count": 15,
   "id": "2cdddc2f-3ad8-428e-baad-cfa4cdfff633",
   "metadata": {},
   "outputs": [
    {
     "name": "stdout",
     "output_type": "stream",
     "text": [
      "a\n",
      "e\n",
      "i\n",
      "o\n",
      "u\n"
     ]
    }
   ],
   "source": [
    "i = 0\n",
    "while i < len(vowels):\n",
    "    print(vowels[i])\n",
    "    i += 1"
   ]
  },
  {
   "cell_type": "code",
   "execution_count": 16,
   "id": "3b326fba-5838-4693-a6e1-b2f78a4a33d1",
   "metadata": {},
   "outputs": [
    {
     "name": "stdout",
     "output_type": "stream",
     "text": [
      "0\n",
      "1\n",
      "2\n",
      "3\n",
      "4\n"
     ]
    }
   ],
   "source": [
    "for i in range(5):\n",
    "    print(i)"
   ]
  },
  {
   "cell_type": "code",
   "execution_count": 17,
   "id": "10a3f2f8-0739-4578-9fcd-391d8d6d345c",
   "metadata": {},
   "outputs": [
    {
     "data": {
      "text/plain": [
       "'l'"
      ]
     },
     "execution_count": 17,
     "metadata": {},
     "output_type": "execute_result"
    }
   ],
   "source": [
    "x = 'hello'\n",
    "x[2]"
   ]
  },
  {
   "cell_type": "code",
   "execution_count": 18,
   "id": "97ba4290-fbef-4ac2-b638-002a009c1839",
   "metadata": {},
   "outputs": [
    {
     "name": "stdout",
     "output_type": "stream",
     "text": [
      "h\n",
      "e\n",
      "l\n",
      "l\n",
      "o\n"
     ]
    }
   ],
   "source": [
    "for i in 'hello':\n",
    "    print(i)"
   ]
  },
  {
   "cell_type": "code",
   "execution_count": 23,
   "id": "14cded1f-8214-42a7-a62b-978a8ab47442",
   "metadata": {},
   "outputs": [
    {
     "name": "stdout",
     "output_type": "stream",
     "text": [
      "2\n",
      "4\n",
      "6\n",
      "8\n",
      "10\n",
      "12\n",
      "14\n",
      "16\n",
      "18\n",
      "20\n"
     ]
    }
   ],
   "source": [
    "# Printing even numbers using while loop and for loop\n",
    "for i in range(2, 21, 2):\n",
    "    print(i)"
   ]
  },
  {
   "cell_type": "code",
   "execution_count": 24,
   "id": "295d1386-edb5-4abd-bdc1-d6be397f4b86",
   "metadata": {},
   "outputs": [
    {
     "name": "stdout",
     "output_type": "stream",
     "text": [
      "2\n",
      "4\n",
      "6\n",
      "8\n",
      "10\n",
      "12\n",
      "14\n",
      "16\n",
      "18\n",
      "20\n"
     ]
    }
   ],
   "source": [
    "i = 2\n",
    "while i <= 20:\n",
    "    print(i)\n",
    "    i += 2"
   ]
  },
  {
   "cell_type": "code",
   "execution_count": 25,
   "id": "fac1c2b8-10e6-454b-be27-2fe6abaf377f",
   "metadata": {},
   "outputs": [
    {
     "name": "stdin",
     "output_type": "stream",
     "text": [
      "Enetr your name:  Hari Bahadur\n"
     ]
    },
    {
     "name": "stdout",
     "output_type": "stream",
     "text": [
      "You are the winner\n"
     ]
    }
   ],
   "source": [
    "teacher_name = 'Hari Bahadur'\n",
    "\n",
    "name = input('Enetr your name: ')\n",
    "if name == teacher_name:\n",
    "    print('You are the winner')\n",
    "else:\n",
    "    print('You loose the game')"
   ]
  },
  {
   "cell_type": "markdown",
   "id": "c28b71e0-f1a3-4cfd-8579-055b0e98e335",
   "metadata": {},
   "source": [
    "```\n",
    "1\n",
    "1 2\n",
    "1 2 3\n",
    "1 2 3 4\n",
    "1 2 3 4 5\n",
    "```"
   ]
  },
  {
   "cell_type": "code",
   "execution_count": 28,
   "id": "9b658369-6d79-4967-802a-6a92be9be93c",
   "metadata": {},
   "outputs": [
    {
     "name": "stdout",
     "output_type": "stream",
     "text": [
      "1  \n",
      "1 2  \n",
      "1 2 3  \n",
      "1 2 3 4  \n",
      "1 2 3 4 5  \n"
     ]
    }
   ],
   "source": [
    "row = 5\n",
    "for i in range(1, row+1):\n",
    "    for j in range(1, i+1):\n",
    "        print(j, end=' ')\n",
    "    print(' ')"
   ]
  },
  {
   "cell_type": "code",
   "execution_count": null,
   "id": "00e065bc-fb75-403f-9f61-f243d16094e3",
   "metadata": {},
   "outputs": [],
   "source": []
  }
 ],
 "metadata": {
  "kernelspec": {
   "display_name": "Python 3 (ipykernel)",
   "language": "python",
   "name": "python3"
  },
  "language_info": {
   "codemirror_mode": {
    "name": "ipython",
    "version": 3
   },
   "file_extension": ".py",
   "mimetype": "text/x-python",
   "name": "python",
   "nbconvert_exporter": "python",
   "pygments_lexer": "ipython3",
   "version": "3.10.11"
  }
 },
 "nbformat": 4,
 "nbformat_minor": 5
}
